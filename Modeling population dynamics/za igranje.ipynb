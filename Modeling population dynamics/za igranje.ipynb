{
 "cells": [
  {
   "cell_type": "code",
   "execution_count": 16,
   "metadata": {},
   "outputs": [],
   "source": [
    "import pandas as pd\n",
    "import numpy as np\n",
    "from scipy.optimize import curve_fit, minimize, minimize_scalar, least_squares\n",
    "from scipy.integrate import odeint\n",
    "import matplotlib.pyplot as plt\n",
    "plt.style.use('seaborn')"
   ]
  },
  {
   "cell_type": "code",
   "execution_count": 17,
   "metadata": {},
   "outputs": [],
   "source": [
    "# Fitting function\n",
    "def logistic_growth(t, K, r, N0):\n",
    "    return K / (1 + ((K-N0)/N0)*np.exp(-r*t))"
   ]
  },
  {
   "cell_type": "markdown",
   "metadata": {},
   "source": [
    "### II. Модел за интерспециска конкуренција - Експеримент на Gause со Paramecium <a class=\"anchor\" id=\"chapter2\"></a>\n",
    "#### II.1 Интраспециска конкуренција на P. aurelia и P. caudatum <a class=\"anchor\" id=\"section_2_1\"></a>"
   ]
  },
  {
   "cell_type": "code",
   "execution_count": 3,
   "metadata": {
    "scrolled": false
   },
   "outputs": [
    {
     "data": {
      "text/html": [
       "<div>\n",
       "<style scoped>\n",
       "    .dataframe tbody tr th:only-of-type {\n",
       "        vertical-align: middle;\n",
       "    }\n",
       "\n",
       "    .dataframe tbody tr th {\n",
       "        vertical-align: top;\n",
       "    }\n",
       "\n",
       "    .dataframe thead th {\n",
       "        text-align: right;\n",
       "    }\n",
       "</style>\n",
       "<table border=\"1\" class=\"dataframe\">\n",
       "  <thead>\n",
       "    <tr style=\"text-align: right;\">\n",
       "      <th></th>\n",
       "      <th>Time</th>\n",
       "      <th>P. aurelia</th>\n",
       "      <th>P. caudatum</th>\n",
       "      <th>P. aurelia competition</th>\n",
       "      <th>P. caudatum competition</th>\n",
       "    </tr>\n",
       "  </thead>\n",
       "  <tbody>\n",
       "    <tr>\n",
       "      <th>0</th>\n",
       "      <td>0</td>\n",
       "      <td>2.0</td>\n",
       "      <td>2</td>\n",
       "      <td>2</td>\n",
       "      <td>2.0</td>\n",
       "    </tr>\n",
       "    <tr>\n",
       "      <th>1</th>\n",
       "      <td>1</td>\n",
       "      <td>3.0</td>\n",
       "      <td>5</td>\n",
       "      <td>4</td>\n",
       "      <td>8.0</td>\n",
       "    </tr>\n",
       "    <tr>\n",
       "      <th>2</th>\n",
       "      <td>2</td>\n",
       "      <td>29.0</td>\n",
       "      <td>22</td>\n",
       "      <td>29</td>\n",
       "      <td>20.0</td>\n",
       "    </tr>\n",
       "    <tr>\n",
       "      <th>3</th>\n",
       "      <td>3</td>\n",
       "      <td>92.0</td>\n",
       "      <td>16</td>\n",
       "      <td>66</td>\n",
       "      <td>25.0</td>\n",
       "    </tr>\n",
       "    <tr>\n",
       "      <th>4</th>\n",
       "      <td>4</td>\n",
       "      <td>173.0</td>\n",
       "      <td>39</td>\n",
       "      <td>141</td>\n",
       "      <td>24.0</td>\n",
       "    </tr>\n",
       "    <tr>\n",
       "      <th>5</th>\n",
       "      <td>5</td>\n",
       "      <td>210.0</td>\n",
       "      <td>52</td>\n",
       "      <td>162</td>\n",
       "      <td>NaN</td>\n",
       "    </tr>\n",
       "    <tr>\n",
       "      <th>6</th>\n",
       "      <td>6</td>\n",
       "      <td>210.0</td>\n",
       "      <td>54</td>\n",
       "      <td>219</td>\n",
       "      <td>NaN</td>\n",
       "    </tr>\n",
       "    <tr>\n",
       "      <th>7</th>\n",
       "      <td>7</td>\n",
       "      <td>240.0</td>\n",
       "      <td>47</td>\n",
       "      <td>153</td>\n",
       "      <td>NaN</td>\n",
       "    </tr>\n",
       "    <tr>\n",
       "      <th>8</th>\n",
       "      <td>8</td>\n",
       "      <td>NaN</td>\n",
       "      <td>50</td>\n",
       "      <td>162</td>\n",
       "      <td>21.0</td>\n",
       "    </tr>\n",
       "    <tr>\n",
       "      <th>9</th>\n",
       "      <td>9</td>\n",
       "      <td>NaN</td>\n",
       "      <td>26</td>\n",
       "      <td>150</td>\n",
       "      <td>15.0</td>\n",
       "    </tr>\n",
       "    <tr>\n",
       "      <th>10</th>\n",
       "      <td>10</td>\n",
       "      <td>240.0</td>\n",
       "      <td>69</td>\n",
       "      <td>175</td>\n",
       "      <td>12.0</td>\n",
       "    </tr>\n",
       "    <tr>\n",
       "      <th>11</th>\n",
       "      <td>11</td>\n",
       "      <td>219.0</td>\n",
       "      <td>51</td>\n",
       "      <td>260</td>\n",
       "      <td>9.0</td>\n",
       "    </tr>\n",
       "    <tr>\n",
       "      <th>12</th>\n",
       "      <td>12</td>\n",
       "      <td>255.0</td>\n",
       "      <td>57</td>\n",
       "      <td>276</td>\n",
       "      <td>12.0</td>\n",
       "    </tr>\n",
       "    <tr>\n",
       "      <th>13</th>\n",
       "      <td>13</td>\n",
       "      <td>252.0</td>\n",
       "      <td>70</td>\n",
       "      <td>285</td>\n",
       "      <td>6.0</td>\n",
       "    </tr>\n",
       "    <tr>\n",
       "      <th>14</th>\n",
       "      <td>14</td>\n",
       "      <td>270.0</td>\n",
       "      <td>53</td>\n",
       "      <td>225</td>\n",
       "      <td>9.0</td>\n",
       "    </tr>\n",
       "    <tr>\n",
       "      <th>15</th>\n",
       "      <td>15</td>\n",
       "      <td>240.0</td>\n",
       "      <td>59</td>\n",
       "      <td>222</td>\n",
       "      <td>3.0</td>\n",
       "    </tr>\n",
       "    <tr>\n",
       "      <th>16</th>\n",
       "      <td>16</td>\n",
       "      <td>249.0</td>\n",
       "      <td>57</td>\n",
       "      <td>220</td>\n",
       "      <td>0.0</td>\n",
       "    </tr>\n",
       "  </tbody>\n",
       "</table>\n",
       "</div>"
      ],
      "text/plain": [
       "    Time  P. aurelia  P. caudatum  P. aurelia competition  \\\n",
       "0      0         2.0            2                       2   \n",
       "1      1         3.0            5                       4   \n",
       "2      2        29.0           22                      29   \n",
       "3      3        92.0           16                      66   \n",
       "4      4       173.0           39                     141   \n",
       "5      5       210.0           52                     162   \n",
       "6      6       210.0           54                     219   \n",
       "7      7       240.0           47                     153   \n",
       "8      8         NaN           50                     162   \n",
       "9      9         NaN           26                     150   \n",
       "10    10       240.0           69                     175   \n",
       "11    11       219.0           51                     260   \n",
       "12    12       255.0           57                     276   \n",
       "13    13       252.0           70                     285   \n",
       "14    14       270.0           53                     225   \n",
       "15    15       240.0           59                     222   \n",
       "16    16       249.0           57                     220   \n",
       "\n",
       "    P. caudatum competition  \n",
       "0                       2.0  \n",
       "1                       8.0  \n",
       "2                      20.0  \n",
       "3                      25.0  \n",
       "4                      24.0  \n",
       "5                       NaN  \n",
       "6                       NaN  \n",
       "7                       NaN  \n",
       "8                      21.0  \n",
       "9                      15.0  \n",
       "10                     12.0  \n",
       "11                      9.0  \n",
       "12                     12.0  \n",
       "13                      6.0  \n",
       "14                      9.0  \n",
       "15                      3.0  \n",
       "16                      0.0  "
      ]
     },
     "execution_count": 3,
     "metadata": {},
     "output_type": "execute_result"
    }
   ],
   "source": [
    "pr = pd.read_csv('paramecium_data.txt', '\\t')\n",
    "pr"
   ]
  },
  {
   "cell_type": "code",
   "execution_count": 4,
   "metadata": {},
   "outputs": [],
   "source": [
    "pr['P. aurelia'] = pr['P. aurelia'].interpolate(method='nearest')\n",
    "pr['P. caudatum competition'] = pr['P. caudatum competition'].interpolate(method='nearest')"
   ]
  },
  {
   "cell_type": "code",
   "execution_count": 5,
   "metadata": {
    "scrolled": false
   },
   "outputs": [
    {
     "data": {
      "text/html": [
       "<div>\n",
       "<style scoped>\n",
       "    .dataframe tbody tr th:only-of-type {\n",
       "        vertical-align: middle;\n",
       "    }\n",
       "\n",
       "    .dataframe tbody tr th {\n",
       "        vertical-align: top;\n",
       "    }\n",
       "\n",
       "    .dataframe thead th {\n",
       "        text-align: right;\n",
       "    }\n",
       "</style>\n",
       "<table border=\"1\" class=\"dataframe\">\n",
       "  <thead>\n",
       "    <tr style=\"text-align: right;\">\n",
       "      <th></th>\n",
       "      <th>Time</th>\n",
       "      <th>P. aurelia</th>\n",
       "      <th>P. caudatum</th>\n",
       "      <th>P. aurelia competition</th>\n",
       "      <th>P. caudatum competition</th>\n",
       "    </tr>\n",
       "  </thead>\n",
       "  <tbody>\n",
       "    <tr>\n",
       "      <th>0</th>\n",
       "      <td>0</td>\n",
       "      <td>2.0</td>\n",
       "      <td>2</td>\n",
       "      <td>2</td>\n",
       "      <td>2.0</td>\n",
       "    </tr>\n",
       "    <tr>\n",
       "      <th>1</th>\n",
       "      <td>1</td>\n",
       "      <td>3.0</td>\n",
       "      <td>5</td>\n",
       "      <td>4</td>\n",
       "      <td>8.0</td>\n",
       "    </tr>\n",
       "    <tr>\n",
       "      <th>2</th>\n",
       "      <td>2</td>\n",
       "      <td>29.0</td>\n",
       "      <td>22</td>\n",
       "      <td>29</td>\n",
       "      <td>20.0</td>\n",
       "    </tr>\n",
       "    <tr>\n",
       "      <th>3</th>\n",
       "      <td>3</td>\n",
       "      <td>92.0</td>\n",
       "      <td>16</td>\n",
       "      <td>66</td>\n",
       "      <td>25.0</td>\n",
       "    </tr>\n",
       "    <tr>\n",
       "      <th>4</th>\n",
       "      <td>4</td>\n",
       "      <td>173.0</td>\n",
       "      <td>39</td>\n",
       "      <td>141</td>\n",
       "      <td>24.0</td>\n",
       "    </tr>\n",
       "    <tr>\n",
       "      <th>5</th>\n",
       "      <td>5</td>\n",
       "      <td>210.0</td>\n",
       "      <td>52</td>\n",
       "      <td>162</td>\n",
       "      <td>24.0</td>\n",
       "    </tr>\n",
       "    <tr>\n",
       "      <th>6</th>\n",
       "      <td>6</td>\n",
       "      <td>210.0</td>\n",
       "      <td>54</td>\n",
       "      <td>219</td>\n",
       "      <td>24.0</td>\n",
       "    </tr>\n",
       "    <tr>\n",
       "      <th>7</th>\n",
       "      <td>7</td>\n",
       "      <td>240.0</td>\n",
       "      <td>47</td>\n",
       "      <td>153</td>\n",
       "      <td>21.0</td>\n",
       "    </tr>\n",
       "    <tr>\n",
       "      <th>8</th>\n",
       "      <td>8</td>\n",
       "      <td>240.0</td>\n",
       "      <td>50</td>\n",
       "      <td>162</td>\n",
       "      <td>21.0</td>\n",
       "    </tr>\n",
       "    <tr>\n",
       "      <th>9</th>\n",
       "      <td>9</td>\n",
       "      <td>240.0</td>\n",
       "      <td>26</td>\n",
       "      <td>150</td>\n",
       "      <td>15.0</td>\n",
       "    </tr>\n",
       "    <tr>\n",
       "      <th>10</th>\n",
       "      <td>10</td>\n",
       "      <td>240.0</td>\n",
       "      <td>69</td>\n",
       "      <td>175</td>\n",
       "      <td>12.0</td>\n",
       "    </tr>\n",
       "    <tr>\n",
       "      <th>11</th>\n",
       "      <td>11</td>\n",
       "      <td>219.0</td>\n",
       "      <td>51</td>\n",
       "      <td>260</td>\n",
       "      <td>9.0</td>\n",
       "    </tr>\n",
       "    <tr>\n",
       "      <th>12</th>\n",
       "      <td>12</td>\n",
       "      <td>255.0</td>\n",
       "      <td>57</td>\n",
       "      <td>276</td>\n",
       "      <td>12.0</td>\n",
       "    </tr>\n",
       "    <tr>\n",
       "      <th>13</th>\n",
       "      <td>13</td>\n",
       "      <td>252.0</td>\n",
       "      <td>70</td>\n",
       "      <td>285</td>\n",
       "      <td>6.0</td>\n",
       "    </tr>\n",
       "    <tr>\n",
       "      <th>14</th>\n",
       "      <td>14</td>\n",
       "      <td>270.0</td>\n",
       "      <td>53</td>\n",
       "      <td>225</td>\n",
       "      <td>9.0</td>\n",
       "    </tr>\n",
       "    <tr>\n",
       "      <th>15</th>\n",
       "      <td>15</td>\n",
       "      <td>240.0</td>\n",
       "      <td>59</td>\n",
       "      <td>222</td>\n",
       "      <td>3.0</td>\n",
       "    </tr>\n",
       "    <tr>\n",
       "      <th>16</th>\n",
       "      <td>16</td>\n",
       "      <td>249.0</td>\n",
       "      <td>57</td>\n",
       "      <td>220</td>\n",
       "      <td>0.0</td>\n",
       "    </tr>\n",
       "  </tbody>\n",
       "</table>\n",
       "</div>"
      ],
      "text/plain": [
       "    Time  P. aurelia  P. caudatum  P. aurelia competition  \\\n",
       "0      0         2.0            2                       2   \n",
       "1      1         3.0            5                       4   \n",
       "2      2        29.0           22                      29   \n",
       "3      3        92.0           16                      66   \n",
       "4      4       173.0           39                     141   \n",
       "5      5       210.0           52                     162   \n",
       "6      6       210.0           54                     219   \n",
       "7      7       240.0           47                     153   \n",
       "8      8       240.0           50                     162   \n",
       "9      9       240.0           26                     150   \n",
       "10    10       240.0           69                     175   \n",
       "11    11       219.0           51                     260   \n",
       "12    12       255.0           57                     276   \n",
       "13    13       252.0           70                     285   \n",
       "14    14       270.0           53                     225   \n",
       "15    15       240.0           59                     222   \n",
       "16    16       249.0           57                     220   \n",
       "\n",
       "    P. caudatum competition  \n",
       "0                       2.0  \n",
       "1                       8.0  \n",
       "2                      20.0  \n",
       "3                      25.0  \n",
       "4                      24.0  \n",
       "5                      24.0  \n",
       "6                      24.0  \n",
       "7                      21.0  \n",
       "8                      21.0  \n",
       "9                      15.0  \n",
       "10                     12.0  \n",
       "11                      9.0  \n",
       "12                     12.0  \n",
       "13                      6.0  \n",
       "14                      9.0  \n",
       "15                      3.0  \n",
       "16                      0.0  "
      ]
     },
     "execution_count": 5,
     "metadata": {},
     "output_type": "execute_result"
    }
   ],
   "source": [
    "pr"
   ]
  },
  {
   "cell_type": "code",
   "execution_count": 6,
   "metadata": {},
   "outputs": [
    {
     "name": "stdout",
     "output_type": "stream",
     "text": [
      "[94.687  1.261  1.26 ]\n"
     ]
    },
    {
     "data": {
      "image/png": "[encoded data removed]",
      "text/plain": [
       "<Figure size 576x396 with 1 Axes>"
      ]
     },
     "metadata": {},
     "output_type": "display_data"
    }
   ],
   "source": [
    "# Experimental data\n",
    "xData = pr['Time']\n",
    "yDataAurelia = 0.39 * pr['P. aurelia']\n",
    " \n",
    "# Plot experimental data points\n",
    "plt.plot(xData, yDataAurelia, 'bo', label='Paramecium aurelia')\n",
    " \n",
    "# Initial guess for the parameters\n",
    "initialGuess = [yDataAurelia.iloc[-1],1,1]    \n",
    " \n",
    "# Perform the curve-fit\n",
    "poptAurelia, pcovAurelia = curve_fit(logistic_growth, xData, yDataAurelia, initialGuess)\n",
    "poptAurelia = np.round(poptAurelia,3)\n",
    "print(poptAurelia)\n",
    " \n",
    "# x values for the fitted function\n",
    "xFit = np.arange(0.0,16.0,0.01)\n",
    " \n",
    "# Plot the fitted function\n",
    "plt.plot(xFit, logistic_growth(xFit, *poptAurelia), 'b', label='Параметри: $K=%5.3f, r=%5.3f, N_0=%5.3f$' % tuple(poptAurelia))\n",
    "plt.xlabel('Ден')\n",
    "plt.ylabel('Број единки/0,5 cm$^3$')\n",
    "plt.legend(bbox_to_anchor=(1, 1), loc=2, borderaxespad=0.)\n",
    "plt.show()"
   ]
  },
  {
   "cell_type": "code",
   "execution_count": 7,
   "metadata": {
    "scrolled": false
   },
   "outputs": [
    {
     "name": "stdout",
     "output_type": "stream",
     "text": [
      "[54.882  0.901  2.979]\n"
     ]
    },
    {
     "data": {
      "image/png": "[encoded data removed]",
      "text/plain": [
       "<Figure size 576x396 with 1 Axes>"
      ]
     },
     "metadata": {},
     "output_type": "display_data"
    }
   ],
   "source": [
    "# Experimental data\n",
    "xData = pr['Time']\n",
    "yDataCaudatum = pr['P. caudatum']\n",
    " \n",
    "# Plot experimental data points\n",
    "plt.plot(xData, yDataCaudatum, 'ro', label='Paramecium caudatum')\n",
    " \n",
    "# Initial guess for the parameters\n",
    "initialGuess = [yDataCaudatum.iloc[-1],1,1]    \n",
    " \n",
    "# Perform the curve-fit\n",
    "poptCaudatum, pcovCaudatum = curve_fit(logistic_growth, xData, yDataCaudatum, initialGuess)\n",
    "poptCaudatum = np.round(poptCaudatum,3)\n",
    "print(poptCaudatum)\n",
    " \n",
    "# x values for the fitted function\n",
    "xFit = np.arange(0.0,16.0,0.01)\n",
    " \n",
    "# Plot the fitted function\n",
    "plt.plot(xFit, logistic_growth(xFit, *poptCaudatum), 'r', label='Параметри: $K=%5.3f, r=%5.3f, N_0=%5.3f$' % tuple(poptCaudatum))\n",
    "plt.xlabel('Ден')\n",
    "plt.ylabel('Број единки/0,5 cm$^3$')\n",
    "plt.legend(bbox_to_anchor=(1, 1), loc=2, borderaxespad=0.)\n",
    "plt.show()"
   ]
  },
  {
   "cell_type": "markdown",
   "metadata": {},
   "source": [
    "#### II.2 Интерспециска конкуренција на P. aurelia и P. caudatum <a class=\"anchor\" id=\"section_2_2\"></a>"
   ]
  },
  {
   "cell_type": "code",
   "execution_count": 8,
   "metadata": {},
   "outputs": [],
   "source": [
    "x_exp = 0.39 * pr['P. aurelia competition'].values\n",
    "y_exp = pr['P. caudatum competition'].values\n",
    "t_exp = pr['Time'].values"
   ]
  },
  {
   "cell_type": "code",
   "execution_count": 9,
   "metadata": {
    "scrolled": false
   },
   "outputs": [
    {
     "name": "stdout",
     "output_type": "stream",
     "text": [
      "[1.261 0.013 0.018 0.901 0.012 0.016]\n"
     ]
    },
    {
     "data": {
      "image/png": "[encoded data removed]",
      "text/plain": [
       "<Figure size 576x396 with 1 Axes>"
      ]
     },
     "metadata": {},
     "output_type": "display_data"
    }
   ],
   "source": [
    "# model parameters\n",
    "L = poptAurelia[1]                        # L\n",
    "A = poptAurelia[1]/poptAurelia[0]         # A\n",
    "B = 1.35*poptAurelia[1]/poptAurelia[0]    # B \n",
    "M = poptCaudatum[1]                       # M\n",
    "C = 0.75*poptCaudatum[1]/poptCaudatum[0]  # C \n",
    "D = poptCaudatum[1]/poptCaudatum[0]       # D\n",
    "params = np.round([L, A, B, M, C, D],3)\n",
    "print(params)\n",
    "dt = 0.01; max_time = t_exp[-1]\n",
    "\n",
    "# initial time and populations\n",
    "t_el = t_exp[0]; x_el = x_exp[0]; y_el = y_exp[0]\n",
    "\n",
    "# empty lists in which to store time and populations\n",
    "t_calc = []; x_calc = []; y_calc = []\n",
    "\n",
    "# initialize lists\n",
    "t_calc.append(t_el); x_calc.append(x_el); y_calc.append(y_el)\n",
    "\n",
    "while t_el < max_time:\n",
    "    # calc new values for t_el, x_el, y_el\n",
    "    t_el = t_el + dt\n",
    "    x_el = x_el + x_el*(L - A*x_el - B*y_el)*dt\n",
    "    y_el = y_el + y_el*(M - C*x_el - D*y_el)*dt\n",
    "    \n",
    "    # store new values in lists\n",
    "    t_calc.append(t_el)\n",
    "    x_calc.append(x_el)\n",
    "    y_calc.append(y_el)\n",
    "\n",
    "# Experimental data\n",
    "plt.plot(t_exp, x_exp, 'bo', label='Paramecium aurelia')\n",
    "plt.plot(t_exp, y_exp, 'ro', label='Paramecium caudatum')\n",
    "plt.plot(t_calc, x_calc, 'b-')\n",
    "plt.plot(t_calc, y_calc, 'r-')\n",
    "plt.xlabel('Ден')\n",
    "plt.ylabel('Број единки/0,5 cm$^3$')\n",
    "plt.legend(bbox_to_anchor=(1, 1), loc=2, borderaxespad=0.)\n",
    "plt.show()"
   ]
  },
  {
   "cell_type": "code",
   "execution_count": 10,
   "metadata": {},
   "outputs": [
    {
     "data": {
      "image/png": "[encoded data removed]",
      "text/plain": [
       "<Figure size 576x396 with 1 Axes>"
      ]
     },
     "metadata": {},
     "output_type": "display_data"
    }
   ],
   "source": [
    "plt.plot(x_exp, y_exp, 'k-')\n",
    "plt.show()"
   ]
  },
  {
   "cell_type": "code",
   "execution_count": 11,
   "metadata": {},
   "outputs": [],
   "source": [
    "def objective_function(z): \n",
    "    return np.sum((z[0] - z[1])**2) + np.sum((z[2] - z[3])**2)"
   ]
  },
  {
   "cell_type": "code",
   "execution_count": 12,
   "metadata": {},
   "outputs": [],
   "source": [
    "#z = np.array([x_exp, x_calc[::100], y_exp, y_calc[::100]])"
   ]
  },
  {
   "cell_type": "code",
   "execution_count": 13,
   "metadata": {
    "scrolled": false
   },
   "outputs": [
    {
     "name": "stdout",
     "output_type": "stream",
     "text": [
      "[0.637 0.637 0.459 0.46  0.012 0.016]\n"
     ]
    },
    {
     "data": {
      "image/png": "[encoded data removed]",
      "text/plain": [
       "<Figure size 576x396 with 1 Axes>"
      ]
     },
     "metadata": {},
     "output_type": "display_data"
    }
   ],
   "source": [
    "opt = least_squares(objective_function, x0=params)\n",
    "opt.x = np.round(opt.x, 3)\n",
    "print(opt.x)\n",
    "\n",
    "# model parameters\n",
    "L = opt.x[0]\n",
    "A = opt.x[1]\n",
    "B = opt.x[2]\n",
    "M = opt.x[3]\n",
    "C = opt.x[4]\n",
    "D = opt.x[5]\n",
    "dt = 0.001; max_time = pr['Time'].iloc[-1]\n",
    "\n",
    "# initial time and populations\n",
    "t_el = t_exp[0]; x_el = x_exp[0]; y_el = y_exp[0]\n",
    "\n",
    "# empty lists in which to store time and populations\n",
    "t_opt = []; x_opt = []; y_opt = []\n",
    "\n",
    "# initialize lists\n",
    "t_opt.append(t_el); x_opt.append(x_el); y_opt.append(y_el)\n",
    "\n",
    "while t_el < max_time:\n",
    "    # calc new values for t_el, x_el, y_el\n",
    "    t_el = t_el + dt\n",
    "    x_el = x_el + x_el*(L - A*x_el - B*y_el)*dt\n",
    "    y_el = y_el + y_el*(M - C*x_el - D*y_el)*dt\n",
    "    \n",
    "    # store new values in lists\n",
    "    t_opt.append(t_el)\n",
    "    x_opt.append(x_el)\n",
    "    y_opt.append(y_el)\n",
    "\n",
    "# Experimental data\n",
    "plt.plot(t_exp, x_exp, 'bo', label='Paramecium aurelia')\n",
    "plt.plot(t_exp, y_exp, 'ro', label='Paramecium caudatum')\n",
    "plt.plot(t_opt, x_opt, 'b-')\n",
    "plt.plot(t_opt, y_opt, 'r-')\n",
    "plt.xlabel('Ден')\n",
    "plt.ylabel('Број единки/0,5 cm$^3$')\n",
    "plt.legend(bbox_to_anchor=(1, 1), loc=2, borderaxespad=0.)\n",
    "plt.show()"
   ]
  },
  {
   "cell_type": "code",
   "execution_count": null,
   "metadata": {},
   "outputs": [],
   "source": []
  },
  {
   "cell_type": "markdown",
   "metadata": {},
   "source": [
    "def model(z,t):\n",
    "    #L = 1.261\n",
    "    #A = 0.013\n",
    "    #B = 0.018\n",
    "    #M = 0.901\n",
    "    #C = 0.012\n",
    "    #D = 0.016\n",
    "    L = poptAurelia[1]                        # L\n",
    "    A = poptAurelia[1]/poptAurelia[0]         # A\n",
    "    B = 1.35*poptAurelia[1]/poptAurelia[0]    # B \n",
    "    M = poptCaudatum[1]                       # M\n",
    "    C = 0.75*poptCaudatum[1]/poptCaudatum[0]  # C \n",
    "    D = poptCaudatum[1]/poptCaudatum[0]       # D\n",
    "    \n",
    "    x = z[0]\n",
    "    y = z[0]\n",
    "    \n",
    "    dxdt = x*(L - A*x - B*y)\n",
    "    dydt = y*(M - C*x - D*y)\n",
    "    \n",
    "    dzdt = [dxdt,dydt]\n",
    "    return dzdt\n",
    "\n",
    "#initial condition\n",
    "#z0 = [x[0],y[0]]\n",
    "\n",
    "#time points\n",
    "t = np.linspace(0,pr['Time'].iloc[-1],1700)\n",
    "\n",
    "#solve ODE\n",
    "#z = odeint(model,z0,t)\n",
    "\n",
    "#x_calc = z[:,0]\n",
    "#y_calc = z[:,1]\n",
    "x_calc = x_list\n",
    "y_calc = y_list\n",
    "\n",
    "#plot results\n",
    "plt.plot(pr['Time'], x, 'bo', label='P. aurelia')\n",
    "plt.plot(pr['Time'], y, 'ro', label='P. caudatum')\n",
    "plt.plot(t[:1601],x_calc[:1601],'b--', label='P. aurelia calculated')\n",
    "plt.plot(t[:1601],y_calc[:1601],'r--', label='P. caudatum calculated')\n",
    "plt.ylabel('response')\n",
    "plt.xlabel('time')\n",
    "plt.legend(bbox_to_anchor=(1, 1), loc=2, borderaxespad=0.)\n",
    "plt.show()"
   ]
  },
  {
   "cell_type": "markdown",
   "metadata": {},
   "source": [
    "K1 = x[0]\n",
    "K2 = -np.power(x[0],2)\n",
    "K3 = -x[0]*y[0]\n",
    "K4 = np.power(x[0],3)\n",
    "K5 = np.power(x[0],2)*y[0]\n",
    "K6 = x[0]*np.power(y[0],2)\n",
    "\n",
    "R1 = y[0]\n",
    "R2 = -x[0]*y[0]\n",
    "R3 = -np.power(y[0],2)\n",
    "R4 = np.power(x[0],2)*y[0]\n",
    "R5 = np.power(y[0],2)*x[0]\n",
    "R6 = np.power(y[0],3)\n",
    "\n",
    "s1 = xdot[0]\n",
    "s2 = -x[0]*xdot[0]\n",
    "s3 = -y[0]*xdot[0]\n",
    "\n",
    "q1 = ydot[0]\n",
    "q2 = -x[0]*ydot[0]\n",
    "q3 = -y[0]*ydot[0]\n",
    "\n",
    "for i in range(len(x)):\n",
    "    K1 = K1 + x[i]\n",
    "    K2 = K2 - np.power(x[i],2)\n",
    "    K3 = K3 - x[i]*y[i]\n",
    "    K4 = K4 + np.power(x[i],3)\n",
    "    K5 = K5 + np.power(x[i],2)*y[i]\n",
    "    K6 = K6 + x[i]*np.power(y[i],2)\n",
    "    \n",
    "    R1 = R1 + y[i]\n",
    "    R2 = R2 - x[i]*y[i]\n",
    "    R3 = R3 - np.power(y[i],2)\n",
    "    R4 = R4 + np.power(x[i],2)*y[i]\n",
    "    R5 = R5 + np.power(y[i],2)*x[i]\n",
    "    R6 = R6 + np.power(y[i],3)\n",
    "    \n",
    "    s1 = s1 + xdot[i]\n",
    "    s2 = s2 - x[i]*xdot[i]\n",
    "    s3 = s3 - y[i]*xdot[i]\n",
    "    \n",
    "    q1 = q1 + ydot[i]\n",
    "    q2 = q2 - x[i]*ydot[i]\n",
    "    q3 = q3 - y[i]*ydot[i]\n",
    "\n",
    "W = np.array([[K1, K2, K3, 0, 0, 0],\n",
    "              [K2, K4, K5, 0, 0, 0],\n",
    "              [K3, K4, K6, 0, 0, 0],\n",
    "              [0, 0, 0, R1, R2, R3],\n",
    "              [0, 0, 0, R2, R4, R5],\n",
    "              [0, 0, 0, R3, R4, R6]])\n",
    "u = np.array([[s1], [s2], [s3], [q1], [q2], [q3]])\n",
    "p = np.round(np.matmul(np.linalg.inv(W),u),5)\n",
    "p"
   ]
  },
  {
   "cell_type": "markdown",
   "metadata": {},
   "source": [
    "xdot = f_dot(x,h=1)\n",
    "ydot = f_dot(y,h=1)"
   ]
  },
  {
   "cell_type": "markdown",
   "metadata": {},
   "source": [
    "e2 = g - y*(M - C*x - D*y)\n",
    "eq12 = e2*e2.diff(M)\n",
    "eq22 = e2*e2.diff(C)\n",
    "eq32 = e2*e2.diff(D)\n",
    "sp.expand(eq12), sp.expand(eq22), sp.expand(eq32)"
   ]
  },
  {
   "cell_type": "markdown",
   "metadata": {},
   "source": [
    "e1 = f - x*(L - A*x - B*y)\n",
    "eq11 = e1*e1.diff(L)\n",
    "eq21 = e1*e1.diff(A)\n",
    "eq31 = e1*e1.diff(B)\n",
    "sp.expand(eq11), sp.expand(eq21), sp.expand(eq31)"
   ]
  },
  {
   "cell_type": "markdown",
   "metadata": {},
   "source": [
    "#x, y, A, B, C, D, L, M, f, g = sp.symbols('x y A B C D L M f g')\n",
    "display((x,y,A,B,C,D,L,M,f,g))"
   ]
  },
  {
   "cell_type": "markdown",
   "metadata": {},
   "source": [
    "import sympy as sp\n",
    "sp.init_printing()"
   ]
  },
  {
   "cell_type": "code",
   "execution_count": 14,
   "metadata": {},
   "outputs": [
    {
     "data": {
      "text/plain": [
       "array([0.63699999, 0.63699999, 0.45949999, 0.45949999, 0.012     ,\n",
       "       0.016     ])"
      ]
     },
     "execution_count": 14,
     "metadata": {},
     "output_type": "execute_result"
    }
   ],
   "source": [
    "x_exp = [0.78,   1.56,  11.31,  25.74,  54.99,  63.18,  85.41,  59.67, \n",
    "        63.18,  58.5 ,  68.25, 101.4 , 107.64, 111.15,  87.75,  86.58,\n",
    "        85.8]\n",
    "\n",
    "x_calc = [0.78 ,  2.534,  7.403, 17.622, 31.714, 44.712, 54.538, 61.972,\n",
    "       67.955, 72.957, 77.169, 80.689, 83.59 , 85.949, 87.845, 89.354,\n",
    "       90.545]\n",
    "\n",
    "y_exp = [ 2.,  8., 20., 25., 24., 24., 24., 21., 21., 15., 12.,  9., 12.,\n",
    "        6.,  9.,  3.,  0.]\n",
    "\n",
    "y_calc = [ 2.   ,  4.577,  9.496, 16.301, 21.608, 22.859, 21.15 , 18.321,\n",
    "       15.348, 12.602, 10.201,  8.167,  6.48 ,  5.105,  3.999,  3.118,\n",
    "        2.422]\n",
    "\n",
    "init = [1.261, 0.013, 0.018, 0.901, 0.012, 0.016]\n",
    "\n",
    "def objective_function(z): \n",
    "    return (np.sum((z[0] - z[1])**2) + np.sum((z[2] - z[3])**2))/2\n",
    "\n",
    "z = np.array([x_exp, x_calc, y_exp, y_calc])\n",
    "\n",
    "opt = minimize(objective_function, x0=params)\n",
    "opt.x"
   ]
  },
  {
   "cell_type": "markdown",
   "metadata": {},
   "source": [
    "### Тестирање на резидууми со логистичка равенка"
   ]
  },
  {
   "cell_type": "code",
   "execution_count": 24,
   "metadata": {},
   "outputs": [],
   "source": [
    "# Simulirani podatoci\n",
    "t_exp = np.arange(0,20,0.5)\n",
    "y_exp = logistic_growth(t_exp, K=90, r=0.7, N0=5)"
   ]
  },
  {
   "cell_type": "code",
   "execution_count": 80,
   "metadata": {},
   "outputs": [],
   "source": [
    "def load_data():\n",
    "    t_exp = np.arange(0,20,0.5).reshape(1,40)\n",
    "    y_exp = logistic_growth(t_exp, K=90, r=0.7, N0=5) + np.random.uniform(-10,10,(1,40))\n",
    "    return t_exp, y_exp"
   ]
  },
  {
   "cell_type": "code",
   "execution_count": 81,
   "metadata": {
    "scrolled": true
   },
   "outputs": [],
   "source": [
    "def plot_data_with_model(t_exp, y_exp, ym, summary):\n",
    "    plt.plot(t_exp, y_exp, 'ro')\n",
    "    plt.show()\n",
    "    print(summary)"
   ]
  },
  {
   "cell_type": "code",
   "execution_count": 82,
   "metadata": {},
   "outputs": [
    {
     "data": {
      "image/png": "[encoded data removed]",
      "text/plain": [
       "<Figure size 576x396 with 1 Axes>"
      ]
     },
     "metadata": {},
     "output_type": "display_data"
    },
    {
     "name": "stdout",
     "output_type": "stream",
     "text": [
      "Parameters K=90, r=0.7, N0=5 yield RSS=1010.12\n",
      "Parameters K=90, r=0.7, N0=5 yield RSS=1010.12\n"
     ]
    }
   ],
   "source": [
    "def compute_rss_and_plot_fit(K, r, N0):\n",
    "    xd, yd = load_data()\n",
    "    ym = logistic_growth(t_exp, K, r, N0)\n",
    "    rss = np.sum(np.square(ym - y_exp))\n",
    "    summary = \"Parameters K={}, r={}, N0={} yield RSS={:0.2f}\".format(K, r, N0, rss)\n",
    "    fig = plot_data_with_model(t_exp, y_exp, ym, summary)\n",
    "    return rss, summary\n",
    "\n",
    "# Chose model parameter values and pass them into RSS function\n",
    "rss, summary = compute_rss_and_plot_fit(K=90, r=0.7, N0=5)\n",
    "print(summary)"
   ]
  },
  {
   "cell_type": "code",
   "execution_count": null,
   "metadata": {},
   "outputs": [],
   "source": [
    "params = [90, 0.7, 5]\n",
    "opt = minimize(compute_rss_and_plot_fit, x0=params, args=params)\n",
    "opt.x"
   ]
  },
  {
   "cell_type": "code",
   "execution_count": 85,
   "metadata": {},
   "outputs": [],
   "source": [
    "from lmfit import minimize, Parameters, Parameter, report_fit\n",
    "import warnings"
   ]
  },
  {
   "cell_type": "code",
   "execution_count": 146,
   "metadata": {},
   "outputs": [
    {
     "name": "stdout",
     "output_type": "stream",
     "text": [
      "157970.58317235476\n"
     ]
    },
    {
     "ename": "TypeError",
     "evalue": "Improper input: N=8 must not exceed M=1",
     "output_type": "error",
     "traceback": [
      "\u001b[1;31m---------------------------------------------------------------------------\u001b[0m",
      "\u001b[1;31mTypeError\u001b[0m                                 Traceback (most recent call last)",
      "\u001b[1;32m<ipython-input-146-868f057884fb>\u001b[0m in \u001b[0;36m<module>\u001b[1;34m\u001b[0m\n\u001b[0;32m     56\u001b[0m \u001b[1;33m\u001b[0m\u001b[0m\n\u001b[0;32m     57\u001b[0m \u001b[1;31m# fit model and find predicted values\u001b[0m\u001b[1;33m\u001b[0m\u001b[1;33m\u001b[0m\u001b[1;33m\u001b[0m\u001b[0m\n\u001b[1;32m---> 58\u001b[1;33m \u001b[0mresult\u001b[0m \u001b[1;33m=\u001b[0m \u001b[0mminimize\u001b[0m\u001b[1;33m(\u001b[0m\u001b[0mresidual\u001b[0m\u001b[1;33m,\u001b[0m \u001b[0mparams\u001b[0m\u001b[1;33m,\u001b[0m \u001b[0margs\u001b[0m\u001b[1;33m=\u001b[0m\u001b[1;33m(\u001b[0m\u001b[0mt\u001b[0m\u001b[1;33m,\u001b[0m \u001b[0mdata\u001b[0m\u001b[1;33m)\u001b[0m\u001b[1;33m,\u001b[0m \u001b[0mmethod\u001b[0m\u001b[1;33m=\u001b[0m\u001b[1;34m'leastsq'\u001b[0m\u001b[1;33m)\u001b[0m\u001b[1;33m\u001b[0m\u001b[1;33m\u001b[0m\u001b[0m\n\u001b[0m\u001b[0;32m     59\u001b[0m \u001b[0mfinal\u001b[0m \u001b[1;33m=\u001b[0m \u001b[0mdata\u001b[0m \u001b[1;33m+\u001b[0m \u001b[0mresult\u001b[0m\u001b[1;33m.\u001b[0m\u001b[0mresidual\u001b[0m\u001b[1;33m.\u001b[0m\u001b[0mreshape\u001b[0m\u001b[1;33m(\u001b[0m\u001b[0mdata\u001b[0m\u001b[1;33m.\u001b[0m\u001b[0mshape\u001b[0m\u001b[1;33m)\u001b[0m\u001b[1;33m\u001b[0m\u001b[1;33m\u001b[0m\u001b[0m\n\u001b[0;32m     60\u001b[0m \u001b[1;33m\u001b[0m\u001b[0m\n",
      "\u001b[1;32m~\\anaconda3\\lib\\site-packages\\lmfit\\minimizer.py\u001b[0m in \u001b[0;36mminimize\u001b[1;34m(fcn, params, method, args, kws, iter_cb, scale_covar, nan_policy, reduce_fcn, calc_covar, max_nfev, **fit_kws)\u001b[0m\n\u001b[0;32m   2503\u001b[0m                        \u001b[0mnan_policy\u001b[0m\u001b[1;33m=\u001b[0m\u001b[0mnan_policy\u001b[0m\u001b[1;33m,\u001b[0m \u001b[0mreduce_fcn\u001b[0m\u001b[1;33m=\u001b[0m\u001b[0mreduce_fcn\u001b[0m\u001b[1;33m,\u001b[0m\u001b[1;33m\u001b[0m\u001b[1;33m\u001b[0m\u001b[0m\n\u001b[0;32m   2504\u001b[0m                        calc_covar=calc_covar, max_nfev=max_nfev, **fit_kws)\n\u001b[1;32m-> 2505\u001b[1;33m     \u001b[1;32mreturn\u001b[0m \u001b[0mfitter\u001b[0m\u001b[1;33m.\u001b[0m\u001b[0mminimize\u001b[0m\u001b[1;33m(\u001b[0m\u001b[0mmethod\u001b[0m\u001b[1;33m=\u001b[0m\u001b[0mmethod\u001b[0m\u001b[1;33m)\u001b[0m\u001b[1;33m\u001b[0m\u001b[1;33m\u001b[0m\u001b[0m\n\u001b[0m",
      "\u001b[1;32m~\\anaconda3\\lib\\site-packages\\lmfit\\minimizer.py\u001b[0m in \u001b[0;36mminimize\u001b[1;34m(self, method, params, **kws)\u001b[0m\n\u001b[0;32m   2283\u001b[0m                         val.lower().startswith(user_method)):\n\u001b[0;32m   2284\u001b[0m                     \u001b[0mkwargs\u001b[0m\u001b[1;33m[\u001b[0m\u001b[1;34m'method'\u001b[0m\u001b[1;33m]\u001b[0m \u001b[1;33m=\u001b[0m \u001b[0mval\u001b[0m\u001b[1;33m\u001b[0m\u001b[1;33m\u001b[0m\u001b[0m\n\u001b[1;32m-> 2285\u001b[1;33m         \u001b[1;32mreturn\u001b[0m \u001b[0mfunction\u001b[0m\u001b[1;33m(\u001b[0m\u001b[1;33m**\u001b[0m\u001b[0mkwargs\u001b[0m\u001b[1;33m)\u001b[0m\u001b[1;33m\u001b[0m\u001b[1;33m\u001b[0m\u001b[0m\n\u001b[0m\u001b[0;32m   2286\u001b[0m \u001b[1;33m\u001b[0m\u001b[0m\n\u001b[0;32m   2287\u001b[0m \u001b[1;33m\u001b[0m\u001b[0m\n",
      "\u001b[1;32m~\\anaconda3\\lib\\site-packages\\lmfit\\minimizer.py\u001b[0m in \u001b[0;36mleastsq\u001b[1;34m(self, params, max_nfev, **kws)\u001b[0m\n\u001b[0;32m   1644\u001b[0m         \u001b[0mresult\u001b[0m\u001b[1;33m.\u001b[0m\u001b[0mcall_kws\u001b[0m \u001b[1;33m=\u001b[0m \u001b[0mlskws\u001b[0m\u001b[1;33m\u001b[0m\u001b[1;33m\u001b[0m\u001b[0m\n\u001b[0;32m   1645\u001b[0m         \u001b[1;32mtry\u001b[0m\u001b[1;33m:\u001b[0m\u001b[1;33m\u001b[0m\u001b[1;33m\u001b[0m\u001b[0m\n\u001b[1;32m-> 1646\u001b[1;33m             \u001b[0mlsout\u001b[0m \u001b[1;33m=\u001b[0m \u001b[0mscipy_leastsq\u001b[0m\u001b[1;33m(\u001b[0m\u001b[0mself\u001b[0m\u001b[1;33m.\u001b[0m\u001b[0m__residual\u001b[0m\u001b[1;33m,\u001b[0m \u001b[0mvariables\u001b[0m\u001b[1;33m,\u001b[0m \u001b[1;33m**\u001b[0m\u001b[0mlskws\u001b[0m\u001b[1;33m)\u001b[0m\u001b[1;33m\u001b[0m\u001b[1;33m\u001b[0m\u001b[0m\n\u001b[0m\u001b[0;32m   1647\u001b[0m         \u001b[1;32mexcept\u001b[0m \u001b[0mAbortFitException\u001b[0m\u001b[1;33m:\u001b[0m\u001b[1;33m\u001b[0m\u001b[1;33m\u001b[0m\u001b[0m\n\u001b[0;32m   1648\u001b[0m             \u001b[1;32mpass\u001b[0m\u001b[1;33m\u001b[0m\u001b[1;33m\u001b[0m\u001b[0m\n",
      "\u001b[1;32m~\\anaconda3\\lib\\site-packages\\scipy\\optimize\\minpack.py\u001b[0m in \u001b[0;36mleastsq\u001b[1;34m(func, x0, args, Dfun, full_output, col_deriv, ftol, xtol, gtol, maxfev, epsfcn, factor, diag)\u001b[0m\n\u001b[0;32m    412\u001b[0m \u001b[1;33m\u001b[0m\u001b[0m\n\u001b[0;32m    413\u001b[0m     \u001b[1;32mif\u001b[0m \u001b[0mn\u001b[0m \u001b[1;33m>\u001b[0m \u001b[0mm\u001b[0m\u001b[1;33m:\u001b[0m\u001b[1;33m\u001b[0m\u001b[1;33m\u001b[0m\u001b[0m\n\u001b[1;32m--> 414\u001b[1;33m         \u001b[1;32mraise\u001b[0m \u001b[0mTypeError\u001b[0m\u001b[1;33m(\u001b[0m\u001b[1;34m'Improper input: N=%s must not exceed M=%s'\u001b[0m \u001b[1;33m%\u001b[0m \u001b[1;33m(\u001b[0m\u001b[0mn\u001b[0m\u001b[1;33m,\u001b[0m \u001b[0mm\u001b[0m\u001b[1;33m)\u001b[0m\u001b[1;33m)\u001b[0m\u001b[1;33m\u001b[0m\u001b[1;33m\u001b[0m\u001b[0m\n\u001b[0m\u001b[0;32m    415\u001b[0m \u001b[1;33m\u001b[0m\u001b[0m\n\u001b[0;32m    416\u001b[0m     \u001b[1;32mif\u001b[0m \u001b[0mepsfcn\u001b[0m \u001b[1;32mis\u001b[0m \u001b[1;32mNone\u001b[0m\u001b[1;33m:\u001b[0m\u001b[1;33m\u001b[0m\u001b[1;33m\u001b[0m\u001b[0m\n",
      "\u001b[1;31mTypeError\u001b[0m: Improper input: N=8 must not exceed M=1"
     ]
    }
   ],
   "source": [
    "def f(xs, t, ps):\n",
    "    \"\"\"Lotka-Volterra competition model.\"\"\"\n",
    "    try:\n",
    "        a = ps['a'].value\n",
    "        b = ps['b'].value\n",
    "        c = ps['c'].value\n",
    "        d = ps['d'].value\n",
    "        l = ps['l'].value\n",
    "        m = ps['m'].value\n",
    "    except:\n",
    "        a, b, c, d, l, m = ps\n",
    "\n",
    "    x, y = xs\n",
    "    return [x*(l - a*x - b*y), y*(m - c*x - d*y)]\n",
    "\n",
    "def g(t, x0, ps):\n",
    "    \"\"\"\n",
    "    Solution to the ODE x'(t) = f(t,x,k) with initial condition x(0) = x0\n",
    "    \"\"\"\n",
    "    x = odeint(f, x0, t, args=(ps,))\n",
    "    return x\n",
    "\n",
    "def residual(ps, ts, data):\n",
    "    x0 = ps['x0'].value, ps['y0'].value\n",
    "    model = g(ts, x0, ps)\n",
    "    model = np.array(model)\n",
    "    print(np.sum((data[0] - model[:,0][::100])**2) + np.sum((data[1] - model[:,1][::100])**2))\n",
    "    return np.sum((data[0] - model[:,0][::100])**2) + np.sum((data[1] - model[:,1][::100])**2)\n",
    "\n",
    "t = np.linspace(0, 17, 1700)\n",
    "x0 = np.array([1,1])\n",
    "\n",
    "a, b, c, d, l, m = 1.261, 0.013, 0.018, 0.901, 0.012, 0.016\n",
    "true_params = np.array((a, b, c, d, l, m))\n",
    "\n",
    "#np.random.seed(123)\n",
    "#data = g(t, x0, true_params)\n",
    "#data += np.random.normal(size=data.shape)\n",
    "data = np.array([[0.78,   1.56,  11.31,  25.74,  54.99,  63.18,  85.41,  59.67, \n",
    "        63.18,  58.5 ,  68.25, 101.4 , 107.64, 111.15,  87.75,  86.58,\n",
    "        85.8],\n",
    "        [0.78 ,  2.534,  7.403, 17.622, 31.714, 44.712, 54.538, 61.972,\n",
    "       67.955, 72.957, 77.169, 80.689, 83.59 , 85.949, 87.845, 89.354,\n",
    "       90.545]])\n",
    "\n",
    "# set parameters incluing bounds\n",
    "params = Parameters()\n",
    "params.add('x0', value=data[0, 0])\n",
    "params.add('y0', value=data[0, 1])\n",
    "params.add('a', value=a)\n",
    "params.add('b', value=b)\n",
    "params.add('c', value=c)\n",
    "params.add('d', value=d)\n",
    "params.add('l', value=l)\n",
    "params.add('m', value=m)\n",
    "\n",
    "# fit model and find predicted values\n",
    "result = minimize(residual, params, args=(t, data), method='leastsq')\n",
    "final = data + result.residual.reshape(data.shape)\n",
    "\n",
    "# plot data and fitted curves\n",
    "plt.plot(t, data, 'o')\n",
    "plt.plot(t, final, '-', linewidth=2);\n",
    "\n",
    "# display fitted statistics\n",
    "report_fit(result)"
   ]
  },
  {
   "cell_type": "code",
   "execution_count": 149,
   "metadata": {},
   "outputs": [
    {
     "ename": "NameError",
     "evalue": "name 'ps' is not defined",
     "output_type": "error",
     "traceback": [
      "\u001b[1;31m---------------------------------------------------------------------------\u001b[0m",
      "\u001b[1;31mNameError\u001b[0m                                 Traceback (most recent call last)",
      "\u001b[1;32m<ipython-input-149-1472f7871a6e>\u001b[0m in \u001b[0;36m<module>\u001b[1;34m\u001b[0m\n\u001b[0;32m      1\u001b[0m \u001b[0mt\u001b[0m \u001b[1;33m=\u001b[0m \u001b[0mnp\u001b[0m\u001b[1;33m.\u001b[0m\u001b[0mlinspace\u001b[0m\u001b[1;33m(\u001b[0m\u001b[1;36m0\u001b[0m\u001b[1;33m,\u001b[0m \u001b[1;36m17\u001b[0m\u001b[1;33m,\u001b[0m \u001b[1;36m1700\u001b[0m\u001b[1;33m)\u001b[0m\u001b[1;33m\u001b[0m\u001b[1;33m\u001b[0m\u001b[0m\n\u001b[0;32m      2\u001b[0m \u001b[1;33m\u001b[0m\u001b[0m\n\u001b[1;32m----> 3\u001b[1;33m \u001b[0mmodel\u001b[0m \u001b[1;33m=\u001b[0m \u001b[0modeint\u001b[0m\u001b[1;33m(\u001b[0m\u001b[0mf\u001b[0m\u001b[1;33m,\u001b[0m \u001b[0mt\u001b[0m\u001b[1;33m=\u001b[0m\u001b[0mt\u001b[0m\u001b[1;33m,\u001b[0m \u001b[0mx0\u001b[0m\u001b[1;33m=\u001b[0m\u001b[0mtrue_params\u001b[0m\u001b[1;33m,\u001b[0m \u001b[0margs\u001b[0m\u001b[1;33m=\u001b[0m\u001b[1;33m(\u001b[0m\u001b[0mps\u001b[0m\u001b[1;33m,\u001b[0m\u001b[1;33m)\u001b[0m\u001b[1;33m)\u001b[0m\u001b[1;33m\u001b[0m\u001b[1;33m\u001b[0m\u001b[0m\n\u001b[0m",
      "\u001b[1;31mNameError\u001b[0m: name 'ps' is not defined"
     ]
    }
   ],
   "source": [
    "t = np.linspace(0, 17, 1700)\n",
    "\n",
    "model = odeint(f, t=t, x0=true_params, args=(ps,))"
   ]
  },
  {
   "cell_type": "code",
   "execution_count": null,
   "metadata": {},
   "outputs": [],
   "source": []
  }
 ],
 "metadata": {
  "kernelspec": {
   "display_name": "Python 3",
   "language": "python",
   "name": "python3"
  },
  "language_info": {
   "codemirror_mode": {
    "name": "ipython",
    "version": 3
   },
   "file_extension": ".py",
   "mimetype": "text/x-python",
   "name": "python",
   "nbconvert_exporter": "python",
   "pygments_lexer": "ipython3",
   "version": "3.8.3"
  }
 },
 "nbformat": 4,
 "nbformat_minor": 4
}
