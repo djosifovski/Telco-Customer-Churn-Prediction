{
 "cells": [
  {
   "cell_type": "markdown",
   "id": "98716d91",
   "metadata": {},
   "source": [
    "# Telco Customer Churn Prediction"
   ]
  },
  {
   "cell_type": "markdown",
   "id": "68b24f3a",
   "metadata": {},
   "source": [
    "### Import libraries"
   ]
  },
  {
   "cell_type": "code",
   "execution_count": 1,
   "id": "f26e300f",
   "metadata": {},
   "outputs": [],
   "source": [
    "# Data analysis\n",
    "import pandas as pd\n",
    "import numpy as np\n",
    "import matplotlib.pyplot as plt\n",
    "plt.style.use('seaborn-whitegrid')\n",
    "import seaborn as sns\n",
    "import missingno as msno\n",
    "\n",
    "# Modelling\n",
    "from imblearn.over_sampling import SMOTE, SMOTENC\n",
    "from imblearn.under_sampling import RandomUnderSampler\n",
    "from sklearn.preprocessing import FunctionTransformer, OneHotEncoder\n",
    "from imblearn import FunctionSampler\n",
    "from imblearn.pipeline import Pipeline\n",
    "from sklearn.compose import ColumnTransformer\n",
    "\n",
    "from sklearn.ensemble import GradientBoostingClassifier\n",
    "import xgboost as xgb\n",
    "from lightgbm import LGBMClassifier\n",
    "from catboost import CatBoostClassifier\n",
    "\n",
    "# Evaluation\n",
    "from sklearn.model_selection import train_test_split, cross_val_score, cross_val_predict, cross_validate, RandomizedSearchCV\n",
    "from sklearn.metrics import classification_report, accuracy_score, precision_score, recall_score, f1_score, roc_auc_score, roc_curve\n",
    "from sklearn.metrics import confusion_matrix, ConfusionMatrixDisplay\n",
    "\n",
    "from sklearn import set_config\n",
    "set_config(display='diagram')\n",
    "\n",
    "from time import time\n",
    "\n",
    "import warnings\n",
    "warnings.filterwarnings('ignore')\n",
    "%matplotlib inline"
   ]
  },
  {
   "cell_type": "markdown",
   "id": "e096124e",
   "metadata": {},
   "source": [
    "## Data Analysis"
   ]
  },
  {
   "cell_type": "code",
   "execution_count": 2,
   "id": "68ca37e9",
   "metadata": {},
   "outputs": [],
   "source": [
    "data = pd.read_excel('data/Telco_customer_churn.xlsx')"
   ]
  },
  {
   "cell_type": "code",
   "execution_count": 3,
   "id": "ef6ff995",
   "metadata": {
    "scrolled": false
   },
   "outputs": [
    {
     "data": {
      "text/html": [
       "<div>\n",
       "<style scoped>\n",
       "    .dataframe tbody tr th:only-of-type {\n",
       "        vertical-align: middle;\n",
       "    }\n",
       "\n",
       "    .dataframe tbody tr th {\n",
       "        vertical-align: top;\n",
       "    }\n",
       "\n",
       "    .dataframe thead th {\n",
       "        text-align: right;\n",
       "    }\n",
       "</style>\n",
       "<table border=\"1\" class=\"dataframe\">\n",
       "  <thead>\n",
       "    <tr style=\"text-align: right;\">\n",
       "      <th></th>\n",
       "      <th>CustomerID</th>\n",
       "      <th>Count</th>\n",
       "      <th>Country</th>\n",
       "      <th>State</th>\n",
       "      <th>City</th>\n",
       "      <th>Zip Code</th>\n",
       "      <th>Lat Long</th>\n",
       "      <th>Latitude</th>\n",
       "      <th>Longitude</th>\n",
       "      <th>Gender</th>\n",
       "      <th>...</th>\n",
       "      <th>Contract</th>\n",
       "      <th>Paperless Billing</th>\n",
       "      <th>Payment Method</th>\n",
       "      <th>Monthly Charges</th>\n",
       "      <th>Total Charges</th>\n",
       "      <th>Churn Label</th>\n",
       "      <th>Churn Value</th>\n",
       "      <th>Churn Score</th>\n",
       "      <th>CLTV</th>\n",
       "      <th>Churn Reason</th>\n",
       "    </tr>\n",
       "  </thead>\n",
       "  <tbody>\n",
       "    <tr>\n",
       "      <th>0</th>\n",
       "      <td>3668-QPYBK</td>\n",
       "      <td>1</td>\n",
       "      <td>United States</td>\n",
       "      <td>California</td>\n",
       "      <td>Los Angeles</td>\n",
       "      <td>90003</td>\n",
       "      <td>33.964131, -118.272783</td>\n",
       "      <td>33.964131</td>\n",
       "      <td>-118.272783</td>\n",
       "      <td>Male</td>\n",
       "      <td>...</td>\n",
       "      <td>Month-to-month</td>\n",
       "      <td>Yes</td>\n",
       "      <td>Mailed check</td>\n",
       "      <td>53.85</td>\n",
       "      <td>108.15</td>\n",
       "      <td>Yes</td>\n",
       "      <td>1</td>\n",
       "      <td>86</td>\n",
       "      <td>3239</td>\n",
       "      <td>Competitor made better offer</td>\n",
       "    </tr>\n",
       "    <tr>\n",
       "      <th>1</th>\n",
       "      <td>9237-HQITU</td>\n",
       "      <td>1</td>\n",
       "      <td>United States</td>\n",
       "      <td>California</td>\n",
       "      <td>Los Angeles</td>\n",
       "      <td>90005</td>\n",
       "      <td>34.059281, -118.30742</td>\n",
       "      <td>34.059281</td>\n",
       "      <td>-118.307420</td>\n",
       "      <td>Female</td>\n",
       "      <td>...</td>\n",
       "      <td>Month-to-month</td>\n",
       "      <td>Yes</td>\n",
       "      <td>Electronic check</td>\n",
       "      <td>70.70</td>\n",
       "      <td>151.65</td>\n",
       "      <td>Yes</td>\n",
       "      <td>1</td>\n",
       "      <td>67</td>\n",
       "      <td>2701</td>\n",
       "      <td>Moved</td>\n",
       "    </tr>\n",
       "    <tr>\n",
       "      <th>2</th>\n",
       "      <td>9305-CDSKC</td>\n",
       "      <td>1</td>\n",
       "      <td>United States</td>\n",
       "      <td>California</td>\n",
       "      <td>Los Angeles</td>\n",
       "      <td>90006</td>\n",
       "      <td>34.048013, -118.293953</td>\n",
       "      <td>34.048013</td>\n",
       "      <td>-118.293953</td>\n",
       "      <td>Female</td>\n",
       "      <td>...</td>\n",
       "      <td>Month-to-month</td>\n",
       "      <td>Yes</td>\n",
       "      <td>Electronic check</td>\n",
       "      <td>99.65</td>\n",
       "      <td>820.5</td>\n",
       "      <td>Yes</td>\n",
       "      <td>1</td>\n",
       "      <td>86</td>\n",
       "      <td>5372</td>\n",
       "      <td>Moved</td>\n",
       "    </tr>\n",
       "    <tr>\n",
       "      <th>3</th>\n",
       "      <td>7892-POOKP</td>\n",
       "      <td>1</td>\n",
       "      <td>United States</td>\n",
       "      <td>California</td>\n",
       "      <td>Los Angeles</td>\n",
       "      <td>90010</td>\n",
       "      <td>34.062125, -118.315709</td>\n",
       "      <td>34.062125</td>\n",
       "      <td>-118.315709</td>\n",
       "      <td>Female</td>\n",
       "      <td>...</td>\n",
       "      <td>Month-to-month</td>\n",
       "      <td>Yes</td>\n",
       "      <td>Electronic check</td>\n",
       "      <td>104.80</td>\n",
       "      <td>3046.05</td>\n",
       "      <td>Yes</td>\n",
       "      <td>1</td>\n",
       "      <td>84</td>\n",
       "      <td>5003</td>\n",
       "      <td>Moved</td>\n",
       "    </tr>\n",
       "    <tr>\n",
       "      <th>4</th>\n",
       "      <td>0280-XJGEX</td>\n",
       "      <td>1</td>\n",
       "      <td>United States</td>\n",
       "      <td>California</td>\n",
       "      <td>Los Angeles</td>\n",
       "      <td>90015</td>\n",
       "      <td>34.039224, -118.266293</td>\n",
       "      <td>34.039224</td>\n",
       "      <td>-118.266293</td>\n",
       "      <td>Male</td>\n",
       "      <td>...</td>\n",
       "      <td>Month-to-month</td>\n",
       "      <td>Yes</td>\n",
       "      <td>Bank transfer (automatic)</td>\n",
       "      <td>103.70</td>\n",
       "      <td>5036.3</td>\n",
       "      <td>Yes</td>\n",
       "      <td>1</td>\n",
       "      <td>89</td>\n",
       "      <td>5340</td>\n",
       "      <td>Competitor had better devices</td>\n",
       "    </tr>\n",
       "  </tbody>\n",
       "</table>\n",
       "<p>5 rows × 33 columns</p>\n",
       "</div>"
      ],
      "text/plain": [
       "   CustomerID  Count        Country       State         City  Zip Code  \\\n",
       "0  3668-QPYBK      1  United States  California  Los Angeles     90003   \n",
       "1  9237-HQITU      1  United States  California  Los Angeles     90005   \n",
       "2  9305-CDSKC      1  United States  California  Los Angeles     90006   \n",
       "3  7892-POOKP      1  United States  California  Los Angeles     90010   \n",
       "4  0280-XJGEX      1  United States  California  Los Angeles     90015   \n",
       "\n",
       "                 Lat Long   Latitude   Longitude  Gender  ...        Contract  \\\n",
       "0  33.964131, -118.272783  33.964131 -118.272783    Male  ...  Month-to-month   \n",
       "1   34.059281, -118.30742  34.059281 -118.307420  Female  ...  Month-to-month   \n",
       "2  34.048013, -118.293953  34.048013 -118.293953  Female  ...  Month-to-month   \n",
       "3  34.062125, -118.315709  34.062125 -118.315709  Female  ...  Month-to-month   \n",
       "4  34.039224, -118.266293  34.039224 -118.266293    Male  ...  Month-to-month   \n",
       "\n",
       "  Paperless Billing             Payment Method  Monthly Charges Total Charges  \\\n",
       "0               Yes               Mailed check            53.85        108.15   \n",
       "1               Yes           Electronic check            70.70        151.65   \n",
       "2               Yes           Electronic check            99.65         820.5   \n",
       "3               Yes           Electronic check           104.80       3046.05   \n",
       "4               Yes  Bank transfer (automatic)           103.70        5036.3   \n",
       "\n",
       "  Churn Label Churn Value Churn Score  CLTV                   Churn Reason  \n",
       "0         Yes           1          86  3239   Competitor made better offer  \n",
       "1         Yes           1          67  2701                          Moved  \n",
       "2         Yes           1          86  5372                          Moved  \n",
       "3         Yes           1          84  5003                          Moved  \n",
       "4         Yes           1          89  5340  Competitor had better devices  \n",
       "\n",
       "[5 rows x 33 columns]"
      ]
     },
     "execution_count": 3,
     "metadata": {},
     "output_type": "execute_result"
    }
   ],
   "source": [
    "df = data.copy()\n",
    "df.head()"
   ]
  },
  {
   "cell_type": "markdown",
   "id": "7efc1673",
   "metadata": {},
   "source": [
    "### Summary"
   ]
  },
  {
   "cell_type": "code",
   "execution_count": 4,
   "id": "c54e988e",
   "metadata": {},
   "outputs": [
    {
     "name": "stdout",
     "output_type": "stream",
     "text": [
      "<class 'pandas.core.frame.DataFrame'>\n",
      "RangeIndex: 7043 entries, 0 to 7042\n",
      "Data columns (total 33 columns):\n",
      " #   Column             Non-Null Count  Dtype  \n",
      "---  ------             --------------  -----  \n",
      " 0   CustomerID         7043 non-null   object \n",
      " 1   Count              7043 non-null   int64  \n",
      " 2   Country            7043 non-null   object \n",
      " 3   State              7043 non-null   object \n",
      " 4   City               7043 non-null   object \n",
      " 5   Zip Code           7043 non-null   int64  \n",
      " 6   Lat Long           7043 non-null   object \n",
      " 7   Latitude           7043 non-null   float64\n",
      " 8   Longitude          7043 non-null   float64\n",
      " 9   Gender             7043 non-null   object \n",
      " 10  Senior Citizen     7043 non-null   object \n",
      " 11  Partner            7043 non-null   object \n",
      " 12  Dependents         7043 non-null   object \n",
      " 13  Tenure Months      7043 non-null   int64  \n",
      " 14  Phone Service      7043 non-null   object \n",
      " 15  Multiple Lines     7043 non-null   object \n",
      " 16  Internet Service   7043 non-null   object \n",
      " 17  Online Security    7043 non-null   object \n",
      " 18  Online Backup      7043 non-null   object \n",
      " 19  Device Protection  7043 non-null   object \n",
      " 20  Tech Support       7043 non-null   object \n",
      " 21  Streaming TV       7043 non-null   object \n",
      " 22  Streaming Movies   7043 non-null   object \n",
      " 23  Contract           7043 non-null   object \n",
      " 24  Paperless Billing  7043 non-null   object \n",
      " 25  Payment Method     7043 non-null   object \n",
      " 26  Monthly Charges    7043 non-null   float64\n",
      " 27  Total Charges      7043 non-null   object \n",
      " 28  Churn Label        7043 non-null   object \n",
      " 29  Churn Value        7043 non-null   int64  \n",
      " 30  Churn Score        7043 non-null   int64  \n",
      " 31  CLTV               7043 non-null   int64  \n",
      " 32  Churn Reason       1869 non-null   object \n",
      "dtypes: float64(3), int64(6), object(24)\n",
      "memory usage: 1.8+ MB\n"
     ]
    }
   ],
   "source": [
    "df.info()"
   ]
  },
  {
   "cell_type": "code",
   "execution_count": 5,
   "id": "fa6f9a2f",
   "metadata": {},
   "outputs": [
    {
     "data": {
      "text/html": [
       "<div>\n",
       "<style scoped>\n",
       "    .dataframe tbody tr th:only-of-type {\n",
       "        vertical-align: middle;\n",
       "    }\n",
       "\n",
       "    .dataframe tbody tr th {\n",
       "        vertical-align: top;\n",
       "    }\n",
       "\n",
       "    .dataframe thead th {\n",
       "        text-align: right;\n",
       "    }\n",
       "</style>\n",
       "<table border=\"1\" class=\"dataframe\">\n",
       "  <thead>\n",
       "    <tr style=\"text-align: right;\">\n",
       "      <th></th>\n",
       "      <th>Count</th>\n",
       "      <th>Zip Code</th>\n",
       "      <th>Latitude</th>\n",
       "      <th>Longitude</th>\n",
       "      <th>Tenure Months</th>\n",
       "      <th>Monthly Charges</th>\n",
       "      <th>Churn Value</th>\n",
       "      <th>Churn Score</th>\n",
       "      <th>CLTV</th>\n",
       "    </tr>\n",
       "  </thead>\n",
       "  <tbody>\n",
       "    <tr>\n",
       "      <th>count</th>\n",
       "      <td>7043.0</td>\n",
       "      <td>7043.000000</td>\n",
       "      <td>7043.000000</td>\n",
       "      <td>7043.000000</td>\n",
       "      <td>7043.000000</td>\n",
       "      <td>7043.000000</td>\n",
       "      <td>7043.000000</td>\n",
       "      <td>7043.000000</td>\n",
       "      <td>7043.000000</td>\n",
       "    </tr>\n",
       "    <tr>\n",
       "      <th>mean</th>\n",
       "      <td>1.0</td>\n",
       "      <td>93521.964646</td>\n",
       "      <td>36.282441</td>\n",
       "      <td>-119.798880</td>\n",
       "      <td>32.371149</td>\n",
       "      <td>64.761692</td>\n",
       "      <td>0.265370</td>\n",
       "      <td>58.699418</td>\n",
       "      <td>4400.295755</td>\n",
       "    </tr>\n",
       "    <tr>\n",
       "      <th>std</th>\n",
       "      <td>0.0</td>\n",
       "      <td>1865.794555</td>\n",
       "      <td>2.455723</td>\n",
       "      <td>2.157889</td>\n",
       "      <td>24.559481</td>\n",
       "      <td>30.090047</td>\n",
       "      <td>0.441561</td>\n",
       "      <td>21.525131</td>\n",
       "      <td>1183.057152</td>\n",
       "    </tr>\n",
       "    <tr>\n",
       "      <th>min</th>\n",
       "      <td>1.0</td>\n",
       "      <td>90001.000000</td>\n",
       "      <td>32.555828</td>\n",
       "      <td>-124.301372</td>\n",
       "      <td>0.000000</td>\n",
       "      <td>18.250000</td>\n",
       "      <td>0.000000</td>\n",
       "      <td>5.000000</td>\n",
       "      <td>2003.000000</td>\n",
       "    </tr>\n",
       "    <tr>\n",
       "      <th>25%</th>\n",
       "      <td>1.0</td>\n",
       "      <td>92102.000000</td>\n",
       "      <td>34.030915</td>\n",
       "      <td>-121.815412</td>\n",
       "      <td>9.000000</td>\n",
       "      <td>35.500000</td>\n",
       "      <td>0.000000</td>\n",
       "      <td>40.000000</td>\n",
       "      <td>3469.000000</td>\n",
       "    </tr>\n",
       "    <tr>\n",
       "      <th>50%</th>\n",
       "      <td>1.0</td>\n",
       "      <td>93552.000000</td>\n",
       "      <td>36.391777</td>\n",
       "      <td>-119.730885</td>\n",
       "      <td>29.000000</td>\n",
       "      <td>70.350000</td>\n",
       "      <td>0.000000</td>\n",
       "      <td>61.000000</td>\n",
       "      <td>4527.000000</td>\n",
       "    </tr>\n",
       "    <tr>\n",
       "      <th>75%</th>\n",
       "      <td>1.0</td>\n",
       "      <td>95351.000000</td>\n",
       "      <td>38.224869</td>\n",
       "      <td>-118.043237</td>\n",
       "      <td>55.000000</td>\n",
       "      <td>89.850000</td>\n",
       "      <td>1.000000</td>\n",
       "      <td>75.000000</td>\n",
       "      <td>5380.500000</td>\n",
       "    </tr>\n",
       "    <tr>\n",
       "      <th>max</th>\n",
       "      <td>1.0</td>\n",
       "      <td>96161.000000</td>\n",
       "      <td>41.962127</td>\n",
       "      <td>-114.192901</td>\n",
       "      <td>72.000000</td>\n",
       "      <td>118.750000</td>\n",
       "      <td>1.000000</td>\n",
       "      <td>100.000000</td>\n",
       "      <td>6500.000000</td>\n",
       "    </tr>\n",
       "  </tbody>\n",
       "</table>\n",
       "</div>"
      ],
      "text/plain": [
       "        Count      Zip Code     Latitude    Longitude  Tenure Months  \\\n",
       "count  7043.0   7043.000000  7043.000000  7043.000000    7043.000000   \n",
       "mean      1.0  93521.964646    36.282441  -119.798880      32.371149   \n",
       "std       0.0   1865.794555     2.455723     2.157889      24.559481   \n",
       "min       1.0  90001.000000    32.555828  -124.301372       0.000000   \n",
       "25%       1.0  92102.000000    34.030915  -121.815412       9.000000   \n",
       "50%       1.0  93552.000000    36.391777  -119.730885      29.000000   \n",
       "75%       1.0  95351.000000    38.224869  -118.043237      55.000000   \n",
       "max       1.0  96161.000000    41.962127  -114.192901      72.000000   \n",
       "\n",
       "       Monthly Charges  Churn Value  Churn Score         CLTV  \n",
       "count      7043.000000  7043.000000  7043.000000  7043.000000  \n",
       "mean         64.761692     0.265370    58.699418  4400.295755  \n",
       "std          30.090047     0.441561    21.525131  1183.057152  \n",
       "min          18.250000     0.000000     5.000000  2003.000000  \n",
       "25%          35.500000     0.000000    40.000000  3469.000000  \n",
       "50%          70.350000     0.000000    61.000000  4527.000000  \n",
       "75%          89.850000     1.000000    75.000000  5380.500000  \n",
       "max         118.750000     1.000000   100.000000  6500.000000  "
      ]
     },
     "execution_count": 5,
     "metadata": {},
     "output_type": "execute_result"
    }
   ],
   "source": [
    "df.describe()"
   ]
  },
  {
   "cell_type": "code",
   "execution_count": 6,
   "id": "5ecd302a",
   "metadata": {},
   "outputs": [
    {
     "data": {
      "text/html": [
       "<div>\n",
       "<style scoped>\n",
       "    .dataframe tbody tr th:only-of-type {\n",
       "        vertical-align: middle;\n",
       "    }\n",
       "\n",
       "    .dataframe tbody tr th {\n",
       "        vertical-align: top;\n",
       "    }\n",
       "\n",
       "    .dataframe thead th {\n",
       "        text-align: right;\n",
       "    }\n",
       "</style>\n",
       "<table border=\"1\" class=\"dataframe\">\n",
       "  <thead>\n",
       "    <tr style=\"text-align: right;\">\n",
       "      <th></th>\n",
       "      <th>count</th>\n",
       "      <th>unique</th>\n",
       "      <th>top</th>\n",
       "      <th>freq</th>\n",
       "    </tr>\n",
       "  </thead>\n",
       "  <tbody>\n",
       "    <tr>\n",
       "      <th>CustomerID</th>\n",
       "      <td>7043</td>\n",
       "      <td>7043</td>\n",
       "      <td>3668-QPYBK</td>\n",
       "      <td>1</td>\n",
       "    </tr>\n",
       "    <tr>\n",
       "      <th>Country</th>\n",
       "      <td>7043</td>\n",
       "      <td>1</td>\n",
       "      <td>United States</td>\n",
       "      <td>7043</td>\n",
       "    </tr>\n",
       "    <tr>\n",
       "      <th>State</th>\n",
       "      <td>7043</td>\n",
       "      <td>1</td>\n",
       "      <td>California</td>\n",
       "      <td>7043</td>\n",
       "    </tr>\n",
       "    <tr>\n",
       "      <th>City</th>\n",
       "      <td>7043</td>\n",
       "      <td>1129</td>\n",
       "      <td>Los Angeles</td>\n",
       "      <td>305</td>\n",
       "    </tr>\n",
       "    <tr>\n",
       "      <th>Lat Long</th>\n",
       "      <td>7043</td>\n",
       "      <td>1652</td>\n",
       "      <td>33.964131, -118.272783</td>\n",
       "      <td>5</td>\n",
       "    </tr>\n",
       "    <tr>\n",
       "      <th>Gender</th>\n",
       "      <td>7043</td>\n",
       "      <td>2</td>\n",
       "      <td>Male</td>\n",
       "      <td>3555</td>\n",
       "    </tr>\n",
       "    <tr>\n",
       "      <th>Senior Citizen</th>\n",
       "      <td>7043</td>\n",
       "      <td>2</td>\n",
       "      <td>No</td>\n",
       "      <td>5901</td>\n",
       "    </tr>\n",
       "    <tr>\n",
       "      <th>Partner</th>\n",
       "      <td>7043</td>\n",
       "      <td>2</td>\n",
       "      <td>No</td>\n",
       "      <td>3641</td>\n",
       "    </tr>\n",
       "    <tr>\n",
       "      <th>Dependents</th>\n",
       "      <td>7043</td>\n",
       "      <td>2</td>\n",
       "      <td>No</td>\n",
       "      <td>5416</td>\n",
       "    </tr>\n",
       "    <tr>\n",
       "      <th>Phone Service</th>\n",
       "      <td>7043</td>\n",
       "      <td>2</td>\n",
       "      <td>Yes</td>\n",
       "      <td>6361</td>\n",
       "    </tr>\n",
       "    <tr>\n",
       "      <th>Multiple Lines</th>\n",
       "      <td>7043</td>\n",
       "      <td>3</td>\n",
       "      <td>No</td>\n",
       "      <td>3390</td>\n",
       "    </tr>\n",
       "    <tr>\n",
       "      <th>Internet Service</th>\n",
       "      <td>7043</td>\n",
       "      <td>3</td>\n",
       "      <td>Fiber optic</td>\n",
       "      <td>3096</td>\n",
       "    </tr>\n",
       "    <tr>\n",
       "      <th>Online Security</th>\n",
       "      <td>7043</td>\n",
       "      <td>3</td>\n",
       "      <td>No</td>\n",
       "      <td>3498</td>\n",
       "    </tr>\n",
       "    <tr>\n",
       "      <th>Online Backup</th>\n",
       "      <td>7043</td>\n",
       "      <td>3</td>\n",
       "      <td>No</td>\n",
       "      <td>3088</td>\n",
       "    </tr>\n",
       "    <tr>\n",
       "      <th>Device Protection</th>\n",
       "      <td>7043</td>\n",
       "      <td>3</td>\n",
       "      <td>No</td>\n",
       "      <td>3095</td>\n",
       "    </tr>\n",
       "    <tr>\n",
       "      <th>Tech Support</th>\n",
       "      <td>7043</td>\n",
       "      <td>3</td>\n",
       "      <td>No</td>\n",
       "      <td>3473</td>\n",
       "    </tr>\n",
       "    <tr>\n",
       "      <th>Streaming TV</th>\n",
       "      <td>7043</td>\n",
       "      <td>3</td>\n",
       "      <td>No</td>\n",
       "      <td>2810</td>\n",
       "    </tr>\n",
       "    <tr>\n",
       "      <th>Streaming Movies</th>\n",
       "      <td>7043</td>\n",
       "      <td>3</td>\n",
       "      <td>No</td>\n",
       "      <td>2785</td>\n",
       "    </tr>\n",
       "    <tr>\n",
       "      <th>Contract</th>\n",
       "      <td>7043</td>\n",
       "      <td>3</td>\n",
       "      <td>Month-to-month</td>\n",
       "      <td>3875</td>\n",
       "    </tr>\n",
       "    <tr>\n",
       "      <th>Paperless Billing</th>\n",
       "      <td>7043</td>\n",
       "      <td>2</td>\n",
       "      <td>Yes</td>\n",
       "      <td>4171</td>\n",
       "    </tr>\n",
       "    <tr>\n",
       "      <th>Payment Method</th>\n",
       "      <td>7043</td>\n",
       "      <td>4</td>\n",
       "      <td>Electronic check</td>\n",
       "      <td>2365</td>\n",
       "    </tr>\n",
       "    <tr>\n",
       "      <th>Total Charges</th>\n",
       "      <td>7043.0</td>\n",
       "      <td>6531.0</td>\n",
       "      <td>20.2</td>\n",
       "      <td>11.0</td>\n",
       "    </tr>\n",
       "    <tr>\n",
       "      <th>Churn Label</th>\n",
       "      <td>7043</td>\n",
       "      <td>2</td>\n",
       "      <td>No</td>\n",
       "      <td>5174</td>\n",
       "    </tr>\n",
       "    <tr>\n",
       "      <th>Churn Reason</th>\n",
       "      <td>1869</td>\n",
       "      <td>20</td>\n",
       "      <td>Attitude of support person</td>\n",
       "      <td>192</td>\n",
       "    </tr>\n",
       "  </tbody>\n",
       "</table>\n",
       "</div>"
      ],
      "text/plain": [
       "                    count  unique                         top  freq\n",
       "CustomerID           7043    7043                  3668-QPYBK     1\n",
       "Country              7043       1               United States  7043\n",
       "State                7043       1                  California  7043\n",
       "City                 7043    1129                 Los Angeles   305\n",
       "Lat Long             7043    1652      33.964131, -118.272783     5\n",
       "Gender               7043       2                        Male  3555\n",
       "Senior Citizen       7043       2                          No  5901\n",
       "Partner              7043       2                          No  3641\n",
       "Dependents           7043       2                          No  5416\n",
       "Phone Service        7043       2                         Yes  6361\n",
       "Multiple Lines       7043       3                          No  3390\n",
       "Internet Service     7043       3                 Fiber optic  3096\n",
       "Online Security      7043       3                          No  3498\n",
       "Online Backup        7043       3                          No  3088\n",
       "Device Protection    7043       3                          No  3095\n",
       "Tech Support         7043       3                          No  3473\n",
       "Streaming TV         7043       3                          No  2810\n",
       "Streaming Movies     7043       3                          No  2785\n",
       "Contract             7043       3              Month-to-month  3875\n",
       "Paperless Billing    7043       2                         Yes  4171\n",
       "Payment Method       7043       4            Electronic check  2365\n",
       "Total Charges      7043.0  6531.0                        20.2  11.0\n",
       "Churn Label          7043       2                          No  5174\n",
       "Churn Reason         1869      20  Attitude of support person   192"
      ]
     },
     "execution_count": 6,
     "metadata": {},
     "output_type": "execute_result"
    }
   ],
   "source": [
    "df.select_dtypes(np.object).describe().transpose()"
   ]
  },
  {
   "cell_type": "code",
   "execution_count": 7,
   "id": "817bc259",
   "metadata": {},
   "outputs": [
    {
     "data": {
      "text/plain": [
       "CustomerID              0\n",
       "Count                   0\n",
       "Country                 0\n",
       "State                   0\n",
       "City                    0\n",
       "Zip Code                0\n",
       "Lat Long                0\n",
       "Latitude                0\n",
       "Longitude               0\n",
       "Gender                  0\n",
       "Senior Citizen          0\n",
       "Partner                 0\n",
       "Dependents              0\n",
       "Tenure Months           0\n",
       "Phone Service           0\n",
       "Multiple Lines          0\n",
       "Internet Service        0\n",
       "Online Security         0\n",
       "Online Backup           0\n",
       "Device Protection       0\n",
       "Tech Support            0\n",
       "Streaming TV            0\n",
       "Streaming Movies        0\n",
       "Contract                0\n",
       "Paperless Billing       0\n",
       "Payment Method          0\n",
       "Monthly Charges         0\n",
       "Total Charges           0\n",
       "Churn Label             0\n",
       "Churn Value             0\n",
       "Churn Score             0\n",
       "CLTV                    0\n",
       "Churn Reason         5174\n",
       "dtype: int64"
      ]
     },
     "execution_count": 7,
     "metadata": {},
     "output_type": "execute_result"
    }
   ],
   "source": [
    "df.isnull().sum()"
   ]
  },
  {
   "cell_type": "markdown",
   "id": "e7c7efc9",
   "metadata": {},
   "source": [
    "### Missing Data"
   ]
  },
  {
   "cell_type": "code",
   "execution_count": 8,
   "id": "5839e6ac",
   "metadata": {
    "scrolled": false
   },
   "outputs": [
    {
     "data": {
      "image/png": "[encoded data removed]",
      "text/plain": [
       "<Figure size 1080x360 with 2 Axes>"
      ]
     },
     "metadata": {
      "needs_background": "light"
     },
     "output_type": "display_data"
    }
   ],
   "source": [
    "msno.matrix(df, figsize=(15,5))\n",
    "plt.show()"
   ]
  },
  {
   "cell_type": "markdown",
   "id": "38a5bb79",
   "metadata": {},
   "source": [
    "### Unique Values"
   ]
  },
  {
   "cell_type": "code",
   "execution_count": 9,
   "id": "c5cc132a",
   "metadata": {},
   "outputs": [
    {
     "name": "stdout",
     "output_type": "stream",
     "text": [
      "CustomerID        ----- 7043 \n",
      "Country           ----- 1     ----- ['United States']\n",
      "State             ----- 1     ----- ['California']\n",
      "City              ----- 1129 \n",
      "Lat Long          ----- 1652 \n",
      "Gender            ----- 2     ----- ['Male' 'Female']\n",
      "Senior Citizen    ----- 2     ----- ['No' 'Yes']\n",
      "Partner           ----- 2     ----- ['No' 'Yes']\n",
      "Dependents        ----- 2     ----- ['No' 'Yes']\n",
      "Phone Service     ----- 2     ----- ['Yes' 'No']\n",
      "Multiple Lines    ----- 3     ----- ['No' 'Yes' 'No phone service']\n",
      "Internet Service  ----- 3     ----- ['DSL' 'Fiber optic' 'No']\n",
      "Online Security   ----- 3     ----- ['Yes' 'No' 'No internet service']\n",
      "Online Backup     ----- 3     ----- ['Yes' 'No' 'No internet service']\n",
      "Device Protection ----- 3     ----- ['No' 'Yes' 'No internet service']\n",
      "Tech Support      ----- 3     ----- ['No' 'Yes' 'No internet service']\n",
      "Streaming TV      ----- 3     ----- ['No' 'Yes' 'No internet service']\n",
      "Streaming Movies  ----- 3     ----- ['No' 'Yes' 'No internet service']\n",
      "Contract          ----- 3     ----- ['Month-to-month' 'Two year' 'One year']\n",
      "Paperless Billing ----- 2     ----- ['Yes' 'No']\n",
      "Payment Method    ----- 4     ----- ['Mailed check' 'Electronic check' 'Bank transfer (automatic)'\n",
      " 'Credit card (automatic)']\n",
      "Total Charges     ----- 6531 \n",
      "Churn Label       ----- 2     ----- ['Yes' 'No']\n",
      "Churn Reason      ----- 21   \n"
     ]
    }
   ],
   "source": [
    "for column in df.select_dtypes(np.object).columns:\n",
    "    num_values = len(df[column].unique())\n",
    "    unique_values = df[column].unique()\n",
    "    if num_values <= 15:\n",
    "        print(f'{column:<17} ----- {num_values:<5} ----- {unique_values}') # <, >, or ^ symbols to specify left align, right align, or centering, respectively\n",
    "    else:\n",
    "        print(f'{column:<17} ----- {num_values:<5}')"
   ]
  },
  {
   "cell_type": "markdown",
   "id": "bc36bf03",
   "metadata": {},
   "source": [
    "**COMMENTS:**\n",
    "- `CustomerID` is different for evey user, so it is irrelevant for classification, and will be dropped.\n",
    "- `Count` has a single value for every example, so will be dropped.\n",
    "- `Country` has a single value for every example, so will be dropped.\n",
    "- `State` has a single value for every example, so will be dropped.\n",
    "- `Lat Long` is irrelevant because there are separate columns for latitutde and longitude, so will be dropped.\n",
    "- `Churn Label` is directly related to `Churn Value`, so will be dropped.\n",
    "- `Churn Reason` is information given by the customer after they left the company, so it doesn't have predictibe ability, and will be dropped.\n",
    "\n",
    "\n",
    "- `Total Charges` is of type `object`, but in fact it should be `np.number`, and will be converted."
   ]
  },
  {
   "cell_type": "markdown",
   "id": "e1d06b91",
   "metadata": {},
   "source": [
    "### Class Distributions"
   ]
  },
  {
   "cell_type": "code",
   "execution_count": 10,
   "id": "78f0b68b",
   "metadata": {},
   "outputs": [
    {
     "name": "stdout",
     "output_type": "stream",
     "text": [
      "Data set class counts: {1: 1869, 0: 5174}\n",
      "Data set class ratios: {1: 26.540000000000003, 0: 73.46000000000001}\n"
     ]
    }
   ],
   "source": [
    "def get_class_counts(df, feature):\n",
    "    '''\n",
    "    Function that returns the number of examples in each class\n",
    "    '''\n",
    "    classes = df[feature].unique()\n",
    "    class_counts = dict()\n",
    "    \n",
    "    for c in classes:\n",
    "        counts = df[df[feature] == c].shape[0]\n",
    "        class_counts.update({c: counts})\n",
    "    \n",
    "    return class_counts\n",
    "\n",
    "def get_class_proportions(df, feature):\n",
    "    '''\n",
    "    Function that returns the ratio of examples in each class (confirmed and false positive)\n",
    "    '''\n",
    "    class_counts = get_class_counts(df, feature)\n",
    "    \n",
    "    classes = df[feature].unique()\n",
    "    total_examples = df[feature].shape[0]\n",
    "    class_ratios = dict()\n",
    "    \n",
    "    for c in classes:\n",
    "        ratio = np.round(df[df[feature] == c].shape[0] / total_examples, 4)*100\n",
    "        class_ratios.update({c: ratio})\n",
    "    \n",
    "    return class_ratios\n",
    "\n",
    "class_counts = get_class_counts(df=df, feature='Churn Value')\n",
    "class_ratios = get_class_proportions(df=df, feature='Churn Value')\n",
    "\n",
    "print(f'Data set class counts: {class_counts}')\n",
    "print(f'Data set class ratios: {class_ratios}')"
   ]
  },
  {
   "cell_type": "markdown",
   "id": "983d5b5e",
   "metadata": {},
   "source": [
    "## Preprocessing"
   ]
  },
  {
   "cell_type": "code",
   "execution_count": 11,
   "id": "d9d56fff",
   "metadata": {},
   "outputs": [],
   "source": [
    "def drop_and_convert(df):\n",
    "    #df = df.copy()\n",
    "    \n",
    "    df = df.drop(['CustomerID',\n",
    "                  'Count',\n",
    "                  'Country',\n",
    "                  'State',\n",
    "                  'City',\n",
    "                  'Lat Long',\n",
    "                  'Churn Label',\n",
    "                  'Churn Reason'\n",
    "                 ], axis=1)\n",
    "    \n",
    "    df['Total Charges'] = pd.to_numeric(df['Total Charges'],\n",
    "                         errors='coerce' # If 'coerce', then invalid parsing will be set as NaN\n",
    "                        )\n",
    "    \n",
    "    df.loc[(df['Total Charges'].isna()), 'Total Charges'] = 0\n",
    "    \n",
    "    return df"
   ]
  },
  {
   "cell_type": "markdown",
   "id": "d1f563eb",
   "metadata": {},
   "source": [
    "**COMMENT:** Some examples have an empty string `\" \"` as value for `Total Charges`. These are missing values, and will be treated as such."
   ]
  },
  {
   "cell_type": "markdown",
   "id": "f87d0969",
   "metadata": {},
   "source": [
    "**COMMENT:** As expected, there are missing values in `Total Charges`, 11 in total, and will be imputed.\n",
    "\n",
    "Can be seen that for those that don't have a value for `Total Charge`, for the column `Tenure Months` have a value of zero, meaning that they have just subscribed to the service so they haven't been charged yet. Also, these clients all have `Churn Value` set to `0` because they have just signed up.\n",
    "\n",
    "The values `Total Charges` that are missing will be set to `0`."
   ]
  },
  {
   "cell_type": "code",
   "execution_count": 12,
   "id": "d93223f5",
   "metadata": {},
   "outputs": [
    {
     "data": {
      "text/html": [
       "<div>\n",
       "<style scoped>\n",
       "    .dataframe tbody tr th:only-of-type {\n",
       "        vertical-align: middle;\n",
       "    }\n",
       "\n",
       "    .dataframe tbody tr th {\n",
       "        vertical-align: top;\n",
       "    }\n",
       "\n",
       "    .dataframe thead th {\n",
       "        text-align: right;\n",
       "    }\n",
       "</style>\n",
       "<table border=\"1\" class=\"dataframe\">\n",
       "  <thead>\n",
       "    <tr style=\"text-align: right;\">\n",
       "      <th></th>\n",
       "      <th>Zip Code</th>\n",
       "      <th>Latitude</th>\n",
       "      <th>Longitude</th>\n",
       "      <th>Gender</th>\n",
       "      <th>Senior Citizen</th>\n",
       "      <th>Partner</th>\n",
       "      <th>Dependents</th>\n",
       "      <th>Tenure Months</th>\n",
       "      <th>Phone Service</th>\n",
       "      <th>Multiple Lines</th>\n",
       "      <th>...</th>\n",
       "      <th>Streaming TV</th>\n",
       "      <th>Streaming Movies</th>\n",
       "      <th>Contract</th>\n",
       "      <th>Paperless Billing</th>\n",
       "      <th>Payment Method</th>\n",
       "      <th>Monthly Charges</th>\n",
       "      <th>Total Charges</th>\n",
       "      <th>Churn Value</th>\n",
       "      <th>Churn Score</th>\n",
       "      <th>CLTV</th>\n",
       "    </tr>\n",
       "  </thead>\n",
       "  <tbody>\n",
       "    <tr>\n",
       "      <th>0</th>\n",
       "      <td>90003</td>\n",
       "      <td>33.964131</td>\n",
       "      <td>-118.272783</td>\n",
       "      <td>Male</td>\n",
       "      <td>No</td>\n",
       "      <td>No</td>\n",
       "      <td>No</td>\n",
       "      <td>2</td>\n",
       "      <td>Yes</td>\n",
       "      <td>No</td>\n",
       "      <td>...</td>\n",
       "      <td>No</td>\n",
       "      <td>No</td>\n",
       "      <td>Month-to-month</td>\n",
       "      <td>Yes</td>\n",
       "      <td>Mailed check</td>\n",
       "      <td>53.85</td>\n",
       "      <td>108.15</td>\n",
       "      <td>1</td>\n",
       "      <td>86</td>\n",
       "      <td>3239</td>\n",
       "    </tr>\n",
       "    <tr>\n",
       "      <th>1</th>\n",
       "      <td>90005</td>\n",
       "      <td>34.059281</td>\n",
       "      <td>-118.307420</td>\n",
       "      <td>Female</td>\n",
       "      <td>No</td>\n",
       "      <td>No</td>\n",
       "      <td>Yes</td>\n",
       "      <td>2</td>\n",
       "      <td>Yes</td>\n",
       "      <td>No</td>\n",
       "      <td>...</td>\n",
       "      <td>No</td>\n",
       "      <td>No</td>\n",
       "      <td>Month-to-month</td>\n",
       "      <td>Yes</td>\n",
       "      <td>Electronic check</td>\n",
       "      <td>70.70</td>\n",
       "      <td>151.65</td>\n",
       "      <td>1</td>\n",
       "      <td>67</td>\n",
       "      <td>2701</td>\n",
       "    </tr>\n",
       "    <tr>\n",
       "      <th>2</th>\n",
       "      <td>90006</td>\n",
       "      <td>34.048013</td>\n",
       "      <td>-118.293953</td>\n",
       "      <td>Female</td>\n",
       "      <td>No</td>\n",
       "      <td>No</td>\n",
       "      <td>Yes</td>\n",
       "      <td>8</td>\n",
       "      <td>Yes</td>\n",
       "      <td>Yes</td>\n",
       "      <td>...</td>\n",
       "      <td>Yes</td>\n",
       "      <td>Yes</td>\n",
       "      <td>Month-to-month</td>\n",
       "      <td>Yes</td>\n",
       "      <td>Electronic check</td>\n",
       "      <td>99.65</td>\n",
       "      <td>820.50</td>\n",
       "      <td>1</td>\n",
       "      <td>86</td>\n",
       "      <td>5372</td>\n",
       "    </tr>\n",
       "    <tr>\n",
       "      <th>3</th>\n",
       "      <td>90010</td>\n",
       "      <td>34.062125</td>\n",
       "      <td>-118.315709</td>\n",
       "      <td>Female</td>\n",
       "      <td>No</td>\n",
       "      <td>Yes</td>\n",
       "      <td>Yes</td>\n",
       "      <td>28</td>\n",
       "      <td>Yes</td>\n",
       "      <td>Yes</td>\n",
       "      <td>...</td>\n",
       "      <td>Yes</td>\n",
       "      <td>Yes</td>\n",
       "      <td>Month-to-month</td>\n",
       "      <td>Yes</td>\n",
       "      <td>Electronic check</td>\n",
       "      <td>104.80</td>\n",
       "      <td>3046.05</td>\n",
       "      <td>1</td>\n",
       "      <td>84</td>\n",
       "      <td>5003</td>\n",
       "    </tr>\n",
       "    <tr>\n",
       "      <th>4</th>\n",
       "      <td>90015</td>\n",
       "      <td>34.039224</td>\n",
       "      <td>-118.266293</td>\n",
       "      <td>Male</td>\n",
       "      <td>No</td>\n",
       "      <td>No</td>\n",
       "      <td>Yes</td>\n",
       "      <td>49</td>\n",
       "      <td>Yes</td>\n",
       "      <td>Yes</td>\n",
       "      <td>...</td>\n",
       "      <td>Yes</td>\n",
       "      <td>Yes</td>\n",
       "      <td>Month-to-month</td>\n",
       "      <td>Yes</td>\n",
       "      <td>Bank transfer (automatic)</td>\n",
       "      <td>103.70</td>\n",
       "      <td>5036.30</td>\n",
       "      <td>1</td>\n",
       "      <td>89</td>\n",
       "      <td>5340</td>\n",
       "    </tr>\n",
       "  </tbody>\n",
       "</table>\n",
       "<p>5 rows × 25 columns</p>\n",
       "</div>"
      ],
      "text/plain": [
       "   Zip Code   Latitude   Longitude  Gender Senior Citizen Partner Dependents  \\\n",
       "0     90003  33.964131 -118.272783    Male             No      No         No   \n",
       "1     90005  34.059281 -118.307420  Female             No      No        Yes   \n",
       "2     90006  34.048013 -118.293953  Female             No      No        Yes   \n",
       "3     90010  34.062125 -118.315709  Female             No     Yes        Yes   \n",
       "4     90015  34.039224 -118.266293    Male             No      No        Yes   \n",
       "\n",
       "   Tenure Months Phone Service Multiple Lines  ... Streaming TV  \\\n",
       "0              2           Yes             No  ...           No   \n",
       "1              2           Yes             No  ...           No   \n",
       "2              8           Yes            Yes  ...          Yes   \n",
       "3             28           Yes            Yes  ...          Yes   \n",
       "4             49           Yes            Yes  ...          Yes   \n",
       "\n",
       "  Streaming Movies        Contract Paperless Billing  \\\n",
       "0               No  Month-to-month               Yes   \n",
       "1               No  Month-to-month               Yes   \n",
       "2              Yes  Month-to-month               Yes   \n",
       "3              Yes  Month-to-month               Yes   \n",
       "4              Yes  Month-to-month               Yes   \n",
       "\n",
       "              Payment Method Monthly Charges Total Charges Churn Value  \\\n",
       "0               Mailed check           53.85        108.15           1   \n",
       "1           Electronic check           70.70        151.65           1   \n",
       "2           Electronic check           99.65        820.50           1   \n",
       "3           Electronic check          104.80       3046.05           1   \n",
       "4  Bank transfer (automatic)          103.70       5036.30           1   \n",
       "\n",
       "  Churn Score  CLTV  \n",
       "0          86  3239  \n",
       "1          67  2701  \n",
       "2          86  5372  \n",
       "3          84  5003  \n",
       "4          89  5340  \n",
       "\n",
       "[5 rows x 25 columns]"
      ]
     },
     "execution_count": 12,
     "metadata": {},
     "output_type": "execute_result"
    }
   ],
   "source": [
    "check_drop_and_convert = drop_and_convert(df)\n",
    "check_drop_and_convert.head()"
   ]
  },
  {
   "cell_type": "code",
   "execution_count": 13,
   "id": "2899772f",
   "metadata": {},
   "outputs": [
    {
     "data": {
      "text/plain": [
       "Zip Code               int64\n",
       "Latitude             float64\n",
       "Longitude            float64\n",
       "Gender                object\n",
       "Senior Citizen        object\n",
       "Partner               object\n",
       "Dependents            object\n",
       "Tenure Months          int64\n",
       "Phone Service         object\n",
       "Multiple Lines        object\n",
       "Internet Service      object\n",
       "Online Security       object\n",
       "Online Backup         object\n",
       "Device Protection     object\n",
       "Tech Support          object\n",
       "Streaming TV          object\n",
       "Streaming Movies      object\n",
       "Contract              object\n",
       "Paperless Billing     object\n",
       "Payment Method        object\n",
       "Monthly Charges      float64\n",
       "Total Charges        float64\n",
       "Churn Value            int64\n",
       "Churn Score            int64\n",
       "CLTV                   int64\n",
       "dtype: object"
      ]
     },
     "execution_count": 13,
     "metadata": {},
     "output_type": "execute_result"
    }
   ],
   "source": [
    "check_drop_and_convert.dtypes"
   ]
  },
  {
   "cell_type": "code",
   "execution_count": 14,
   "id": "4390f1ef",
   "metadata": {},
   "outputs": [
    {
     "data": {
      "text/plain": [
       "Zip Code             0\n",
       "Latitude             0\n",
       "Longitude            0\n",
       "Gender               0\n",
       "Senior Citizen       0\n",
       "Partner              0\n",
       "Dependents           0\n",
       "Tenure Months        0\n",
       "Phone Service        0\n",
       "Multiple Lines       0\n",
       "Internet Service     0\n",
       "Online Security      0\n",
       "Online Backup        0\n",
       "Device Protection    0\n",
       "Tech Support         0\n",
       "Streaming TV         0\n",
       "Streaming Movies     0\n",
       "Contract             0\n",
       "Paperless Billing    0\n",
       "Payment Method       0\n",
       "Monthly Charges      0\n",
       "Total Charges        0\n",
       "Churn Value          0\n",
       "Churn Score          0\n",
       "CLTV                 0\n",
       "dtype: int64"
      ]
     },
     "execution_count": 14,
     "metadata": {},
     "output_type": "execute_result"
    }
   ],
   "source": [
    "check_drop_and_convert.isnull().sum()"
   ]
  },
  {
   "cell_type": "markdown",
   "id": "7a7b99f7",
   "metadata": {},
   "source": [
    "**NOTE:** It may seem that converting the categorial data to numerical is a reasonable thing to do. But this is wrong. Here's why. Let's take the feature `Payment_Method` which has the following options:\n",
    "1. `Mailed_Check`,\n",
    "2. `Electronic_Check`,\n",
    "3. `Bank_Transfer`,\n",
    "4. `Credit_Card`.\n",
    "\n",
    "If we converted these categories to numbers 1, 2, 3, and 4, and treated them like numerical data, then we would assume that 4, which means `Credit_Card`, is more similar to 3, which means `Bank_Transfer`, than it is to 1 or 2, which are other forms of payment. That means the `XGBoost` trees would be more likely to cluster the people with 3s and 4s together, than the people with 4s and 1s together.\n",
    "\n",
    "**ANOTHER NOTE:** If we treat `Payment_Method` like categorical data, then we treat each value as a separate category that is no more or less similar to any of the other category. This is done with the technique called **one-hot encoding**. There are many different ways to do this in Python, but the following are the most popular: `ColumnTransformer()` (from `scikit-learn`), and `get_dummies()` (from `pandas`), and both methods have pros and cons.\n",
    "\n",
    "`ColumnTransformer()` has a feature where it creates a persistent funcition that can validate data that you get in the future. The `ColumnTransformer()` can remember the options of the categorical feature, and when the `XGBoost` model (or any other model) is deployed in production it can recongize if someone records incorrect data point, and can throw an error, or handle the situation in a different way. The con of `ColumnTransformer()` is that it converts all data to an array, and looses the colun names, which might make it harder to verify the results.\n",
    "\n",
    "On the other hand, `get_dummies()` leaves the data in a dataframe and retains the column names, making it much easier to verify that it worked the way that it was intended. However, it doesn't have the behaviour as `ColumnTransformer()` has."
   ]
  },
  {
   "cell_type": "code",
   "execution_count": 15,
   "id": "e354e6bb",
   "metadata": {},
   "outputs": [
    {
     "data": {
      "text/html": [
       "<style>#sk-b87d24f2-d039-4b2b-9f64-6198f358b12c {color: black;background-color: white;}#sk-b87d24f2-d039-4b2b-9f64-6198f358b12c pre{padding: 0;}#sk-b87d24f2-d039-4b2b-9f64-6198f358b12c div.sk-toggleable {background-color: white;}#sk-b87d24f2-d039-4b2b-9f64-6198f358b12c label.sk-toggleable__label {cursor: pointer;display: block;width: 100%;margin-bottom: 0;padding: 0.2em 0.3em;box-sizing: border-box;text-align: center;}#sk-b87d24f2-d039-4b2b-9f64-6198f358b12c div.sk-toggleable__content {max-height: 0;max-width: 0;overflow: hidden;text-align: left;background-color: #f0f8ff;}#sk-b87d24f2-d039-4b2b-9f64-6198f358b12c div.sk-toggleable__content pre {margin: 0.2em;color: black;border-radius: 0.25em;background-color: #f0f8ff;}#sk-b87d24f2-d039-4b2b-9f64-6198f358b12c input.sk-toggleable__control:checked~div.sk-toggleable__content {max-height: 200px;max-width: 100%;overflow: auto;}#sk-b87d24f2-d039-4b2b-9f64-6198f358b12c div.sk-estimator input.sk-toggleable__control:checked~label.sk-toggleable__label {background-color: #d4ebff;}#sk-b87d24f2-d039-4b2b-9f64-6198f358b12c div.sk-label input.sk-toggleable__control:checked~label.sk-toggleable__label {background-color: #d4ebff;}#sk-b87d24f2-d039-4b2b-9f64-6198f358b12c input.sk-hidden--visually {border: 0;clip: rect(1px 1px 1px 1px);clip: rect(1px, 1px, 1px, 1px);height: 1px;margin: -1px;overflow: hidden;padding: 0;position: absolute;width: 1px;}#sk-b87d24f2-d039-4b2b-9f64-6198f358b12c div.sk-estimator {font-family: monospace;background-color: #f0f8ff;margin: 0.25em 0.25em;border: 1px dotted black;border-radius: 0.25em;box-sizing: border-box;}#sk-b87d24f2-d039-4b2b-9f64-6198f358b12c div.sk-estimator:hover {background-color: #d4ebff;}#sk-b87d24f2-d039-4b2b-9f64-6198f358b12c div.sk-parallel-item::after {content: \"\";width: 100%;border-bottom: 1px solid gray;flex-grow: 1;}#sk-b87d24f2-d039-4b2b-9f64-6198f358b12c div.sk-label:hover label.sk-toggleable__label {background-color: #d4ebff;}#sk-b87d24f2-d039-4b2b-9f64-6198f358b12c div.sk-serial::before {content: \"\";position: absolute;border-left: 1px solid gray;box-sizing: border-box;top: 2em;bottom: 0;left: 50%;}#sk-b87d24f2-d039-4b2b-9f64-6198f358b12c div.sk-serial {display: flex;flex-direction: column;align-items: center;background-color: white;}#sk-b87d24f2-d039-4b2b-9f64-6198f358b12c div.sk-item {z-index: 1;}#sk-b87d24f2-d039-4b2b-9f64-6198f358b12c div.sk-parallel {display: flex;align-items: stretch;justify-content: center;background-color: white;}#sk-b87d24f2-d039-4b2b-9f64-6198f358b12c div.sk-parallel-item {display: flex;flex-direction: column;position: relative;background-color: white;}#sk-b87d24f2-d039-4b2b-9f64-6198f358b12c div.sk-parallel-item:first-child::after {align-self: flex-end;width: 50%;}#sk-b87d24f2-d039-4b2b-9f64-6198f358b12c div.sk-parallel-item:last-child::after {align-self: flex-start;width: 50%;}#sk-b87d24f2-d039-4b2b-9f64-6198f358b12c div.sk-parallel-item:only-child::after {width: 0;}#sk-b87d24f2-d039-4b2b-9f64-6198f358b12c div.sk-dashed-wrapped {border: 1px dashed gray;margin: 0.2em;box-sizing: border-box;padding-bottom: 0.1em;background-color: white;position: relative;}#sk-b87d24f2-d039-4b2b-9f64-6198f358b12c div.sk-label label {font-family: monospace;font-weight: bold;background-color: white;display: inline-block;line-height: 1.2em;}#sk-b87d24f2-d039-4b2b-9f64-6198f358b12c div.sk-label-container {position: relative;z-index: 2;text-align: center;}#sk-b87d24f2-d039-4b2b-9f64-6198f358b12c div.sk-container {display: inline-block;position: relative;}</style><div id=\"sk-b87d24f2-d039-4b2b-9f64-6198f358b12c\" class\"sk-top-container\"><div class=\"sk-container\"><div class=\"sk-item sk-dashed-wrapped\"><div class=\"sk-label-container\"><div class=\"sk-label sk-toggleable\"><input class=\"sk-toggleable__control sk-hidden--visually\" id=\"3777f1a8-8e63-43ba-b3d0-14bb93b43799\" type=\"checkbox\" ><label class=\"sk-toggleable__label\" for=\"3777f1a8-8e63-43ba-b3d0-14bb93b43799\">ColumnTransformer</label><div class=\"sk-toggleable__content\"><pre>ColumnTransformer(n_jobs=-1, remainder='passthrough',\n",
       "                  transformers=[('drop-convert',\n",
       "                                 FunctionTransformer(func=<function drop_and_convert at 0x000001DB721E0D30>),\n",
       "                                 ['CustomerID', 'Count', 'Country', 'State',\n",
       "                                  'City', 'Lat Long', 'Churn Label',\n",
       "                                  'Churn Reason', 'Total Charges']),\n",
       "                                ('1hot', OneHotEncoder(sparse=False),\n",
       "                                 ['Gender', 'Senior Citizen', 'Partner',\n",
       "                                  'Dependents', 'Phone Service',\n",
       "                                  'Multiple Lines', 'Internet Service',\n",
       "                                  'Online Security', 'Online Backup',\n",
       "                                  'Device Protection', 'Tech Support',\n",
       "                                  'Streaming TV', 'Streaming Movies',\n",
       "                                  'Contract', 'Paperless Billing',\n",
       "                                  'Payment Method'])])</pre></div></div></div><div class=\"sk-parallel\"><div class=\"sk-parallel-item\"><div class=\"sk-item\"><div class=\"sk-label-container\"><div class=\"sk-label sk-toggleable\"><input class=\"sk-toggleable__control sk-hidden--visually\" id=\"2a6c83e4-a914-466c-8a77-39c68e9cd74d\" type=\"checkbox\" ><label class=\"sk-toggleable__label\" for=\"2a6c83e4-a914-466c-8a77-39c68e9cd74d\">drop-convert</label><div class=\"sk-toggleable__content\"><pre>['CustomerID', 'Count', 'Country', 'State', 'City', 'Lat Long', 'Churn Label', 'Churn Reason', 'Total Charges']</pre></div></div></div><div class=\"sk-serial\"><div class=\"sk-item\"><div class=\"sk-estimator sk-toggleable\"><input class=\"sk-toggleable__control sk-hidden--visually\" id=\"b4544890-0b63-48d3-8ceb-6fd1bbd8814b\" type=\"checkbox\" ><label class=\"sk-toggleable__label\" for=\"b4544890-0b63-48d3-8ceb-6fd1bbd8814b\">FunctionTransformer</label><div class=\"sk-toggleable__content\"><pre>FunctionTransformer(func=<function drop_and_convert at 0x000001DB721E0D30>)</pre></div></div></div></div></div></div><div class=\"sk-parallel-item\"><div class=\"sk-item\"><div class=\"sk-label-container\"><div class=\"sk-label sk-toggleable\"><input class=\"sk-toggleable__control sk-hidden--visually\" id=\"a8abd05d-8fad-40ed-9787-6f8ab63ffb9d\" type=\"checkbox\" ><label class=\"sk-toggleable__label\" for=\"a8abd05d-8fad-40ed-9787-6f8ab63ffb9d\">1hot</label><div class=\"sk-toggleable__content\"><pre>['Gender', 'Senior Citizen', 'Partner', 'Dependents', 'Phone Service', 'Multiple Lines', 'Internet Service', 'Online Security', 'Online Backup', 'Device Protection', 'Tech Support', 'Streaming TV', 'Streaming Movies', 'Contract', 'Paperless Billing', 'Payment Method']</pre></div></div></div><div class=\"sk-serial\"><div class=\"sk-item\"><div class=\"sk-estimator sk-toggleable\"><input class=\"sk-toggleable__control sk-hidden--visually\" id=\"1ae890a3-a5ef-414d-9853-9521f2290424\" type=\"checkbox\" ><label class=\"sk-toggleable__label\" for=\"1ae890a3-a5ef-414d-9853-9521f2290424\">OneHotEncoder</label><div class=\"sk-toggleable__content\"><pre>OneHotEncoder(sparse=False)</pre></div></div></div></div></div></div><div class=\"sk-parallel-item\"><div class=\"sk-item\"><div class=\"sk-label-container\"><div class=\"sk-label sk-toggleable\"><input class=\"sk-toggleable__control sk-hidden--visually\" id=\"2bb4df16-63dc-4a04-a316-fbfe73640d63\" type=\"checkbox\" ><label class=\"sk-toggleable__label\" for=\"2bb4df16-63dc-4a04-a316-fbfe73640d63\">remainder</label><div class=\"sk-toggleable__content\"><pre></pre></div></div></div><div class=\"sk-serial\"><div class=\"sk-item\"><div class=\"sk-estimator sk-toggleable\"><input class=\"sk-toggleable__control sk-hidden--visually\" id=\"fc63358b-38f1-40b8-9ae0-333c3beff5e7\" type=\"checkbox\" ><label class=\"sk-toggleable__label\" for=\"fc63358b-38f1-40b8-9ae0-333c3beff5e7\">passthrough</label><div class=\"sk-toggleable__content\"><pre>passthrough</pre></div></div></div></div></div></div></div></div></div></div>"
      ],
      "text/plain": [
       "ColumnTransformer(n_jobs=-1, remainder='passthrough',\n",
       "                  transformers=[('drop-convert',\n",
       "                                 FunctionTransformer(func=<function drop_and_convert at 0x000001DB721E0D30>),\n",
       "                                 ['CustomerID', 'Count', 'Country', 'State',\n",
       "                                  'City', 'Lat Long', 'Churn Label',\n",
       "                                  'Churn Reason', 'Total Charges']),\n",
       "                                ('1hot', OneHotEncoder(sparse=False),\n",
       "                                 ['Gender', 'Senior Citizen', 'Partner',\n",
       "                                  'Dependents', 'Phone Service',\n",
       "                                  'Multiple Lines', 'Internet Service',\n",
       "                                  'Online Security', 'Online Backup',\n",
       "                                  'Device Protection', 'Tech Support',\n",
       "                                  'Streaming TV', 'Streaming Movies',\n",
       "                                  'Contract', 'Paperless Billing',\n",
       "                                  'Payment Method'])])"
      ]
     },
     "execution_count": 15,
     "metadata": {},
     "output_type": "execute_result"
    }
   ],
   "source": [
    "drop_convert_features = ['CustomerID',\n",
    "                         'Count',\n",
    "                         'Country',\n",
    "                         'State',\n",
    "                         'City',\n",
    "                         'Lat Long',\n",
    "                         'Churn Label',\n",
    "                         'Churn Reason',\n",
    "                         'Total Charges'\n",
    "                        ]\n",
    "drop_convert_transformer = FunctionTransformer(drop_and_convert)\n",
    "\n",
    "categorical_features = ['Gender',\n",
    "                        'Senior Citizen',\n",
    "                        'Partner',\n",
    "                        'Dependents',\n",
    "                        'Phone Service',\n",
    "                        'Multiple Lines',\n",
    "                        'Internet Service',\n",
    "                        'Online Security',\n",
    "                        'Online Backup',\n",
    "                        'Device Protection',\n",
    "                        'Tech Support',\n",
    "                        'Streaming TV',\n",
    "                        'Streaming Movies',\n",
    "                        'Contract',\n",
    "                        'Paperless Billing',\n",
    "                        'Payment Method'\n",
    "]\n",
    "categorical_transformer = OneHotEncoder(sparse = False)\n",
    "\n",
    "preprocessor = ColumnTransformer([\n",
    "    ('drop-convert', drop_convert_transformer, drop_convert_features),\n",
    "    ('1hot', categorical_transformer, categorical_features)\n",
    "], remainder='passthrough', n_jobs=-1)\n",
    "\n",
    "preprocessor"
   ]
  },
  {
   "cell_type": "code",
   "execution_count": 16,
   "id": "69e20d6e",
   "metadata": {
    "scrolled": false
   },
   "outputs": [
    {
     "data": {
      "text/html": [
       "<div>\n",
       "<style scoped>\n",
       "    .dataframe tbody tr th:only-of-type {\n",
       "        vertical-align: middle;\n",
       "    }\n",
       "\n",
       "    .dataframe tbody tr th {\n",
       "        vertical-align: top;\n",
       "    }\n",
       "\n",
       "    .dataframe thead th {\n",
       "        text-align: right;\n",
       "    }\n",
       "</style>\n",
       "<table border=\"1\" class=\"dataframe\">\n",
       "  <thead>\n",
       "    <tr style=\"text-align: right;\">\n",
       "      <th></th>\n",
       "      <th>0</th>\n",
       "      <th>1</th>\n",
       "      <th>2</th>\n",
       "      <th>3</th>\n",
       "      <th>4</th>\n",
       "      <th>5</th>\n",
       "      <th>6</th>\n",
       "      <th>7</th>\n",
       "      <th>8</th>\n",
       "      <th>9</th>\n",
       "      <th>...</th>\n",
       "      <th>42</th>\n",
       "      <th>43</th>\n",
       "      <th>44</th>\n",
       "      <th>45</th>\n",
       "      <th>46</th>\n",
       "      <th>47</th>\n",
       "      <th>48</th>\n",
       "      <th>49</th>\n",
       "      <th>50</th>\n",
       "      <th>51</th>\n",
       "    </tr>\n",
       "  </thead>\n",
       "  <tbody>\n",
       "    <tr>\n",
       "      <th>0</th>\n",
       "      <td>108.15</td>\n",
       "      <td>0.0</td>\n",
       "      <td>1.0</td>\n",
       "      <td>1.0</td>\n",
       "      <td>0.0</td>\n",
       "      <td>1.0</td>\n",
       "      <td>0.0</td>\n",
       "      <td>1.0</td>\n",
       "      <td>0.0</td>\n",
       "      <td>0.0</td>\n",
       "      <td>...</td>\n",
       "      <td>0.0</td>\n",
       "      <td>1.0</td>\n",
       "      <td>90003.0</td>\n",
       "      <td>33.964131</td>\n",
       "      <td>-118.272783</td>\n",
       "      <td>2.0</td>\n",
       "      <td>53.85</td>\n",
       "      <td>1.0</td>\n",
       "      <td>86.0</td>\n",
       "      <td>3239.0</td>\n",
       "    </tr>\n",
       "    <tr>\n",
       "      <th>1</th>\n",
       "      <td>151.65</td>\n",
       "      <td>1.0</td>\n",
       "      <td>0.0</td>\n",
       "      <td>1.0</td>\n",
       "      <td>0.0</td>\n",
       "      <td>1.0</td>\n",
       "      <td>0.0</td>\n",
       "      <td>0.0</td>\n",
       "      <td>1.0</td>\n",
       "      <td>0.0</td>\n",
       "      <td>...</td>\n",
       "      <td>1.0</td>\n",
       "      <td>0.0</td>\n",
       "      <td>90005.0</td>\n",
       "      <td>34.059281</td>\n",
       "      <td>-118.307420</td>\n",
       "      <td>2.0</td>\n",
       "      <td>70.70</td>\n",
       "      <td>1.0</td>\n",
       "      <td>67.0</td>\n",
       "      <td>2701.0</td>\n",
       "    </tr>\n",
       "    <tr>\n",
       "      <th>2</th>\n",
       "      <td>820.50</td>\n",
       "      <td>1.0</td>\n",
       "      <td>0.0</td>\n",
       "      <td>1.0</td>\n",
       "      <td>0.0</td>\n",
       "      <td>1.0</td>\n",
       "      <td>0.0</td>\n",
       "      <td>0.0</td>\n",
       "      <td>1.0</td>\n",
       "      <td>0.0</td>\n",
       "      <td>...</td>\n",
       "      <td>1.0</td>\n",
       "      <td>0.0</td>\n",
       "      <td>90006.0</td>\n",
       "      <td>34.048013</td>\n",
       "      <td>-118.293953</td>\n",
       "      <td>8.0</td>\n",
       "      <td>99.65</td>\n",
       "      <td>1.0</td>\n",
       "      <td>86.0</td>\n",
       "      <td>5372.0</td>\n",
       "    </tr>\n",
       "    <tr>\n",
       "      <th>3</th>\n",
       "      <td>3046.05</td>\n",
       "      <td>1.0</td>\n",
       "      <td>0.0</td>\n",
       "      <td>1.0</td>\n",
       "      <td>0.0</td>\n",
       "      <td>0.0</td>\n",
       "      <td>1.0</td>\n",
       "      <td>0.0</td>\n",
       "      <td>1.0</td>\n",
       "      <td>0.0</td>\n",
       "      <td>...</td>\n",
       "      <td>1.0</td>\n",
       "      <td>0.0</td>\n",
       "      <td>90010.0</td>\n",
       "      <td>34.062125</td>\n",
       "      <td>-118.315709</td>\n",
       "      <td>28.0</td>\n",
       "      <td>104.80</td>\n",
       "      <td>1.0</td>\n",
       "      <td>84.0</td>\n",
       "      <td>5003.0</td>\n",
       "    </tr>\n",
       "    <tr>\n",
       "      <th>4</th>\n",
       "      <td>5036.30</td>\n",
       "      <td>0.0</td>\n",
       "      <td>1.0</td>\n",
       "      <td>1.0</td>\n",
       "      <td>0.0</td>\n",
       "      <td>1.0</td>\n",
       "      <td>0.0</td>\n",
       "      <td>0.0</td>\n",
       "      <td>1.0</td>\n",
       "      <td>0.0</td>\n",
       "      <td>...</td>\n",
       "      <td>0.0</td>\n",
       "      <td>0.0</td>\n",
       "      <td>90015.0</td>\n",
       "      <td>34.039224</td>\n",
       "      <td>-118.266293</td>\n",
       "      <td>49.0</td>\n",
       "      <td>103.70</td>\n",
       "      <td>1.0</td>\n",
       "      <td>89.0</td>\n",
       "      <td>5340.0</td>\n",
       "    </tr>\n",
       "    <tr>\n",
       "      <th>...</th>\n",
       "      <td>...</td>\n",
       "      <td>...</td>\n",
       "      <td>...</td>\n",
       "      <td>...</td>\n",
       "      <td>...</td>\n",
       "      <td>...</td>\n",
       "      <td>...</td>\n",
       "      <td>...</td>\n",
       "      <td>...</td>\n",
       "      <td>...</td>\n",
       "      <td>...</td>\n",
       "      <td>...</td>\n",
       "      <td>...</td>\n",
       "      <td>...</td>\n",
       "      <td>...</td>\n",
       "      <td>...</td>\n",
       "      <td>...</td>\n",
       "      <td>...</td>\n",
       "      <td>...</td>\n",
       "      <td>...</td>\n",
       "      <td>...</td>\n",
       "    </tr>\n",
       "    <tr>\n",
       "      <th>7038</th>\n",
       "      <td>1419.40</td>\n",
       "      <td>1.0</td>\n",
       "      <td>0.0</td>\n",
       "      <td>1.0</td>\n",
       "      <td>0.0</td>\n",
       "      <td>1.0</td>\n",
       "      <td>0.0</td>\n",
       "      <td>1.0</td>\n",
       "      <td>0.0</td>\n",
       "      <td>0.0</td>\n",
       "      <td>...</td>\n",
       "      <td>0.0</td>\n",
       "      <td>0.0</td>\n",
       "      <td>92285.0</td>\n",
       "      <td>34.341737</td>\n",
       "      <td>-116.539416</td>\n",
       "      <td>72.0</td>\n",
       "      <td>21.15</td>\n",
       "      <td>0.0</td>\n",
       "      <td>45.0</td>\n",
       "      <td>5306.0</td>\n",
       "    </tr>\n",
       "    <tr>\n",
       "      <th>7039</th>\n",
       "      <td>1990.50</td>\n",
       "      <td>0.0</td>\n",
       "      <td>1.0</td>\n",
       "      <td>1.0</td>\n",
       "      <td>0.0</td>\n",
       "      <td>0.0</td>\n",
       "      <td>1.0</td>\n",
       "      <td>0.0</td>\n",
       "      <td>1.0</td>\n",
       "      <td>0.0</td>\n",
       "      <td>...</td>\n",
       "      <td>0.0</td>\n",
       "      <td>1.0</td>\n",
       "      <td>92301.0</td>\n",
       "      <td>34.667815</td>\n",
       "      <td>-117.536183</td>\n",
       "      <td>24.0</td>\n",
       "      <td>84.80</td>\n",
       "      <td>0.0</td>\n",
       "      <td>59.0</td>\n",
       "      <td>2140.0</td>\n",
       "    </tr>\n",
       "    <tr>\n",
       "      <th>7040</th>\n",
       "      <td>7362.90</td>\n",
       "      <td>1.0</td>\n",
       "      <td>0.0</td>\n",
       "      <td>1.0</td>\n",
       "      <td>0.0</td>\n",
       "      <td>0.0</td>\n",
       "      <td>1.0</td>\n",
       "      <td>0.0</td>\n",
       "      <td>1.0</td>\n",
       "      <td>0.0</td>\n",
       "      <td>...</td>\n",
       "      <td>0.0</td>\n",
       "      <td>0.0</td>\n",
       "      <td>92304.0</td>\n",
       "      <td>34.559882</td>\n",
       "      <td>-115.637164</td>\n",
       "      <td>72.0</td>\n",
       "      <td>103.20</td>\n",
       "      <td>0.0</td>\n",
       "      <td>71.0</td>\n",
       "      <td>5560.0</td>\n",
       "    </tr>\n",
       "    <tr>\n",
       "      <th>7041</th>\n",
       "      <td>346.45</td>\n",
       "      <td>1.0</td>\n",
       "      <td>0.0</td>\n",
       "      <td>1.0</td>\n",
       "      <td>0.0</td>\n",
       "      <td>0.0</td>\n",
       "      <td>1.0</td>\n",
       "      <td>0.0</td>\n",
       "      <td>1.0</td>\n",
       "      <td>1.0</td>\n",
       "      <td>...</td>\n",
       "      <td>1.0</td>\n",
       "      <td>0.0</td>\n",
       "      <td>92305.0</td>\n",
       "      <td>34.167800</td>\n",
       "      <td>-116.864330</td>\n",
       "      <td>11.0</td>\n",
       "      <td>29.60</td>\n",
       "      <td>0.0</td>\n",
       "      <td>59.0</td>\n",
       "      <td>2793.0</td>\n",
       "    </tr>\n",
       "    <tr>\n",
       "      <th>7042</th>\n",
       "      <td>6844.50</td>\n",
       "      <td>0.0</td>\n",
       "      <td>1.0</td>\n",
       "      <td>1.0</td>\n",
       "      <td>0.0</td>\n",
       "      <td>1.0</td>\n",
       "      <td>0.0</td>\n",
       "      <td>1.0</td>\n",
       "      <td>0.0</td>\n",
       "      <td>0.0</td>\n",
       "      <td>...</td>\n",
       "      <td>0.0</td>\n",
       "      <td>0.0</td>\n",
       "      <td>92308.0</td>\n",
       "      <td>34.424926</td>\n",
       "      <td>-117.184503</td>\n",
       "      <td>66.0</td>\n",
       "      <td>105.65</td>\n",
       "      <td>0.0</td>\n",
       "      <td>38.0</td>\n",
       "      <td>5097.0</td>\n",
       "    </tr>\n",
       "  </tbody>\n",
       "</table>\n",
       "<p>7043 rows × 52 columns</p>\n",
       "</div>"
      ],
      "text/plain": [
       "           0    1    2    3    4    5    6    7    8    9   ...   42   43  \\\n",
       "0      108.15  0.0  1.0  1.0  0.0  1.0  0.0  1.0  0.0  0.0  ...  0.0  1.0   \n",
       "1      151.65  1.0  0.0  1.0  0.0  1.0  0.0  0.0  1.0  0.0  ...  1.0  0.0   \n",
       "2      820.50  1.0  0.0  1.0  0.0  1.0  0.0  0.0  1.0  0.0  ...  1.0  0.0   \n",
       "3     3046.05  1.0  0.0  1.0  0.0  0.0  1.0  0.0  1.0  0.0  ...  1.0  0.0   \n",
       "4     5036.30  0.0  1.0  1.0  0.0  1.0  0.0  0.0  1.0  0.0  ...  0.0  0.0   \n",
       "...       ...  ...  ...  ...  ...  ...  ...  ...  ...  ...  ...  ...  ...   \n",
       "7038  1419.40  1.0  0.0  1.0  0.0  1.0  0.0  1.0  0.0  0.0  ...  0.0  0.0   \n",
       "7039  1990.50  0.0  1.0  1.0  0.0  0.0  1.0  0.0  1.0  0.0  ...  0.0  1.0   \n",
       "7040  7362.90  1.0  0.0  1.0  0.0  0.0  1.0  0.0  1.0  0.0  ...  0.0  0.0   \n",
       "7041   346.45  1.0  0.0  1.0  0.0  0.0  1.0  0.0  1.0  1.0  ...  1.0  0.0   \n",
       "7042  6844.50  0.0  1.0  1.0  0.0  1.0  0.0  1.0  0.0  0.0  ...  0.0  0.0   \n",
       "\n",
       "           44         45          46    47      48   49    50      51  \n",
       "0     90003.0  33.964131 -118.272783   2.0   53.85  1.0  86.0  3239.0  \n",
       "1     90005.0  34.059281 -118.307420   2.0   70.70  1.0  67.0  2701.0  \n",
       "2     90006.0  34.048013 -118.293953   8.0   99.65  1.0  86.0  5372.0  \n",
       "3     90010.0  34.062125 -118.315709  28.0  104.80  1.0  84.0  5003.0  \n",
       "4     90015.0  34.039224 -118.266293  49.0  103.70  1.0  89.0  5340.0  \n",
       "...       ...        ...         ...   ...     ...  ...   ...     ...  \n",
       "7038  92285.0  34.341737 -116.539416  72.0   21.15  0.0  45.0  5306.0  \n",
       "7039  92301.0  34.667815 -117.536183  24.0   84.80  0.0  59.0  2140.0  \n",
       "7040  92304.0  34.559882 -115.637164  72.0  103.20  0.0  71.0  5560.0  \n",
       "7041  92305.0  34.167800 -116.864330  11.0   29.60  0.0  59.0  2793.0  \n",
       "7042  92308.0  34.424926 -117.184503  66.0  105.65  0.0  38.0  5097.0  \n",
       "\n",
       "[7043 rows x 52 columns]"
      ]
     },
     "execution_count": 16,
     "metadata": {},
     "output_type": "execute_result"
    }
   ],
   "source": [
    "check_preprocessor = pd.DataFrame(data=preprocessor.fit_transform(df))\n",
    "check_preprocessor"
   ]
  },
  {
   "cell_type": "markdown",
   "id": "05f5c7e6",
   "metadata": {},
   "source": [
    "## Split Data into Features and Target"
   ]
  },
  {
   "cell_type": "code",
   "execution_count": 17,
   "id": "7e295ee0",
   "metadata": {},
   "outputs": [],
   "source": [
    "X = df.drop('Churn Value', axis=1).copy(deep=True)\n",
    "y = df['Churn Value'].copy(deep=True)"
   ]
  },
  {
   "cell_type": "markdown",
   "id": "5453498f",
   "metadata": {},
   "source": [
    "**COMMENT:** 1 = the customer left the company this quarter. 0 = the customer remained with the company."
   ]
  },
  {
   "cell_type": "markdown",
   "id": "751eb73c",
   "metadata": {},
   "source": [
    "## Split Data into Train and Test Sets"
   ]
  },
  {
   "cell_type": "code",
   "execution_count": 18,
   "id": "55e44984",
   "metadata": {},
   "outputs": [],
   "source": [
    "X_train, X_test, y_train, y_test = train_test_split(X, y, test_size=0.15, random_state=0, stratify=y)"
   ]
  },
  {
   "cell_type": "code",
   "execution_count": 19,
   "id": "fa09ffef",
   "metadata": {},
   "outputs": [
    {
     "data": {
      "text/plain": [
       "((5986, 32), (1057, 32))"
      ]
     },
     "execution_count": 19,
     "metadata": {},
     "output_type": "execute_result"
    }
   ],
   "source": [
    "X_train.shape, X_test.shape"
   ]
  },
  {
   "cell_type": "markdown",
   "id": "01a99a91",
   "metadata": {},
   "source": [
    "### SMOTE\n",
    "\n",
    "SMOTE must be applied only on the training set, and not on the validation set or the test set. Thus, the `pipeline` class from `imblearn` must be used because it takes care of this.\n",
    "\n",
    "SMOTE performs better when it is combined with under-sampling the majority class.\n",
    "\n",
    "All intermediate steps of the chain should be estimators that implement `fit` and `transform` or `fit_resample`."
   ]
  },
  {
   "cell_type": "code",
   "execution_count": 20,
   "id": "dbaee084",
   "metadata": {},
   "outputs": [],
   "source": [
    "def cross_validate_model(clf, X_train, y_train):\n",
    "    scores = cross_validate(clf, X_train, y_train, scoring=['f1', 'roc_auc'], cv=10)\n",
    "    f1_mean = np.nanmean(scores['test_f1'])\n",
    "    f1_std = np.nanstd(scores['test_f1'])\n",
    "\n",
    "    auc_mean = np.nanmean(scores['test_roc_auc'])\n",
    "    auc_std = np.nanstd(scores['test_roc_auc'])\n",
    "\n",
    "    print(f'F1={f1_mean:.4f} (+/- {f1_std:.4f})')\n",
    "    print(f'AUC={auc_mean:.4f} (+/- {auc_std:.4f})')\n",
    "    \n",
    "    return scores\n",
    "\n",
    "def plot_confusion_matrix(clf, X_train, y_train):\n",
    "    cm = confusion_matrix(y_train, clf.predict(X_train), labels=clf.classes_)\n",
    "    disp = ConfusionMatrixDisplay(confusion_matrix=cm, display_labels=clf.classes_)\n",
    "    disp.plot()\n",
    "    plt.show()"
   ]
  },
  {
   "cell_type": "markdown",
   "id": "d99ce4b0",
   "metadata": {},
   "source": [
    "## `scikit-learn`'s Gradient Boosting"
   ]
  },
  {
   "cell_type": "code",
   "execution_count": 21,
   "id": "bb0c77ed",
   "metadata": {},
   "outputs": [],
   "source": [
    "gb_clf = GradientBoostingClassifier(n_estimators=100, learning_rate=1.0, max_depth=1, random_state=0)"
   ]
  },
  {
   "cell_type": "code",
   "execution_count": 22,
   "id": "9f7a429f",
   "metadata": {
    "scrolled": true
   },
   "outputs": [
    {
     "data": {
      "text/html": [
       "<style>#sk-eb7a3781-f74f-45f9-a7e2-bfb7c3ec2f52 {color: black;background-color: white;}#sk-eb7a3781-f74f-45f9-a7e2-bfb7c3ec2f52 pre{padding: 0;}#sk-eb7a3781-f74f-45f9-a7e2-bfb7c3ec2f52 div.sk-toggleable {background-color: white;}#sk-eb7a3781-f74f-45f9-a7e2-bfb7c3ec2f52 label.sk-toggleable__label {cursor: pointer;display: block;width: 100%;margin-bottom: 0;padding: 0.2em 0.3em;box-sizing: border-box;text-align: center;}#sk-eb7a3781-f74f-45f9-a7e2-bfb7c3ec2f52 div.sk-toggleable__content {max-height: 0;max-width: 0;overflow: hidden;text-align: left;background-color: #f0f8ff;}#sk-eb7a3781-f74f-45f9-a7e2-bfb7c3ec2f52 div.sk-toggleable__content pre {margin: 0.2em;color: black;border-radius: 0.25em;background-color: #f0f8ff;}#sk-eb7a3781-f74f-45f9-a7e2-bfb7c3ec2f52 input.sk-toggleable__control:checked~div.sk-toggleable__content {max-height: 200px;max-width: 100%;overflow: auto;}#sk-eb7a3781-f74f-45f9-a7e2-bfb7c3ec2f52 div.sk-estimator input.sk-toggleable__control:checked~label.sk-toggleable__label {background-color: #d4ebff;}#sk-eb7a3781-f74f-45f9-a7e2-bfb7c3ec2f52 div.sk-label input.sk-toggleable__control:checked~label.sk-toggleable__label {background-color: #d4ebff;}#sk-eb7a3781-f74f-45f9-a7e2-bfb7c3ec2f52 input.sk-hidden--visually {border: 0;clip: rect(1px 1px 1px 1px);clip: rect(1px, 1px, 1px, 1px);height: 1px;margin: -1px;overflow: hidden;padding: 0;position: absolute;width: 1px;}#sk-eb7a3781-f74f-45f9-a7e2-bfb7c3ec2f52 div.sk-estimator {font-family: monospace;background-color: #f0f8ff;margin: 0.25em 0.25em;border: 1px dotted black;border-radius: 0.25em;box-sizing: border-box;}#sk-eb7a3781-f74f-45f9-a7e2-bfb7c3ec2f52 div.sk-estimator:hover {background-color: #d4ebff;}#sk-eb7a3781-f74f-45f9-a7e2-bfb7c3ec2f52 div.sk-parallel-item::after {content: \"\";width: 100%;border-bottom: 1px solid gray;flex-grow: 1;}#sk-eb7a3781-f74f-45f9-a7e2-bfb7c3ec2f52 div.sk-label:hover label.sk-toggleable__label {background-color: #d4ebff;}#sk-eb7a3781-f74f-45f9-a7e2-bfb7c3ec2f52 div.sk-serial::before {content: \"\";position: absolute;border-left: 1px solid gray;box-sizing: border-box;top: 2em;bottom: 0;left: 50%;}#sk-eb7a3781-f74f-45f9-a7e2-bfb7c3ec2f52 div.sk-serial {display: flex;flex-direction: column;align-items: center;background-color: white;}#sk-eb7a3781-f74f-45f9-a7e2-bfb7c3ec2f52 div.sk-item {z-index: 1;}#sk-eb7a3781-f74f-45f9-a7e2-bfb7c3ec2f52 div.sk-parallel {display: flex;align-items: stretch;justify-content: center;background-color: white;}#sk-eb7a3781-f74f-45f9-a7e2-bfb7c3ec2f52 div.sk-parallel-item {display: flex;flex-direction: column;position: relative;background-color: white;}#sk-eb7a3781-f74f-45f9-a7e2-bfb7c3ec2f52 div.sk-parallel-item:first-child::after {align-self: flex-end;width: 50%;}#sk-eb7a3781-f74f-45f9-a7e2-bfb7c3ec2f52 div.sk-parallel-item:last-child::after {align-self: flex-start;width: 50%;}#sk-eb7a3781-f74f-45f9-a7e2-bfb7c3ec2f52 div.sk-parallel-item:only-child::after {width: 0;}#sk-eb7a3781-f74f-45f9-a7e2-bfb7c3ec2f52 div.sk-dashed-wrapped {border: 1px dashed gray;margin: 0.2em;box-sizing: border-box;padding-bottom: 0.1em;background-color: white;position: relative;}#sk-eb7a3781-f74f-45f9-a7e2-bfb7c3ec2f52 div.sk-label label {font-family: monospace;font-weight: bold;background-color: white;display: inline-block;line-height: 1.2em;}#sk-eb7a3781-f74f-45f9-a7e2-bfb7c3ec2f52 div.sk-label-container {position: relative;z-index: 2;text-align: center;}#sk-eb7a3781-f74f-45f9-a7e2-bfb7c3ec2f52 div.sk-container {display: inline-block;position: relative;}</style><div id=\"sk-eb7a3781-f74f-45f9-a7e2-bfb7c3ec2f52\" class\"sk-top-container\"><div class=\"sk-container\"><div class=\"sk-item sk-dashed-wrapped\"><div class=\"sk-label-container\"><div class=\"sk-label sk-toggleable\"><input class=\"sk-toggleable__control sk-hidden--visually\" id=\"d7d0bdf1-039a-45ab-88f4-90dc4354fc8c\" type=\"checkbox\" ><label class=\"sk-toggleable__label\" for=\"d7d0bdf1-039a-45ab-88f4-90dc4354fc8c\">Pipeline</label><div class=\"sk-toggleable__content\"><pre>Pipeline(steps=[('preprocessor',\n",
       "                 ColumnTransformer(n_jobs=-1, remainder='passthrough',\n",
       "                                   transformers=[('drop-convert',\n",
       "                                                  FunctionTransformer(func=<function drop_and_convert at 0x000001DB721E0D30>),\n",
       "                                                  ['CustomerID', 'Count',\n",
       "                                                   'Country', 'State', 'City',\n",
       "                                                   'Lat Long', 'Churn Label',\n",
       "                                                   'Churn Reason',\n",
       "                                                   'Total Charges']),\n",
       "                                                 ('1hot',\n",
       "                                                  OneHotEncoder(sparse=False),\n",
       "                                                  ['Gender', 'Senior Citizen',...\n",
       "                                                   'Phone Service',\n",
       "                                                   'Multiple Lines',\n",
       "                                                   'Internet Service',\n",
       "                                                   'Online Security',\n",
       "                                                   'Online Backup',\n",
       "                                                   'Device Protection',\n",
       "                                                   'Tech Support',\n",
       "                                                   'Streaming TV',\n",
       "                                                   'Streaming Movies',\n",
       "                                                   'Contract',\n",
       "                                                   'Paperless Billing',\n",
       "                                                   'Payment Method'])])),\n",
       "                ('over-sampling', SMOTE()),\n",
       "                ('under-sampling', RandomUnderSampler()),\n",
       "                ('gradient-boosting',\n",
       "                 GradientBoostingClassifier(learning_rate=1.0, max_depth=1,\n",
       "                                            random_state=0))])</pre></div></div></div><div class=\"sk-serial\"><div class=\"sk-item sk-dashed-wrapped\"><div class=\"sk-label-container\"><div class=\"sk-label sk-toggleable\"><input class=\"sk-toggleable__control sk-hidden--visually\" id=\"76f0fde2-3e04-4f65-9183-6e7c7742aaec\" type=\"checkbox\" ><label class=\"sk-toggleable__label\" for=\"76f0fde2-3e04-4f65-9183-6e7c7742aaec\">preprocessor: ColumnTransformer</label><div class=\"sk-toggleable__content\"><pre>ColumnTransformer(n_jobs=-1, remainder='passthrough',\n",
       "                  transformers=[('drop-convert',\n",
       "                                 FunctionTransformer(func=<function drop_and_convert at 0x000001DB721E0D30>),\n",
       "                                 ['CustomerID', 'Count', 'Country', 'State',\n",
       "                                  'City', 'Lat Long', 'Churn Label',\n",
       "                                  'Churn Reason', 'Total Charges']),\n",
       "                                ('1hot', OneHotEncoder(sparse=False),\n",
       "                                 ['Gender', 'Senior Citizen', 'Partner',\n",
       "                                  'Dependents', 'Phone Service',\n",
       "                                  'Multiple Lines', 'Internet Service',\n",
       "                                  'Online Security', 'Online Backup',\n",
       "                                  'Device Protection', 'Tech Support',\n",
       "                                  'Streaming TV', 'Streaming Movies',\n",
       "                                  'Contract', 'Paperless Billing',\n",
       "                                  'Payment Method'])])</pre></div></div></div><div class=\"sk-parallel\"><div class=\"sk-parallel-item\"><div class=\"sk-item\"><div class=\"sk-label-container\"><div class=\"sk-label sk-toggleable\"><input class=\"sk-toggleable__control sk-hidden--visually\" id=\"c6efc745-e41e-461b-8d73-bacd397494ad\" type=\"checkbox\" ><label class=\"sk-toggleable__label\" for=\"c6efc745-e41e-461b-8d73-bacd397494ad\">drop-convert</label><div class=\"sk-toggleable__content\"><pre>['CustomerID', 'Count', 'Country', 'State', 'City', 'Lat Long', 'Churn Label', 'Churn Reason', 'Total Charges']</pre></div></div></div><div class=\"sk-serial\"><div class=\"sk-item\"><div class=\"sk-estimator sk-toggleable\"><input class=\"sk-toggleable__control sk-hidden--visually\" id=\"77aa6438-9ac1-4b97-a25f-10892876b4e6\" type=\"checkbox\" ><label class=\"sk-toggleable__label\" for=\"77aa6438-9ac1-4b97-a25f-10892876b4e6\">FunctionTransformer</label><div class=\"sk-toggleable__content\"><pre>FunctionTransformer(func=<function drop_and_convert at 0x000001DB721E0D30>)</pre></div></div></div></div></div></div><div class=\"sk-parallel-item\"><div class=\"sk-item\"><div class=\"sk-label-container\"><div class=\"sk-label sk-toggleable\"><input class=\"sk-toggleable__control sk-hidden--visually\" id=\"86793b4b-2b31-414b-ade4-6e3638ac74fc\" type=\"checkbox\" ><label class=\"sk-toggleable__label\" for=\"86793b4b-2b31-414b-ade4-6e3638ac74fc\">1hot</label><div class=\"sk-toggleable__content\"><pre>['Gender', 'Senior Citizen', 'Partner', 'Dependents', 'Phone Service', 'Multiple Lines', 'Internet Service', 'Online Security', 'Online Backup', 'Device Protection', 'Tech Support', 'Streaming TV', 'Streaming Movies', 'Contract', 'Paperless Billing', 'Payment Method']</pre></div></div></div><div class=\"sk-serial\"><div class=\"sk-item\"><div class=\"sk-estimator sk-toggleable\"><input class=\"sk-toggleable__control sk-hidden--visually\" id=\"07a76ec5-0241-4042-87b1-9fa689318e47\" type=\"checkbox\" ><label class=\"sk-toggleable__label\" for=\"07a76ec5-0241-4042-87b1-9fa689318e47\">OneHotEncoder</label><div class=\"sk-toggleable__content\"><pre>OneHotEncoder(sparse=False)</pre></div></div></div></div></div></div><div class=\"sk-parallel-item\"><div class=\"sk-item\"><div class=\"sk-label-container\"><div class=\"sk-label sk-toggleable\"><input class=\"sk-toggleable__control sk-hidden--visually\" id=\"a08a1b94-a919-455e-944d-194772a729a8\" type=\"checkbox\" ><label class=\"sk-toggleable__label\" for=\"a08a1b94-a919-455e-944d-194772a729a8\">remainder</label><div class=\"sk-toggleable__content\"><pre>['Zip Code', 'Latitude', 'Longitude', 'Tenure Months', 'Monthly Charges', 'Churn Value', 'Churn Score', 'CLTV']</pre></div></div></div><div class=\"sk-serial\"><div class=\"sk-item\"><div class=\"sk-estimator sk-toggleable\"><input class=\"sk-toggleable__control sk-hidden--visually\" id=\"1f7f358a-456a-4e19-ad85-6131beb8a4ed\" type=\"checkbox\" ><label class=\"sk-toggleable__label\" for=\"1f7f358a-456a-4e19-ad85-6131beb8a4ed\">passthrough</label><div class=\"sk-toggleable__content\"><pre>passthrough</pre></div></div></div></div></div></div></div></div><div class=\"sk-item\"><div class=\"sk-estimator sk-toggleable\"><input class=\"sk-toggleable__control sk-hidden--visually\" id=\"6b5c3dbd-4e46-487e-8ca6-3f0b0cc4daa6\" type=\"checkbox\" ><label class=\"sk-toggleable__label\" for=\"6b5c3dbd-4e46-487e-8ca6-3f0b0cc4daa6\">SMOTE</label><div class=\"sk-toggleable__content\"><pre>SMOTE()</pre></div></div></div><div class=\"sk-item\"><div class=\"sk-estimator sk-toggleable\"><input class=\"sk-toggleable__control sk-hidden--visually\" id=\"0da6e90c-78eb-4f21-9d90-b8731bf7d733\" type=\"checkbox\" ><label class=\"sk-toggleable__label\" for=\"0da6e90c-78eb-4f21-9d90-b8731bf7d733\">RandomUnderSampler</label><div class=\"sk-toggleable__content\"><pre>RandomUnderSampler()</pre></div></div></div><div class=\"sk-item\"><div class=\"sk-estimator sk-toggleable\"><input class=\"sk-toggleable__control sk-hidden--visually\" id=\"db568e76-0b6b-4674-b028-7929588f52c6\" type=\"checkbox\" ><label class=\"sk-toggleable__label\" for=\"db568e76-0b6b-4674-b028-7929588f52c6\">GradientBoostingClassifier</label><div class=\"sk-toggleable__content\"><pre>GradientBoostingClassifier(learning_rate=1.0, max_depth=1, random_state=0)</pre></div></div></div></div></div></div></div>"
      ],
      "text/plain": [
       "Pipeline(steps=[('preprocessor',\n",
       "                 ColumnTransformer(n_jobs=-1, remainder='passthrough',\n",
       "                                   transformers=[('drop-convert',\n",
       "                                                  FunctionTransformer(func=<function drop_and_convert at 0x000001DB721E0D30>),\n",
       "                                                  ['CustomerID', 'Count',\n",
       "                                                   'Country', 'State', 'City',\n",
       "                                                   'Lat Long', 'Churn Label',\n",
       "                                                   'Churn Reason',\n",
       "                                                   'Total Charges']),\n",
       "                                                 ('1hot',\n",
       "                                                  OneHotEncoder(sparse=False),\n",
       "                                                  ['Gender', 'Senior Citizen',...\n",
       "                                                   'Phone Service',\n",
       "                                                   'Multiple Lines',\n",
       "                                                   'Internet Service',\n",
       "                                                   'Online Security',\n",
       "                                                   'Online Backup',\n",
       "                                                   'Device Protection',\n",
       "                                                   'Tech Support',\n",
       "                                                   'Streaming TV',\n",
       "                                                   'Streaming Movies',\n",
       "                                                   'Contract',\n",
       "                                                   'Paperless Billing',\n",
       "                                                   'Payment Method'])])),\n",
       "                ('over-sampling', SMOTE()),\n",
       "                ('under-sampling', RandomUnderSampler()),\n",
       "                ('gradient-boosting',\n",
       "                 GradientBoostingClassifier(learning_rate=1.0, max_depth=1,\n",
       "                                            random_state=0))])"
      ]
     },
     "execution_count": 22,
     "metadata": {},
     "output_type": "execute_result"
    }
   ],
   "source": [
    "gb_pipeline = Pipeline([\n",
    "    ('preprocessor', preprocessor),\n",
    "    ('over-sampling', SMOTE()),\n",
    "    ('under-sampling', RandomUnderSampler()),\n",
    "    ('gradient-boosting', gb_clf)\n",
    "])\n",
    "gb_pipeline"
   ]
  },
  {
   "cell_type": "markdown",
   "id": "c40b76c4",
   "metadata": {},
   "source": [
    "We can now use the pipeline created as a normal classifier where resampling will happen when calling `fit` and disabled when calling `decision_function`, `predict_proba`, or `predict`."
   ]
  },
  {
   "cell_type": "code",
   "execution_count": 23,
   "id": "b33c0c4b",
   "metadata": {},
   "outputs": [
    {
     "data": {
      "text/html": [
       "<style>#sk-1a557d69-c6a5-4481-ad99-af3f20cd10ff {color: black;background-color: white;}#sk-1a557d69-c6a5-4481-ad99-af3f20cd10ff pre{padding: 0;}#sk-1a557d69-c6a5-4481-ad99-af3f20cd10ff div.sk-toggleable {background-color: white;}#sk-1a557d69-c6a5-4481-ad99-af3f20cd10ff label.sk-toggleable__label {cursor: pointer;display: block;width: 100%;margin-bottom: 0;padding: 0.2em 0.3em;box-sizing: border-box;text-align: center;}#sk-1a557d69-c6a5-4481-ad99-af3f20cd10ff div.sk-toggleable__content {max-height: 0;max-width: 0;overflow: hidden;text-align: left;background-color: #f0f8ff;}#sk-1a557d69-c6a5-4481-ad99-af3f20cd10ff div.sk-toggleable__content pre {margin: 0.2em;color: black;border-radius: 0.25em;background-color: #f0f8ff;}#sk-1a557d69-c6a5-4481-ad99-af3f20cd10ff input.sk-toggleable__control:checked~div.sk-toggleable__content {max-height: 200px;max-width: 100%;overflow: auto;}#sk-1a557d69-c6a5-4481-ad99-af3f20cd10ff div.sk-estimator input.sk-toggleable__control:checked~label.sk-toggleable__label {background-color: #d4ebff;}#sk-1a557d69-c6a5-4481-ad99-af3f20cd10ff div.sk-label input.sk-toggleable__control:checked~label.sk-toggleable__label {background-color: #d4ebff;}#sk-1a557d69-c6a5-4481-ad99-af3f20cd10ff input.sk-hidden--visually {border: 0;clip: rect(1px 1px 1px 1px);clip: rect(1px, 1px, 1px, 1px);height: 1px;margin: -1px;overflow: hidden;padding: 0;position: absolute;width: 1px;}#sk-1a557d69-c6a5-4481-ad99-af3f20cd10ff div.sk-estimator {font-family: monospace;background-color: #f0f8ff;margin: 0.25em 0.25em;border: 1px dotted black;border-radius: 0.25em;box-sizing: border-box;}#sk-1a557d69-c6a5-4481-ad99-af3f20cd10ff div.sk-estimator:hover {background-color: #d4ebff;}#sk-1a557d69-c6a5-4481-ad99-af3f20cd10ff div.sk-parallel-item::after {content: \"\";width: 100%;border-bottom: 1px solid gray;flex-grow: 1;}#sk-1a557d69-c6a5-4481-ad99-af3f20cd10ff div.sk-label:hover label.sk-toggleable__label {background-color: #d4ebff;}#sk-1a557d69-c6a5-4481-ad99-af3f20cd10ff div.sk-serial::before {content: \"\";position: absolute;border-left: 1px solid gray;box-sizing: border-box;top: 2em;bottom: 0;left: 50%;}#sk-1a557d69-c6a5-4481-ad99-af3f20cd10ff div.sk-serial {display: flex;flex-direction: column;align-items: center;background-color: white;}#sk-1a557d69-c6a5-4481-ad99-af3f20cd10ff div.sk-item {z-index: 1;}#sk-1a557d69-c6a5-4481-ad99-af3f20cd10ff div.sk-parallel {display: flex;align-items: stretch;justify-content: center;background-color: white;}#sk-1a557d69-c6a5-4481-ad99-af3f20cd10ff div.sk-parallel-item {display: flex;flex-direction: column;position: relative;background-color: white;}#sk-1a557d69-c6a5-4481-ad99-af3f20cd10ff div.sk-parallel-item:first-child::after {align-self: flex-end;width: 50%;}#sk-1a557d69-c6a5-4481-ad99-af3f20cd10ff div.sk-parallel-item:last-child::after {align-self: flex-start;width: 50%;}#sk-1a557d69-c6a5-4481-ad99-af3f20cd10ff div.sk-parallel-item:only-child::after {width: 0;}#sk-1a557d69-c6a5-4481-ad99-af3f20cd10ff div.sk-dashed-wrapped {border: 1px dashed gray;margin: 0.2em;box-sizing: border-box;padding-bottom: 0.1em;background-color: white;position: relative;}#sk-1a557d69-c6a5-4481-ad99-af3f20cd10ff div.sk-label label {font-family: monospace;font-weight: bold;background-color: white;display: inline-block;line-height: 1.2em;}#sk-1a557d69-c6a5-4481-ad99-af3f20cd10ff div.sk-label-container {position: relative;z-index: 2;text-align: center;}#sk-1a557d69-c6a5-4481-ad99-af3f20cd10ff div.sk-container {display: inline-block;position: relative;}</style><div id=\"sk-1a557d69-c6a5-4481-ad99-af3f20cd10ff\" class\"sk-top-container\"><div class=\"sk-container\"><div class=\"sk-item sk-dashed-wrapped\"><div class=\"sk-label-container\"><div class=\"sk-label sk-toggleable\"><input class=\"sk-toggleable__control sk-hidden--visually\" id=\"8d9c3dcd-112c-4665-add2-0a45a55bfa09\" type=\"checkbox\" ><label class=\"sk-toggleable__label\" for=\"8d9c3dcd-112c-4665-add2-0a45a55bfa09\">Pipeline</label><div class=\"sk-toggleable__content\"><pre>Pipeline(steps=[('preprocessor',\n",
       "                 ColumnTransformer(n_jobs=-1, remainder='passthrough',\n",
       "                                   transformers=[('drop-convert',\n",
       "                                                  FunctionTransformer(func=<function drop_and_convert at 0x000001DB721E0D30>),\n",
       "                                                  ['CustomerID', 'Count',\n",
       "                                                   'Country', 'State', 'City',\n",
       "                                                   'Lat Long', 'Churn Label',\n",
       "                                                   'Churn Reason',\n",
       "                                                   'Total Charges']),\n",
       "                                                 ('1hot',\n",
       "                                                  OneHotEncoder(sparse=False),\n",
       "                                                  ['Gender', 'Senior Citizen',...\n",
       "                                                   'Phone Service',\n",
       "                                                   'Multiple Lines',\n",
       "                                                   'Internet Service',\n",
       "                                                   'Online Security',\n",
       "                                                   'Online Backup',\n",
       "                                                   'Device Protection',\n",
       "                                                   'Tech Support',\n",
       "                                                   'Streaming TV',\n",
       "                                                   'Streaming Movies',\n",
       "                                                   'Contract',\n",
       "                                                   'Paperless Billing',\n",
       "                                                   'Payment Method'])])),\n",
       "                ('over-sampling', SMOTE()),\n",
       "                ('under-sampling', RandomUnderSampler()),\n",
       "                ('gradient-boosting',\n",
       "                 GradientBoostingClassifier(learning_rate=1.0, max_depth=1,\n",
       "                                            random_state=0))])</pre></div></div></div><div class=\"sk-serial\"><div class=\"sk-item sk-dashed-wrapped\"><div class=\"sk-label-container\"><div class=\"sk-label sk-toggleable\"><input class=\"sk-toggleable__control sk-hidden--visually\" id=\"0f04a21c-81f9-4542-a4bf-776b30ab4b4c\" type=\"checkbox\" ><label class=\"sk-toggleable__label\" for=\"0f04a21c-81f9-4542-a4bf-776b30ab4b4c\">preprocessor: ColumnTransformer</label><div class=\"sk-toggleable__content\"><pre>ColumnTransformer(n_jobs=-1, remainder='passthrough',\n",
       "                  transformers=[('drop-convert',\n",
       "                                 FunctionTransformer(func=<function drop_and_convert at 0x000001DB721E0D30>),\n",
       "                                 ['CustomerID', 'Count', 'Country', 'State',\n",
       "                                  'City', 'Lat Long', 'Churn Label',\n",
       "                                  'Churn Reason', 'Total Charges']),\n",
       "                                ('1hot', OneHotEncoder(sparse=False),\n",
       "                                 ['Gender', 'Senior Citizen', 'Partner',\n",
       "                                  'Dependents', 'Phone Service',\n",
       "                                  'Multiple Lines', 'Internet Service',\n",
       "                                  'Online Security', 'Online Backup',\n",
       "                                  'Device Protection', 'Tech Support',\n",
       "                                  'Streaming TV', 'Streaming Movies',\n",
       "                                  'Contract', 'Paperless Billing',\n",
       "                                  'Payment Method'])])</pre></div></div></div><div class=\"sk-parallel\"><div class=\"sk-parallel-item\"><div class=\"sk-item\"><div class=\"sk-label-container\"><div class=\"sk-label sk-toggleable\"><input class=\"sk-toggleable__control sk-hidden--visually\" id=\"b85b1dd8-42ea-48b0-8793-891414d0f27f\" type=\"checkbox\" ><label class=\"sk-toggleable__label\" for=\"b85b1dd8-42ea-48b0-8793-891414d0f27f\">drop-convert</label><div class=\"sk-toggleable__content\"><pre>['CustomerID', 'Count', 'Country', 'State', 'City', 'Lat Long', 'Churn Label', 'Churn Reason', 'Total Charges']</pre></div></div></div><div class=\"sk-serial\"><div class=\"sk-item\"><div class=\"sk-estimator sk-toggleable\"><input class=\"sk-toggleable__control sk-hidden--visually\" id=\"93ffa8e8-6568-4835-a0d9-450dcb68bb74\" type=\"checkbox\" ><label class=\"sk-toggleable__label\" for=\"93ffa8e8-6568-4835-a0d9-450dcb68bb74\">FunctionTransformer</label><div class=\"sk-toggleable__content\"><pre>FunctionTransformer(func=<function drop_and_convert at 0x000001DB721E0D30>)</pre></div></div></div></div></div></div><div class=\"sk-parallel-item\"><div class=\"sk-item\"><div class=\"sk-label-container\"><div class=\"sk-label sk-toggleable\"><input class=\"sk-toggleable__control sk-hidden--visually\" id=\"548f7624-4ba7-4297-8c08-a2f13ab6a3da\" type=\"checkbox\" ><label class=\"sk-toggleable__label\" for=\"548f7624-4ba7-4297-8c08-a2f13ab6a3da\">1hot</label><div class=\"sk-toggleable__content\"><pre>['Gender', 'Senior Citizen', 'Partner', 'Dependents', 'Phone Service', 'Multiple Lines', 'Internet Service', 'Online Security', 'Online Backup', 'Device Protection', 'Tech Support', 'Streaming TV', 'Streaming Movies', 'Contract', 'Paperless Billing', 'Payment Method']</pre></div></div></div><div class=\"sk-serial\"><div class=\"sk-item\"><div class=\"sk-estimator sk-toggleable\"><input class=\"sk-toggleable__control sk-hidden--visually\" id=\"e4763bfb-6b43-46c6-8708-1a779496c10a\" type=\"checkbox\" ><label class=\"sk-toggleable__label\" for=\"e4763bfb-6b43-46c6-8708-1a779496c10a\">OneHotEncoder</label><div class=\"sk-toggleable__content\"><pre>OneHotEncoder(sparse=False)</pre></div></div></div></div></div></div><div class=\"sk-parallel-item\"><div class=\"sk-item\"><div class=\"sk-label-container\"><div class=\"sk-label sk-toggleable\"><input class=\"sk-toggleable__control sk-hidden--visually\" id=\"972c8c36-1cf3-4d99-93fc-0bd4fecd1e82\" type=\"checkbox\" ><label class=\"sk-toggleable__label\" for=\"972c8c36-1cf3-4d99-93fc-0bd4fecd1e82\">remainder</label><div class=\"sk-toggleable__content\"><pre>['Zip Code', 'Latitude', 'Longitude', 'Tenure Months', 'Monthly Charges', 'Churn Score', 'CLTV']</pre></div></div></div><div class=\"sk-serial\"><div class=\"sk-item\"><div class=\"sk-estimator sk-toggleable\"><input class=\"sk-toggleable__control sk-hidden--visually\" id=\"f3f5e0f2-66d2-4810-92a3-0bf9e0228c98\" type=\"checkbox\" ><label class=\"sk-toggleable__label\" for=\"f3f5e0f2-66d2-4810-92a3-0bf9e0228c98\">passthrough</label><div class=\"sk-toggleable__content\"><pre>passthrough</pre></div></div></div></div></div></div></div></div><div class=\"sk-item\"><div class=\"sk-estimator sk-toggleable\"><input class=\"sk-toggleable__control sk-hidden--visually\" id=\"d147160d-098b-43db-b969-80fd051bf09b\" type=\"checkbox\" ><label class=\"sk-toggleable__label\" for=\"d147160d-098b-43db-b969-80fd051bf09b\">SMOTE</label><div class=\"sk-toggleable__content\"><pre>SMOTE()</pre></div></div></div><div class=\"sk-item\"><div class=\"sk-estimator sk-toggleable\"><input class=\"sk-toggleable__control sk-hidden--visually\" id=\"3429bb6c-1641-4309-863b-8763192ea9f1\" type=\"checkbox\" ><label class=\"sk-toggleable__label\" for=\"3429bb6c-1641-4309-863b-8763192ea9f1\">RandomUnderSampler</label><div class=\"sk-toggleable__content\"><pre>RandomUnderSampler()</pre></div></div></div><div class=\"sk-item\"><div class=\"sk-estimator sk-toggleable\"><input class=\"sk-toggleable__control sk-hidden--visually\" id=\"95da3d2e-8202-4717-a706-21a99397699c\" type=\"checkbox\" ><label class=\"sk-toggleable__label\" for=\"95da3d2e-8202-4717-a706-21a99397699c\">GradientBoostingClassifier</label><div class=\"sk-toggleable__content\"><pre>GradientBoostingClassifier(learning_rate=1.0, max_depth=1, random_state=0)</pre></div></div></div></div></div></div></div>"
      ],
      "text/plain": [
       "Pipeline(steps=[('preprocessor',\n",
       "                 ColumnTransformer(n_jobs=-1, remainder='passthrough',\n",
       "                                   transformers=[('drop-convert',\n",
       "                                                  FunctionTransformer(func=<function drop_and_convert at 0x000001DB721E0D30>),\n",
       "                                                  ['CustomerID', 'Count',\n",
       "                                                   'Country', 'State', 'City',\n",
       "                                                   'Lat Long', 'Churn Label',\n",
       "                                                   'Churn Reason',\n",
       "                                                   'Total Charges']),\n",
       "                                                 ('1hot',\n",
       "                                                  OneHotEncoder(sparse=False),\n",
       "                                                  ['Gender', 'Senior Citizen',...\n",
       "                                                   'Phone Service',\n",
       "                                                   'Multiple Lines',\n",
       "                                                   'Internet Service',\n",
       "                                                   'Online Security',\n",
       "                                                   'Online Backup',\n",
       "                                                   'Device Protection',\n",
       "                                                   'Tech Support',\n",
       "                                                   'Streaming TV',\n",
       "                                                   'Streaming Movies',\n",
       "                                                   'Contract',\n",
       "                                                   'Paperless Billing',\n",
       "                                                   'Payment Method'])])),\n",
       "                ('over-sampling', SMOTE()),\n",
       "                ('under-sampling', RandomUnderSampler()),\n",
       "                ('gradient-boosting',\n",
       "                 GradientBoostingClassifier(learning_rate=1.0, max_depth=1,\n",
       "                                            random_state=0))])"
      ]
     },
     "execution_count": 23,
     "metadata": {},
     "output_type": "execute_result"
    }
   ],
   "source": [
    "gb_pipeline.fit(X_train, y_train)"
   ]
  },
  {
   "cell_type": "code",
   "execution_count": 24,
   "id": "e80e3c3d",
   "metadata": {},
   "outputs": [
    {
     "name": "stdout",
     "output_type": "stream",
     "text": [
      "F1=0.8653 (+/- 0.0138)\n",
      "AUC=0.9817 (+/- 0.0025)\n"
     ]
    }
   ],
   "source": [
    "gb_scores = cross_validate_model(clf=gb_pipeline, X_train=X_train, y_train=y_train)"
   ]
  },
  {
   "cell_type": "code",
   "execution_count": 25,
   "id": "4de00456",
   "metadata": {},
   "outputs": [
    {
     "data": {
      "image/png": "[encoded data removed]",
      "text/plain": [
       "<Figure size 432x288 with 2 Axes>"
      ]
     },
     "metadata": {
      "needs_background": "light"
     },
     "output_type": "display_data"
    }
   ],
   "source": [
    "plot_confusion_matrix(clf=gb_pipeline, X_train=X_train, y_train=y_train)"
   ]
  },
  {
   "cell_type": "markdown",
   "id": "c1353182",
   "metadata": {},
   "source": [
    "## Optimization of Gradient Boosting"
   ]
  },
  {
   "cell_type": "code",
   "execution_count": 26,
   "id": "13ffa16b",
   "metadata": {},
   "outputs": [
    {
     "name": "stdout",
     "output_type": "stream",
     "text": [
      "Grid searching time: 558.3528 s\n",
      "0.8658\n",
      "Pipeline(steps=[('preprocessor',\n",
      "                 ColumnTransformer(n_jobs=-1, remainder='passthrough',\n",
      "                                   transformers=[('drop-convert',\n",
      "                                                  FunctionTransformer(func=<function drop_and_convert at 0x000001DB721E0D30>),\n",
      "                                                  ['CustomerID', 'Count',\n",
      "                                                   'Country', 'State', 'City',\n",
      "                                                   'Lat Long', 'Churn Label',\n",
      "                                                   'Churn Reason',\n",
      "                                                   'Total Charges']),\n",
      "                                                 ('1hot',\n",
      "                                                  OneHotEncoder(sparse=False),\n",
      "                                                  ['Gender', 'Senior Citizen',...\n",
      "                                                   'Online Backup',\n",
      "                                                   'Device Protection',\n",
      "                                                   'Tech Support',\n",
      "                                                   'Streaming TV',\n",
      "                                                   'Streaming Movies',\n",
      "                                                   'Contract',\n",
      "                                                   'Paperless Billing',\n",
      "                                                   'Payment Method'])])),\n",
      "                ('over-sampling', SMOTE()),\n",
      "                ('under-sampling', RandomUnderSampler()),\n",
      "                ('gradient-boosting',\n",
      "                 GradientBoostingClassifier(learning_rate=0.001, max_depth=8,\n",
      "                                            min_samples_leaf=10,\n",
      "                                            min_samples_split=5,\n",
      "                                            n_estimators=200,\n",
      "                                            random_state=0))])\n"
     ]
    }
   ],
   "source": [
    "param_grid_gb = {'gradient-boosting__n_estimators': [50, 100, 150, 200, 250],\n",
    "                 'gradient-boosting__learning_rate': np.arange(0.001, 1, 30),\n",
    "                 'gradient-boosting__min_samples_split': [1, 2, 5, 10, 15, 100],\n",
    "                 'gradient-boosting__min_samples_leaf': [1, 2, 5, 10],\n",
    "                 'gradient-boosting__max_depth': [5, 8, 15, 25, 30]\n",
    "                 }\n",
    "\n",
    "t0 = time()\n",
    "gb_opt = RandomizedSearchCV(\n",
    "    estimator=gb_pipeline,\n",
    "    param_distributions=param_grid_gb,\n",
    "    n_iter=20,\n",
    "    scoring='f1',\n",
    "    n_jobs=-1,\n",
    "    cv=10\n",
    ").fit(X_train, y_train)\n",
    "grid_searching_time_gb = time() - t0\n",
    "\n",
    "print(f'Grid searching time: {grid_searching_time_gb:.4f} s')\n",
    "print(f'{gb_opt.best_score_:.4f}')\n",
    "print(f'{gb_opt.best_estimator_}')"
   ]
  },
  {
   "cell_type": "markdown",
   "id": "2167e9c0",
   "metadata": {},
   "source": [
    "## Build XGBoost model"
   ]
  },
  {
   "cell_type": "code",
   "execution_count": 27,
   "id": "3230496a",
   "metadata": {},
   "outputs": [
    {
     "data": {
      "text/html": [
       "<style>#sk-29dd45ce-019e-4646-a2f9-ea520bf0ece3 {color: black;background-color: white;}#sk-29dd45ce-019e-4646-a2f9-ea520bf0ece3 pre{padding: 0;}#sk-29dd45ce-019e-4646-a2f9-ea520bf0ece3 div.sk-toggleable {background-color: white;}#sk-29dd45ce-019e-4646-a2f9-ea520bf0ece3 label.sk-toggleable__label {cursor: pointer;display: block;width: 100%;margin-bottom: 0;padding: 0.2em 0.3em;box-sizing: border-box;text-align: center;}#sk-29dd45ce-019e-4646-a2f9-ea520bf0ece3 div.sk-toggleable__content {max-height: 0;max-width: 0;overflow: hidden;text-align: left;background-color: #f0f8ff;}#sk-29dd45ce-019e-4646-a2f9-ea520bf0ece3 div.sk-toggleable__content pre {margin: 0.2em;color: black;border-radius: 0.25em;background-color: #f0f8ff;}#sk-29dd45ce-019e-4646-a2f9-ea520bf0ece3 input.sk-toggleable__control:checked~div.sk-toggleable__content {max-height: 200px;max-width: 100%;overflow: auto;}#sk-29dd45ce-019e-4646-a2f9-ea520bf0ece3 div.sk-estimator input.sk-toggleable__control:checked~label.sk-toggleable__label {background-color: #d4ebff;}#sk-29dd45ce-019e-4646-a2f9-ea520bf0ece3 div.sk-label input.sk-toggleable__control:checked~label.sk-toggleable__label {background-color: #d4ebff;}#sk-29dd45ce-019e-4646-a2f9-ea520bf0ece3 input.sk-hidden--visually {border: 0;clip: rect(1px 1px 1px 1px);clip: rect(1px, 1px, 1px, 1px);height: 1px;margin: -1px;overflow: hidden;padding: 0;position: absolute;width: 1px;}#sk-29dd45ce-019e-4646-a2f9-ea520bf0ece3 div.sk-estimator {font-family: monospace;background-color: #f0f8ff;margin: 0.25em 0.25em;border: 1px dotted black;border-radius: 0.25em;box-sizing: border-box;}#sk-29dd45ce-019e-4646-a2f9-ea520bf0ece3 div.sk-estimator:hover {background-color: #d4ebff;}#sk-29dd45ce-019e-4646-a2f9-ea520bf0ece3 div.sk-parallel-item::after {content: \"\";width: 100%;border-bottom: 1px solid gray;flex-grow: 1;}#sk-29dd45ce-019e-4646-a2f9-ea520bf0ece3 div.sk-label:hover label.sk-toggleable__label {background-color: #d4ebff;}#sk-29dd45ce-019e-4646-a2f9-ea520bf0ece3 div.sk-serial::before {content: \"\";position: absolute;border-left: 1px solid gray;box-sizing: border-box;top: 2em;bottom: 0;left: 50%;}#sk-29dd45ce-019e-4646-a2f9-ea520bf0ece3 div.sk-serial {display: flex;flex-direction: column;align-items: center;background-color: white;}#sk-29dd45ce-019e-4646-a2f9-ea520bf0ece3 div.sk-item {z-index: 1;}#sk-29dd45ce-019e-4646-a2f9-ea520bf0ece3 div.sk-parallel {display: flex;align-items: stretch;justify-content: center;background-color: white;}#sk-29dd45ce-019e-4646-a2f9-ea520bf0ece3 div.sk-parallel-item {display: flex;flex-direction: column;position: relative;background-color: white;}#sk-29dd45ce-019e-4646-a2f9-ea520bf0ece3 div.sk-parallel-item:first-child::after {align-self: flex-end;width: 50%;}#sk-29dd45ce-019e-4646-a2f9-ea520bf0ece3 div.sk-parallel-item:last-child::after {align-self: flex-start;width: 50%;}#sk-29dd45ce-019e-4646-a2f9-ea520bf0ece3 div.sk-parallel-item:only-child::after {width: 0;}#sk-29dd45ce-019e-4646-a2f9-ea520bf0ece3 div.sk-dashed-wrapped {border: 1px dashed gray;margin: 0.2em;box-sizing: border-box;padding-bottom: 0.1em;background-color: white;position: relative;}#sk-29dd45ce-019e-4646-a2f9-ea520bf0ece3 div.sk-label label {font-family: monospace;font-weight: bold;background-color: white;display: inline-block;line-height: 1.2em;}#sk-29dd45ce-019e-4646-a2f9-ea520bf0ece3 div.sk-label-container {position: relative;z-index: 2;text-align: center;}#sk-29dd45ce-019e-4646-a2f9-ea520bf0ece3 div.sk-container {display: inline-block;position: relative;}</style><div id=\"sk-29dd45ce-019e-4646-a2f9-ea520bf0ece3\" class\"sk-top-container\"><div class=\"sk-container\"><div class=\"sk-item sk-dashed-wrapped\"><div class=\"sk-label-container\"><div class=\"sk-label sk-toggleable\"><input class=\"sk-toggleable__control sk-hidden--visually\" id=\"d906e8e0-6924-4da9-ac28-e5314e430e9f\" type=\"checkbox\" ><label class=\"sk-toggleable__label\" for=\"d906e8e0-6924-4da9-ac28-e5314e430e9f\">Pipeline</label><div class=\"sk-toggleable__content\"><pre>Pipeline(steps=[('preprocessor',\n",
       "                 ColumnTransformer(n_jobs=-1, remainder='passthrough',\n",
       "                                   transformers=[('drop-convert',\n",
       "                                                  FunctionTransformer(func=<function drop_and_convert at 0x000001DB721E0D30>),\n",
       "                                                  ['CustomerID', 'Count',\n",
       "                                                   'Country', 'State', 'City',\n",
       "                                                   'Lat Long', 'Churn Label',\n",
       "                                                   'Churn Reason',\n",
       "                                                   'Total Charges']),\n",
       "                                                 ('1hot',\n",
       "                                                  OneHotEncoder(sparse=False),\n",
       "                                                  ['Gender', 'Senior Citizen',...\n",
       "                               interaction_constraints=None, learning_rate=None,\n",
       "                               max_delta_step=None, max_depth=None,\n",
       "                               min_child_weight=None, missing=nan,\n",
       "                               monotone_constraints=None, n_estimators=100,\n",
       "                               n_jobs=None, num_parallel_tree=None,\n",
       "                               predictor=None, random_state=None,\n",
       "                               reg_alpha=None, reg_lambda=None,\n",
       "                               scale_pos_weight=None, subsample=0.9,\n",
       "                               tree_method=None, validate_parameters=None,\n",
       "                               verbosity=None))])</pre></div></div></div><div class=\"sk-serial\"><div class=\"sk-item sk-dashed-wrapped\"><div class=\"sk-label-container\"><div class=\"sk-label sk-toggleable\"><input class=\"sk-toggleable__control sk-hidden--visually\" id=\"9385a09c-711c-4fec-a9e4-3de6c81668dd\" type=\"checkbox\" ><label class=\"sk-toggleable__label\" for=\"9385a09c-711c-4fec-a9e4-3de6c81668dd\">preprocessor: ColumnTransformer</label><div class=\"sk-toggleable__content\"><pre>ColumnTransformer(n_jobs=-1, remainder='passthrough',\n",
       "                  transformers=[('drop-convert',\n",
       "                                 FunctionTransformer(func=<function drop_and_convert at 0x000001DB721E0D30>),\n",
       "                                 ['CustomerID', 'Count', 'Country', 'State',\n",
       "                                  'City', 'Lat Long', 'Churn Label',\n",
       "                                  'Churn Reason', 'Total Charges']),\n",
       "                                ('1hot', OneHotEncoder(sparse=False),\n",
       "                                 ['Gender', 'Senior Citizen', 'Partner',\n",
       "                                  'Dependents', 'Phone Service',\n",
       "                                  'Multiple Lines', 'Internet Service',\n",
       "                                  'Online Security', 'Online Backup',\n",
       "                                  'Device Protection', 'Tech Support',\n",
       "                                  'Streaming TV', 'Streaming Movies',\n",
       "                                  'Contract', 'Paperless Billing',\n",
       "                                  'Payment Method'])])</pre></div></div></div><div class=\"sk-parallel\"><div class=\"sk-parallel-item\"><div class=\"sk-item\"><div class=\"sk-label-container\"><div class=\"sk-label sk-toggleable\"><input class=\"sk-toggleable__control sk-hidden--visually\" id=\"90ccefeb-5233-4d3b-8244-1c18df5e0ad7\" type=\"checkbox\" ><label class=\"sk-toggleable__label\" for=\"90ccefeb-5233-4d3b-8244-1c18df5e0ad7\">drop-convert</label><div class=\"sk-toggleable__content\"><pre>['CustomerID', 'Count', 'Country', 'State', 'City', 'Lat Long', 'Churn Label', 'Churn Reason', 'Total Charges']</pre></div></div></div><div class=\"sk-serial\"><div class=\"sk-item\"><div class=\"sk-estimator sk-toggleable\"><input class=\"sk-toggleable__control sk-hidden--visually\" id=\"bf2600c0-cfce-4bec-bd11-9e4e1bd943b0\" type=\"checkbox\" ><label class=\"sk-toggleable__label\" for=\"bf2600c0-cfce-4bec-bd11-9e4e1bd943b0\">FunctionTransformer</label><div class=\"sk-toggleable__content\"><pre>FunctionTransformer(func=<function drop_and_convert at 0x000001DB721E0D30>)</pre></div></div></div></div></div></div><div class=\"sk-parallel-item\"><div class=\"sk-item\"><div class=\"sk-label-container\"><div class=\"sk-label sk-toggleable\"><input class=\"sk-toggleable__control sk-hidden--visually\" id=\"2afd2f11-f3d2-4447-b293-488667c02062\" type=\"checkbox\" ><label class=\"sk-toggleable__label\" for=\"2afd2f11-f3d2-4447-b293-488667c02062\">1hot</label><div class=\"sk-toggleable__content\"><pre>['Gender', 'Senior Citizen', 'Partner', 'Dependents', 'Phone Service', 'Multiple Lines', 'Internet Service', 'Online Security', 'Online Backup', 'Device Protection', 'Tech Support', 'Streaming TV', 'Streaming Movies', 'Contract', 'Paperless Billing', 'Payment Method']</pre></div></div></div><div class=\"sk-serial\"><div class=\"sk-item\"><div class=\"sk-estimator sk-toggleable\"><input class=\"sk-toggleable__control sk-hidden--visually\" id=\"bc992731-410c-481c-acd5-afb6eac423f6\" type=\"checkbox\" ><label class=\"sk-toggleable__label\" for=\"bc992731-410c-481c-acd5-afb6eac423f6\">OneHotEncoder</label><div class=\"sk-toggleable__content\"><pre>OneHotEncoder(sparse=False)</pre></div></div></div></div></div></div><div class=\"sk-parallel-item\"><div class=\"sk-item\"><div class=\"sk-label-container\"><div class=\"sk-label sk-toggleable\"><input class=\"sk-toggleable__control sk-hidden--visually\" id=\"6bcf07e1-a373-4d5e-931d-9972531ab315\" type=\"checkbox\" ><label class=\"sk-toggleable__label\" for=\"6bcf07e1-a373-4d5e-931d-9972531ab315\">remainder</label><div class=\"sk-toggleable__content\"><pre>['Zip Code', 'Latitude', 'Longitude', 'Tenure Months', 'Monthly Charges', 'Churn Score', 'CLTV']</pre></div></div></div><div class=\"sk-serial\"><div class=\"sk-item\"><div class=\"sk-estimator sk-toggleable\"><input class=\"sk-toggleable__control sk-hidden--visually\" id=\"d24cccc0-b18c-4e9a-a329-5027cddd79e4\" type=\"checkbox\" ><label class=\"sk-toggleable__label\" for=\"d24cccc0-b18c-4e9a-a329-5027cddd79e4\">passthrough</label><div class=\"sk-toggleable__content\"><pre>passthrough</pre></div></div></div></div></div></div></div></div><div class=\"sk-item\"><div class=\"sk-estimator sk-toggleable\"><input class=\"sk-toggleable__control sk-hidden--visually\" id=\"c951d120-87d1-475f-bcda-ce1a02a23635\" type=\"checkbox\" ><label class=\"sk-toggleable__label\" for=\"c951d120-87d1-475f-bcda-ce1a02a23635\">SMOTE</label><div class=\"sk-toggleable__content\"><pre>SMOTE()</pre></div></div></div><div class=\"sk-item\"><div class=\"sk-estimator sk-toggleable\"><input class=\"sk-toggleable__control sk-hidden--visually\" id=\"ef2b0232-7757-4f8b-a514-fe7f4a540bec\" type=\"checkbox\" ><label class=\"sk-toggleable__label\" for=\"ef2b0232-7757-4f8b-a514-fe7f4a540bec\">RandomUnderSampler</label><div class=\"sk-toggleable__content\"><pre>RandomUnderSampler()</pre></div></div></div><div class=\"sk-item\"><div class=\"sk-estimator sk-toggleable\"><input class=\"sk-toggleable__control sk-hidden--visually\" id=\"842b02fa-c6d3-43f7-82b8-be5f439cc2c2\" type=\"checkbox\" ><label class=\"sk-toggleable__label\" for=\"842b02fa-c6d3-43f7-82b8-be5f439cc2c2\">XGBClassifier</label><div class=\"sk-toggleable__content\"><pre>XGBClassifier(base_score=None, booster=None, colsample_bylevel=None,\n",
       "              colsample_bynode=None, colsample_bytree=0.5,\n",
       "              enable_categorical=False, eval_metric='logloss', gamma=None,\n",
       "              gpu_id=None, importance_type=None, interaction_constraints=None,\n",
       "              learning_rate=None, max_delta_step=None, max_depth=None,\n",
       "              min_child_weight=None, missing=nan, monotone_constraints=None,\n",
       "              n_estimators=100, n_jobs=None, num_parallel_tree=None,\n",
       "              predictor=None, random_state=None, reg_alpha=None,\n",
       "              reg_lambda=None, scale_pos_weight=None, subsample=0.9,\n",
       "              tree_method=None, validate_parameters=None, verbosity=None)</pre></div></div></div></div></div></div></div>"
      ],
      "text/plain": [
       "Pipeline(steps=[('preprocessor',\n",
       "                 ColumnTransformer(n_jobs=-1, remainder='passthrough',\n",
       "                                   transformers=[('drop-convert',\n",
       "                                                  FunctionTransformer(func=<function drop_and_convert at 0x000001DB721E0D30>),\n",
       "                                                  ['CustomerID', 'Count',\n",
       "                                                   'Country', 'State', 'City',\n",
       "                                                   'Lat Long', 'Churn Label',\n",
       "                                                   'Churn Reason',\n",
       "                                                   'Total Charges']),\n",
       "                                                 ('1hot',\n",
       "                                                  OneHotEncoder(sparse=False),\n",
       "                                                  ['Gender', 'Senior Citizen',...\n",
       "                               interaction_constraints=None, learning_rate=None,\n",
       "                               max_delta_step=None, max_depth=None,\n",
       "                               min_child_weight=None, missing=nan,\n",
       "                               monotone_constraints=None, n_estimators=100,\n",
       "                               n_jobs=None, num_parallel_tree=None,\n",
       "                               predictor=None, random_state=None,\n",
       "                               reg_alpha=None, reg_lambda=None,\n",
       "                               scale_pos_weight=None, subsample=0.9,\n",
       "                               tree_method=None, validate_parameters=None,\n",
       "                               verbosity=None))])"
      ]
     },
     "execution_count": 27,
     "metadata": {},
     "output_type": "execute_result"
    }
   ],
   "source": [
    "xgb_clf = xgb.XGBClassifier(eval_metric='logloss', subsample=0.9, colsample_bytree=0.5)\n",
    "# Set eval_metrics to remove warning\n",
    "# https://stackoverflow.com/questions/66097701/how-can-i-fix-this-warning-in-xgboost\n",
    "\n",
    "xgb_pipeline = Pipeline([\n",
    "    ('preprocessor', preprocessor),\n",
    "    ('over-sampling', SMOTE()),\n",
    "    ('under-sampling', RandomUnderSampler()),\n",
    "    ('XGBoost', xgb_clf)\n",
    "])\n",
    "xgb_pipeline"
   ]
  },
  {
   "cell_type": "code",
   "execution_count": 28,
   "id": "dfd35215",
   "metadata": {
    "scrolled": true
   },
   "outputs": [
    {
     "data": {
      "text/html": [
       "<style>#sk-3eaa8ab3-7390-4c41-b8af-c9aa0dcbfb62 {color: black;background-color: white;}#sk-3eaa8ab3-7390-4c41-b8af-c9aa0dcbfb62 pre{padding: 0;}#sk-3eaa8ab3-7390-4c41-b8af-c9aa0dcbfb62 div.sk-toggleable {background-color: white;}#sk-3eaa8ab3-7390-4c41-b8af-c9aa0dcbfb62 label.sk-toggleable__label {cursor: pointer;display: block;width: 100%;margin-bottom: 0;padding: 0.2em 0.3em;box-sizing: border-box;text-align: center;}#sk-3eaa8ab3-7390-4c41-b8af-c9aa0dcbfb62 div.sk-toggleable__content {max-height: 0;max-width: 0;overflow: hidden;text-align: left;background-color: #f0f8ff;}#sk-3eaa8ab3-7390-4c41-b8af-c9aa0dcbfb62 div.sk-toggleable__content pre {margin: 0.2em;color: black;border-radius: 0.25em;background-color: #f0f8ff;}#sk-3eaa8ab3-7390-4c41-b8af-c9aa0dcbfb62 input.sk-toggleable__control:checked~div.sk-toggleable__content {max-height: 200px;max-width: 100%;overflow: auto;}#sk-3eaa8ab3-7390-4c41-b8af-c9aa0dcbfb62 div.sk-estimator input.sk-toggleable__control:checked~label.sk-toggleable__label {background-color: #d4ebff;}#sk-3eaa8ab3-7390-4c41-b8af-c9aa0dcbfb62 div.sk-label input.sk-toggleable__control:checked~label.sk-toggleable__label {background-color: #d4ebff;}#sk-3eaa8ab3-7390-4c41-b8af-c9aa0dcbfb62 input.sk-hidden--visually {border: 0;clip: rect(1px 1px 1px 1px);clip: rect(1px, 1px, 1px, 1px);height: 1px;margin: -1px;overflow: hidden;padding: 0;position: absolute;width: 1px;}#sk-3eaa8ab3-7390-4c41-b8af-c9aa0dcbfb62 div.sk-estimator {font-family: monospace;background-color: #f0f8ff;margin: 0.25em 0.25em;border: 1px dotted black;border-radius: 0.25em;box-sizing: border-box;}#sk-3eaa8ab3-7390-4c41-b8af-c9aa0dcbfb62 div.sk-estimator:hover {background-color: #d4ebff;}#sk-3eaa8ab3-7390-4c41-b8af-c9aa0dcbfb62 div.sk-parallel-item::after {content: \"\";width: 100%;border-bottom: 1px solid gray;flex-grow: 1;}#sk-3eaa8ab3-7390-4c41-b8af-c9aa0dcbfb62 div.sk-label:hover label.sk-toggleable__label {background-color: #d4ebff;}#sk-3eaa8ab3-7390-4c41-b8af-c9aa0dcbfb62 div.sk-serial::before {content: \"\";position: absolute;border-left: 1px solid gray;box-sizing: border-box;top: 2em;bottom: 0;left: 50%;}#sk-3eaa8ab3-7390-4c41-b8af-c9aa0dcbfb62 div.sk-serial {display: flex;flex-direction: column;align-items: center;background-color: white;}#sk-3eaa8ab3-7390-4c41-b8af-c9aa0dcbfb62 div.sk-item {z-index: 1;}#sk-3eaa8ab3-7390-4c41-b8af-c9aa0dcbfb62 div.sk-parallel {display: flex;align-items: stretch;justify-content: center;background-color: white;}#sk-3eaa8ab3-7390-4c41-b8af-c9aa0dcbfb62 div.sk-parallel-item {display: flex;flex-direction: column;position: relative;background-color: white;}#sk-3eaa8ab3-7390-4c41-b8af-c9aa0dcbfb62 div.sk-parallel-item:first-child::after {align-self: flex-end;width: 50%;}#sk-3eaa8ab3-7390-4c41-b8af-c9aa0dcbfb62 div.sk-parallel-item:last-child::after {align-self: flex-start;width: 50%;}#sk-3eaa8ab3-7390-4c41-b8af-c9aa0dcbfb62 div.sk-parallel-item:only-child::after {width: 0;}#sk-3eaa8ab3-7390-4c41-b8af-c9aa0dcbfb62 div.sk-dashed-wrapped {border: 1px dashed gray;margin: 0.2em;box-sizing: border-box;padding-bottom: 0.1em;background-color: white;position: relative;}#sk-3eaa8ab3-7390-4c41-b8af-c9aa0dcbfb62 div.sk-label label {font-family: monospace;font-weight: bold;background-color: white;display: inline-block;line-height: 1.2em;}#sk-3eaa8ab3-7390-4c41-b8af-c9aa0dcbfb62 div.sk-label-container {position: relative;z-index: 2;text-align: center;}#sk-3eaa8ab3-7390-4c41-b8af-c9aa0dcbfb62 div.sk-container {display: inline-block;position: relative;}</style><div id=\"sk-3eaa8ab3-7390-4c41-b8af-c9aa0dcbfb62\" class\"sk-top-container\"><div class=\"sk-container\"><div class=\"sk-item sk-dashed-wrapped\"><div class=\"sk-label-container\"><div class=\"sk-label sk-toggleable\"><input class=\"sk-toggleable__control sk-hidden--visually\" id=\"dad88047-4fb9-4708-9e51-45ddb7637f2f\" type=\"checkbox\" ><label class=\"sk-toggleable__label\" for=\"dad88047-4fb9-4708-9e51-45ddb7637f2f\">Pipeline</label><div class=\"sk-toggleable__content\"><pre>Pipeline(steps=[('preprocessor',\n",
       "                 ColumnTransformer(n_jobs=-1, remainder='passthrough',\n",
       "                                   transformers=[('drop-convert',\n",
       "                                                  FunctionTransformer(func=<function drop_and_convert at 0x000001DB721E0D30>),\n",
       "                                                  ['CustomerID', 'Count',\n",
       "                                                   'Country', 'State', 'City',\n",
       "                                                   'Lat Long', 'Churn Label',\n",
       "                                                   'Churn Reason',\n",
       "                                                   'Total Charges']),\n",
       "                                                 ('1hot',\n",
       "                                                  OneHotEncoder(sparse=False),\n",
       "                                                  ['Gender', 'Senior Citizen',...\n",
       "                               importance_type=None, interaction_constraints='',\n",
       "                               learning_rate=0.300000012, max_delta_step=0,\n",
       "                               max_depth=6, min_child_weight=1, missing=nan,\n",
       "                               monotone_constraints='()', n_estimators=100,\n",
       "                               n_jobs=8, num_parallel_tree=1, predictor='auto',\n",
       "                               random_state=0, reg_alpha=0, reg_lambda=1,\n",
       "                               scale_pos_weight=1, subsample=0.9,\n",
       "                               tree_method='exact', validate_parameters=1,\n",
       "                               verbosity=None))])</pre></div></div></div><div class=\"sk-serial\"><div class=\"sk-item sk-dashed-wrapped\"><div class=\"sk-label-container\"><div class=\"sk-label sk-toggleable\"><input class=\"sk-toggleable__control sk-hidden--visually\" id=\"eca77976-b089-43a3-89c5-d42708ae6d83\" type=\"checkbox\" ><label class=\"sk-toggleable__label\" for=\"eca77976-b089-43a3-89c5-d42708ae6d83\">preprocessor: ColumnTransformer</label><div class=\"sk-toggleable__content\"><pre>ColumnTransformer(n_jobs=-1, remainder='passthrough',\n",
       "                  transformers=[('drop-convert',\n",
       "                                 FunctionTransformer(func=<function drop_and_convert at 0x000001DB721E0D30>),\n",
       "                                 ['CustomerID', 'Count', 'Country', 'State',\n",
       "                                  'City', 'Lat Long', 'Churn Label',\n",
       "                                  'Churn Reason', 'Total Charges']),\n",
       "                                ('1hot', OneHotEncoder(sparse=False),\n",
       "                                 ['Gender', 'Senior Citizen', 'Partner',\n",
       "                                  'Dependents', 'Phone Service',\n",
       "                                  'Multiple Lines', 'Internet Service',\n",
       "                                  'Online Security', 'Online Backup',\n",
       "                                  'Device Protection', 'Tech Support',\n",
       "                                  'Streaming TV', 'Streaming Movies',\n",
       "                                  'Contract', 'Paperless Billing',\n",
       "                                  'Payment Method'])])</pre></div></div></div><div class=\"sk-parallel\"><div class=\"sk-parallel-item\"><div class=\"sk-item\"><div class=\"sk-label-container\"><div class=\"sk-label sk-toggleable\"><input class=\"sk-toggleable__control sk-hidden--visually\" id=\"900d8ba2-dbba-4c9c-8326-8b43cedd7940\" type=\"checkbox\" ><label class=\"sk-toggleable__label\" for=\"900d8ba2-dbba-4c9c-8326-8b43cedd7940\">drop-convert</label><div class=\"sk-toggleable__content\"><pre>['CustomerID', 'Count', 'Country', 'State', 'City', 'Lat Long', 'Churn Label', 'Churn Reason', 'Total Charges']</pre></div></div></div><div class=\"sk-serial\"><div class=\"sk-item\"><div class=\"sk-estimator sk-toggleable\"><input class=\"sk-toggleable__control sk-hidden--visually\" id=\"047a14d6-a68e-4b1d-9b78-d89c5f2be1d8\" type=\"checkbox\" ><label class=\"sk-toggleable__label\" for=\"047a14d6-a68e-4b1d-9b78-d89c5f2be1d8\">FunctionTransformer</label><div class=\"sk-toggleable__content\"><pre>FunctionTransformer(func=<function drop_and_convert at 0x000001DB721E0D30>)</pre></div></div></div></div></div></div><div class=\"sk-parallel-item\"><div class=\"sk-item\"><div class=\"sk-label-container\"><div class=\"sk-label sk-toggleable\"><input class=\"sk-toggleable__control sk-hidden--visually\" id=\"34ad2a36-36f1-4c95-b7c9-dad2a477cae6\" type=\"checkbox\" ><label class=\"sk-toggleable__label\" for=\"34ad2a36-36f1-4c95-b7c9-dad2a477cae6\">1hot</label><div class=\"sk-toggleable__content\"><pre>['Gender', 'Senior Citizen', 'Partner', 'Dependents', 'Phone Service', 'Multiple Lines', 'Internet Service', 'Online Security', 'Online Backup', 'Device Protection', 'Tech Support', 'Streaming TV', 'Streaming Movies', 'Contract', 'Paperless Billing', 'Payment Method']</pre></div></div></div><div class=\"sk-serial\"><div class=\"sk-item\"><div class=\"sk-estimator sk-toggleable\"><input class=\"sk-toggleable__control sk-hidden--visually\" id=\"a1f49d29-5489-4d15-ad3d-d74c17f982bd\" type=\"checkbox\" ><label class=\"sk-toggleable__label\" for=\"a1f49d29-5489-4d15-ad3d-d74c17f982bd\">OneHotEncoder</label><div class=\"sk-toggleable__content\"><pre>OneHotEncoder(sparse=False)</pre></div></div></div></div></div></div><div class=\"sk-parallel-item\"><div class=\"sk-item\"><div class=\"sk-label-container\"><div class=\"sk-label sk-toggleable\"><input class=\"sk-toggleable__control sk-hidden--visually\" id=\"db39c651-bfae-428a-b87b-7ed014457b64\" type=\"checkbox\" ><label class=\"sk-toggleable__label\" for=\"db39c651-bfae-428a-b87b-7ed014457b64\">remainder</label><div class=\"sk-toggleable__content\"><pre>['Zip Code', 'Latitude', 'Longitude', 'Tenure Months', 'Monthly Charges', 'Churn Score', 'CLTV']</pre></div></div></div><div class=\"sk-serial\"><div class=\"sk-item\"><div class=\"sk-estimator sk-toggleable\"><input class=\"sk-toggleable__control sk-hidden--visually\" id=\"a8b38ed2-24d8-4040-baef-13cc7226d609\" type=\"checkbox\" ><label class=\"sk-toggleable__label\" for=\"a8b38ed2-24d8-4040-baef-13cc7226d609\">passthrough</label><div class=\"sk-toggleable__content\"><pre>passthrough</pre></div></div></div></div></div></div></div></div><div class=\"sk-item\"><div class=\"sk-estimator sk-toggleable\"><input class=\"sk-toggleable__control sk-hidden--visually\" id=\"2e79a3c6-fceb-4b5b-b8cc-13377f3d9098\" type=\"checkbox\" ><label class=\"sk-toggleable__label\" for=\"2e79a3c6-fceb-4b5b-b8cc-13377f3d9098\">SMOTE</label><div class=\"sk-toggleable__content\"><pre>SMOTE()</pre></div></div></div><div class=\"sk-item\"><div class=\"sk-estimator sk-toggleable\"><input class=\"sk-toggleable__control sk-hidden--visually\" id=\"4c9a6308-6f89-40cd-a8ee-b3e6f8ea9abe\" type=\"checkbox\" ><label class=\"sk-toggleable__label\" for=\"4c9a6308-6f89-40cd-a8ee-b3e6f8ea9abe\">RandomUnderSampler</label><div class=\"sk-toggleable__content\"><pre>RandomUnderSampler()</pre></div></div></div><div class=\"sk-item\"><div class=\"sk-estimator sk-toggleable\"><input class=\"sk-toggleable__control sk-hidden--visually\" id=\"d75212a0-5753-401f-8bb1-2c1072d7742b\" type=\"checkbox\" ><label class=\"sk-toggleable__label\" for=\"d75212a0-5753-401f-8bb1-2c1072d7742b\">XGBClassifier</label><div class=\"sk-toggleable__content\"><pre>XGBClassifier(base_score=0.5, booster='gbtree', colsample_bylevel=1,\n",
       "              colsample_bynode=1, colsample_bytree=0.5,\n",
       "              enable_categorical=False, eval_metric='logloss', gamma=0,\n",
       "              gpu_id=-1, importance_type=None, interaction_constraints='',\n",
       "              learning_rate=0.300000012, max_delta_step=0, max_depth=6,\n",
       "              min_child_weight=1, missing=nan, monotone_constraints='()',\n",
       "              n_estimators=100, n_jobs=8, num_parallel_tree=1, predictor='auto',\n",
       "              random_state=0, reg_alpha=0, reg_lambda=1, scale_pos_weight=1,\n",
       "              subsample=0.9, tree_method='exact', validate_parameters=1,\n",
       "              verbosity=None)</pre></div></div></div></div></div></div></div>"
      ],
      "text/plain": [
       "Pipeline(steps=[('preprocessor',\n",
       "                 ColumnTransformer(n_jobs=-1, remainder='passthrough',\n",
       "                                   transformers=[('drop-convert',\n",
       "                                                  FunctionTransformer(func=<function drop_and_convert at 0x000001DB721E0D30>),\n",
       "                                                  ['CustomerID', 'Count',\n",
       "                                                   'Country', 'State', 'City',\n",
       "                                                   'Lat Long', 'Churn Label',\n",
       "                                                   'Churn Reason',\n",
       "                                                   'Total Charges']),\n",
       "                                                 ('1hot',\n",
       "                                                  OneHotEncoder(sparse=False),\n",
       "                                                  ['Gender', 'Senior Citizen',...\n",
       "                               importance_type=None, interaction_constraints='',\n",
       "                               learning_rate=0.300000012, max_delta_step=0,\n",
       "                               max_depth=6, min_child_weight=1, missing=nan,\n",
       "                               monotone_constraints='()', n_estimators=100,\n",
       "                               n_jobs=8, num_parallel_tree=1, predictor='auto',\n",
       "                               random_state=0, reg_alpha=0, reg_lambda=1,\n",
       "                               scale_pos_weight=1, subsample=0.9,\n",
       "                               tree_method='exact', validate_parameters=1,\n",
       "                               verbosity=None))])"
      ]
     },
     "execution_count": 28,
     "metadata": {},
     "output_type": "execute_result"
    }
   ],
   "source": [
    "xgb_pipeline.fit(X_train, y_train)"
   ]
  },
  {
   "cell_type": "code",
   "execution_count": 29,
   "id": "2f57f2de",
   "metadata": {},
   "outputs": [
    {
     "name": "stdout",
     "output_type": "stream",
     "text": [
      "F1=0.8583 (+/- 0.0215)\n",
      "AUC=0.9808 (+/- 0.0035)\n"
     ]
    }
   ],
   "source": [
    "xgb_scores = cross_validate_model(clf=xgb_pipeline, X_train=X_train, y_train=y_train)"
   ]
  },
  {
   "cell_type": "code",
   "execution_count": 30,
   "id": "81ba0ed5",
   "metadata": {
    "scrolled": true
   },
   "outputs": [
    {
     "data": {
      "image/png": "[encoded data removed]",
      "text/plain": [
       "<Figure size 432x288 with 2 Axes>"
      ]
     },
     "metadata": {
      "needs_background": "light"
     },
     "output_type": "display_data"
    }
   ],
   "source": [
    "plot_confusion_matrix(clf=xgb_pipeline, X_train=X_train, y_train=y_train)"
   ]
  },
  {
   "cell_type": "markdown",
   "id": "5d601d07",
   "metadata": {},
   "source": [
    "**NOTE:** We are doing much better job at classifying people that left the company, but this is at the expense of not being able to correctly classify as many people that didn't leave the company.\n",
    "\n",
    "**NOTE (StatQuest INTERPRETATION):** When people leave the company, they reduce the revenue of the company as well. It would seem more reasonable to catch those people before they leave, and try to manipulate them to continue to use the services of the company."
   ]
  },
  {
   "cell_type": "markdown",
   "id": "513e60a3",
   "metadata": {},
   "source": [
    "## Hyperparameter Optimization of XGBoost model"
   ]
  },
  {
   "cell_type": "markdown",
   "id": "679bc41a",
   "metadata": {},
   "source": [
    "**NOTE:** When the data is imbalanced, in the `XGBoost` manual they suggest we:\n",
    "- balance the data with the hyper-parameter `scale_pos_weight`,\n",
    "- use $F_{1}$ score as metric for evaluation.\n",
    "\n",
    "**ANOTHER NOTE:** In order to speedup the cross-validation, and to further prevent overfitting, we are only using random subset of the data (90% in this example), and are only using random subset of the features (50% in this example)."
   ]
  },
  {
   "cell_type": "code",
   "execution_count": 31,
   "id": "d43bc8a8",
   "metadata": {
    "scrolled": false
   },
   "outputs": [
    {
     "name": "stdout",
     "output_type": "stream",
     "text": [
      "Grid searching time: 155.6715 s\n",
      "0.8663\n",
      "Pipeline(steps=[('preprocessor',\n",
      "                 ColumnTransformer(n_jobs=-1, remainder='passthrough',\n",
      "                                   transformers=[('drop-convert',\n",
      "                                                  FunctionTransformer(func=<function drop_and_convert at 0x000001DB721E0D30>),\n",
      "                                                  ['CustomerID', 'Count',\n",
      "                                                   'Country', 'State', 'City',\n",
      "                                                   'Lat Long', 'Churn Label',\n",
      "                                                   'Churn Reason',\n",
      "                                                   'Total Charges']),\n",
      "                                                 ('1hot',\n",
      "                                                  OneHotEncoder(sparse=False),\n",
      "                                                  ['Gender', 'Senior Citizen',...\n",
      "                               eta=0.015, eval_metric='logloss', gamma=0.05,\n",
      "                               gpu_id=-1, importance_type=None,\n",
      "                               interaction_constraints='', lambda=0.01,\n",
      "                               learning_rate=0.300000012, max_delta_step=0,\n",
      "                               max_depth=12, min_child_weight=5, missing=nan,\n",
      "                               monotone_constraints='()', n_estimators=100,\n",
      "                               n_jobs=8, num_parallel_tree=1, predictor='auto',\n",
      "                               random_state=0, reg_alpha=0, reg_lambda=1,\n",
      "                               scale_pos_weight=1, subsample=0.9,\n",
      "                               tree_method='exact', ...))])\n"
     ]
    }
   ],
   "source": [
    "param_grid_xgb = {\n",
    "    'XGBoost__eta': [0.01, 0.015, 0.025, 0.05, 0.1],\n",
    "    'XGBoost__gamma': [0.05, 0.1, 0.3, 0.5, 0.7, 0.9, 1.0],\n",
    "    'XGBoost__max_depth': [3, 5, 7, 9, 12, 15, 17, 25],\n",
    "    'XGBoost__min_child_weight': [1, 3, 5, 7],\n",
    "    'XGBoost__subsample': [0.6, 0.7, 0.8, 0.9, 1.0],\n",
    "    'XGBoost__colsample_bytree': [0.6, 0.7, 0.8, 0.9, 1.0],\n",
    "    'XGBoost__lambda': [0.01, 0.1, 1.0],\n",
    "    'XGBoost__alpha': [0, 0.1, 0.5, 1.0],\n",
    "    'XGBoost__scale_pos_weight': [1, 3, 5] #XGBoost recommends: sum(negative instances) / sum(positive instances)\n",
    "}\n",
    "\n",
    "t0 = time()\n",
    "xgbc_opt = RandomizedSearchCV(\n",
    "    estimator=xgb_pipeline,\n",
    "    param_distributions=param_grid_xgb,\n",
    "    n_iter=20,\n",
    "    scoring='f1',\n",
    "    n_jobs=-1,\n",
    "    cv=10\n",
    ").fit(X_train, y_train)\n",
    "grid_searching_time_xgb = time() - t0\n",
    "\n",
    "print(f'Grid searching time: {grid_searching_time_xgb:.4f} s')\n",
    "print(f'{xgbc_opt.best_score_:.4f}')\n",
    "print(f'{xgbc_opt.best_estimator_}')"
   ]
  },
  {
   "cell_type": "markdown",
   "id": "ada6ed31",
   "metadata": {},
   "source": [
    "## Build LightGBM model"
   ]
  },
  {
   "cell_type": "markdown",
   "id": "55c2c09e",
   "metadata": {},
   "source": [
    "LightGBM can use categorical features directly (without one-hot encoding). In this project one-hot encoding will be used."
   ]
  },
  {
   "cell_type": "code",
   "execution_count": 32,
   "id": "4f294e96",
   "metadata": {},
   "outputs": [
    {
     "data": {
      "text/html": [
       "<style>#sk-6c9aa95e-3237-427e-8807-877bd80bdb86 {color: black;background-color: white;}#sk-6c9aa95e-3237-427e-8807-877bd80bdb86 pre{padding: 0;}#sk-6c9aa95e-3237-427e-8807-877bd80bdb86 div.sk-toggleable {background-color: white;}#sk-6c9aa95e-3237-427e-8807-877bd80bdb86 label.sk-toggleable__label {cursor: pointer;display: block;width: 100%;margin-bottom: 0;padding: 0.2em 0.3em;box-sizing: border-box;text-align: center;}#sk-6c9aa95e-3237-427e-8807-877bd80bdb86 div.sk-toggleable__content {max-height: 0;max-width: 0;overflow: hidden;text-align: left;background-color: #f0f8ff;}#sk-6c9aa95e-3237-427e-8807-877bd80bdb86 div.sk-toggleable__content pre {margin: 0.2em;color: black;border-radius: 0.25em;background-color: #f0f8ff;}#sk-6c9aa95e-3237-427e-8807-877bd80bdb86 input.sk-toggleable__control:checked~div.sk-toggleable__content {max-height: 200px;max-width: 100%;overflow: auto;}#sk-6c9aa95e-3237-427e-8807-877bd80bdb86 div.sk-estimator input.sk-toggleable__control:checked~label.sk-toggleable__label {background-color: #d4ebff;}#sk-6c9aa95e-3237-427e-8807-877bd80bdb86 div.sk-label input.sk-toggleable__control:checked~label.sk-toggleable__label {background-color: #d4ebff;}#sk-6c9aa95e-3237-427e-8807-877bd80bdb86 input.sk-hidden--visually {border: 0;clip: rect(1px 1px 1px 1px);clip: rect(1px, 1px, 1px, 1px);height: 1px;margin: -1px;overflow: hidden;padding: 0;position: absolute;width: 1px;}#sk-6c9aa95e-3237-427e-8807-877bd80bdb86 div.sk-estimator {font-family: monospace;background-color: #f0f8ff;margin: 0.25em 0.25em;border: 1px dotted black;border-radius: 0.25em;box-sizing: border-box;}#sk-6c9aa95e-3237-427e-8807-877bd80bdb86 div.sk-estimator:hover {background-color: #d4ebff;}#sk-6c9aa95e-3237-427e-8807-877bd80bdb86 div.sk-parallel-item::after {content: \"\";width: 100%;border-bottom: 1px solid gray;flex-grow: 1;}#sk-6c9aa95e-3237-427e-8807-877bd80bdb86 div.sk-label:hover label.sk-toggleable__label {background-color: #d4ebff;}#sk-6c9aa95e-3237-427e-8807-877bd80bdb86 div.sk-serial::before {content: \"\";position: absolute;border-left: 1px solid gray;box-sizing: border-box;top: 2em;bottom: 0;left: 50%;}#sk-6c9aa95e-3237-427e-8807-877bd80bdb86 div.sk-serial {display: flex;flex-direction: column;align-items: center;background-color: white;}#sk-6c9aa95e-3237-427e-8807-877bd80bdb86 div.sk-item {z-index: 1;}#sk-6c9aa95e-3237-427e-8807-877bd80bdb86 div.sk-parallel {display: flex;align-items: stretch;justify-content: center;background-color: white;}#sk-6c9aa95e-3237-427e-8807-877bd80bdb86 div.sk-parallel-item {display: flex;flex-direction: column;position: relative;background-color: white;}#sk-6c9aa95e-3237-427e-8807-877bd80bdb86 div.sk-parallel-item:first-child::after {align-self: flex-end;width: 50%;}#sk-6c9aa95e-3237-427e-8807-877bd80bdb86 div.sk-parallel-item:last-child::after {align-self: flex-start;width: 50%;}#sk-6c9aa95e-3237-427e-8807-877bd80bdb86 div.sk-parallel-item:only-child::after {width: 0;}#sk-6c9aa95e-3237-427e-8807-877bd80bdb86 div.sk-dashed-wrapped {border: 1px dashed gray;margin: 0.2em;box-sizing: border-box;padding-bottom: 0.1em;background-color: white;position: relative;}#sk-6c9aa95e-3237-427e-8807-877bd80bdb86 div.sk-label label {font-family: monospace;font-weight: bold;background-color: white;display: inline-block;line-height: 1.2em;}#sk-6c9aa95e-3237-427e-8807-877bd80bdb86 div.sk-label-container {position: relative;z-index: 2;text-align: center;}#sk-6c9aa95e-3237-427e-8807-877bd80bdb86 div.sk-container {display: inline-block;position: relative;}</style><div id=\"sk-6c9aa95e-3237-427e-8807-877bd80bdb86\" class\"sk-top-container\"><div class=\"sk-container\"><div class=\"sk-item sk-dashed-wrapped\"><div class=\"sk-label-container\"><div class=\"sk-label sk-toggleable\"><input class=\"sk-toggleable__control sk-hidden--visually\" id=\"ce011435-7319-453e-b69e-e61eb7a357cd\" type=\"checkbox\" ><label class=\"sk-toggleable__label\" for=\"ce011435-7319-453e-b69e-e61eb7a357cd\">Pipeline</label><div class=\"sk-toggleable__content\"><pre>Pipeline(steps=[('preprocessor',\n",
       "                 ColumnTransformer(n_jobs=-1, remainder='passthrough',\n",
       "                                   transformers=[('drop-convert',\n",
       "                                                  FunctionTransformer(func=<function drop_and_convert at 0x000001DB721E0D30>),\n",
       "                                                  ['CustomerID', 'Count',\n",
       "                                                   'Country', 'State', 'City',\n",
       "                                                   'Lat Long', 'Churn Label',\n",
       "                                                   'Churn Reason',\n",
       "                                                   'Total Charges']),\n",
       "                                                 ('1hot',\n",
       "                                                  OneHotEncoder(sparse=False),\n",
       "                                                  ['Gender', 'Senior Citizen',\n",
       "                                                   'Partner', 'Dependents',\n",
       "                                                   'Phone Service',\n",
       "                                                   'Multiple Lines',\n",
       "                                                   'Internet Service',\n",
       "                                                   'Online Security',\n",
       "                                                   'Online Backup',\n",
       "                                                   'Device Protection',\n",
       "                                                   'Tech Support',\n",
       "                                                   'Streaming TV',\n",
       "                                                   'Streaming Movies',\n",
       "                                                   'Contract',\n",
       "                                                   'Paperless Billing',\n",
       "                                                   'Payment Method'])])),\n",
       "                ('over-sampling', SMOTE()),\n",
       "                ('under-sampling', RandomUnderSampler()),\n",
       "                ('lgbm', LGBMClassifier(random_state=0))])</pre></div></div></div><div class=\"sk-serial\"><div class=\"sk-item sk-dashed-wrapped\"><div class=\"sk-label-container\"><div class=\"sk-label sk-toggleable\"><input class=\"sk-toggleable__control sk-hidden--visually\" id=\"cdfa1863-162e-43e8-a1d2-f1644c2c61f6\" type=\"checkbox\" ><label class=\"sk-toggleable__label\" for=\"cdfa1863-162e-43e8-a1d2-f1644c2c61f6\">preprocessor: ColumnTransformer</label><div class=\"sk-toggleable__content\"><pre>ColumnTransformer(n_jobs=-1, remainder='passthrough',\n",
       "                  transformers=[('drop-convert',\n",
       "                                 FunctionTransformer(func=<function drop_and_convert at 0x000001DB721E0D30>),\n",
       "                                 ['CustomerID', 'Count', 'Country', 'State',\n",
       "                                  'City', 'Lat Long', 'Churn Label',\n",
       "                                  'Churn Reason', 'Total Charges']),\n",
       "                                ('1hot', OneHotEncoder(sparse=False),\n",
       "                                 ['Gender', 'Senior Citizen', 'Partner',\n",
       "                                  'Dependents', 'Phone Service',\n",
       "                                  'Multiple Lines', 'Internet Service',\n",
       "                                  'Online Security', 'Online Backup',\n",
       "                                  'Device Protection', 'Tech Support',\n",
       "                                  'Streaming TV', 'Streaming Movies',\n",
       "                                  'Contract', 'Paperless Billing',\n",
       "                                  'Payment Method'])])</pre></div></div></div><div class=\"sk-parallel\"><div class=\"sk-parallel-item\"><div class=\"sk-item\"><div class=\"sk-label-container\"><div class=\"sk-label sk-toggleable\"><input class=\"sk-toggleable__control sk-hidden--visually\" id=\"865dce94-0462-4bea-a97c-623fb5dbd464\" type=\"checkbox\" ><label class=\"sk-toggleable__label\" for=\"865dce94-0462-4bea-a97c-623fb5dbd464\">drop-convert</label><div class=\"sk-toggleable__content\"><pre>['CustomerID', 'Count', 'Country', 'State', 'City', 'Lat Long', 'Churn Label', 'Churn Reason', 'Total Charges']</pre></div></div></div><div class=\"sk-serial\"><div class=\"sk-item\"><div class=\"sk-estimator sk-toggleable\"><input class=\"sk-toggleable__control sk-hidden--visually\" id=\"832d8e14-b5bc-4e32-bbea-70d105f6d2ee\" type=\"checkbox\" ><label class=\"sk-toggleable__label\" for=\"832d8e14-b5bc-4e32-bbea-70d105f6d2ee\">FunctionTransformer</label><div class=\"sk-toggleable__content\"><pre>FunctionTransformer(func=<function drop_and_convert at 0x000001DB721E0D30>)</pre></div></div></div></div></div></div><div class=\"sk-parallel-item\"><div class=\"sk-item\"><div class=\"sk-label-container\"><div class=\"sk-label sk-toggleable\"><input class=\"sk-toggleable__control sk-hidden--visually\" id=\"bddd3e51-e560-4eb5-9c1e-5a530d4b235d\" type=\"checkbox\" ><label class=\"sk-toggleable__label\" for=\"bddd3e51-e560-4eb5-9c1e-5a530d4b235d\">1hot</label><div class=\"sk-toggleable__content\"><pre>['Gender', 'Senior Citizen', 'Partner', 'Dependents', 'Phone Service', 'Multiple Lines', 'Internet Service', 'Online Security', 'Online Backup', 'Device Protection', 'Tech Support', 'Streaming TV', 'Streaming Movies', 'Contract', 'Paperless Billing', 'Payment Method']</pre></div></div></div><div class=\"sk-serial\"><div class=\"sk-item\"><div class=\"sk-estimator sk-toggleable\"><input class=\"sk-toggleable__control sk-hidden--visually\" id=\"b1daf61e-bb0d-4835-9407-371a94d620c5\" type=\"checkbox\" ><label class=\"sk-toggleable__label\" for=\"b1daf61e-bb0d-4835-9407-371a94d620c5\">OneHotEncoder</label><div class=\"sk-toggleable__content\"><pre>OneHotEncoder(sparse=False)</pre></div></div></div></div></div></div><div class=\"sk-parallel-item\"><div class=\"sk-item\"><div class=\"sk-label-container\"><div class=\"sk-label sk-toggleable\"><input class=\"sk-toggleable__control sk-hidden--visually\" id=\"2fbf2f4e-7f3f-4cd5-921d-52f3b0d81b08\" type=\"checkbox\" ><label class=\"sk-toggleable__label\" for=\"2fbf2f4e-7f3f-4cd5-921d-52f3b0d81b08\">remainder</label><div class=\"sk-toggleable__content\"><pre>['Zip Code', 'Latitude', 'Longitude', 'Tenure Months', 'Monthly Charges', 'Churn Score', 'CLTV']</pre></div></div></div><div class=\"sk-serial\"><div class=\"sk-item\"><div class=\"sk-estimator sk-toggleable\"><input class=\"sk-toggleable__control sk-hidden--visually\" id=\"10ccc28b-b5a7-4a0b-a47a-8b6411c23385\" type=\"checkbox\" ><label class=\"sk-toggleable__label\" for=\"10ccc28b-b5a7-4a0b-a47a-8b6411c23385\">passthrough</label><div class=\"sk-toggleable__content\"><pre>passthrough</pre></div></div></div></div></div></div></div></div><div class=\"sk-item\"><div class=\"sk-estimator sk-toggleable\"><input class=\"sk-toggleable__control sk-hidden--visually\" id=\"64b19230-0389-4d2c-a89b-9c9610e9011b\" type=\"checkbox\" ><label class=\"sk-toggleable__label\" for=\"64b19230-0389-4d2c-a89b-9c9610e9011b\">SMOTE</label><div class=\"sk-toggleable__content\"><pre>SMOTE()</pre></div></div></div><div class=\"sk-item\"><div class=\"sk-estimator sk-toggleable\"><input class=\"sk-toggleable__control sk-hidden--visually\" id=\"45b36a7e-ed41-4ed4-af61-6435dcc2f017\" type=\"checkbox\" ><label class=\"sk-toggleable__label\" for=\"45b36a7e-ed41-4ed4-af61-6435dcc2f017\">RandomUnderSampler</label><div class=\"sk-toggleable__content\"><pre>RandomUnderSampler()</pre></div></div></div><div class=\"sk-item\"><div class=\"sk-estimator sk-toggleable\"><input class=\"sk-toggleable__control sk-hidden--visually\" id=\"28549591-a0e4-4ea6-a00c-522b099583d8\" type=\"checkbox\" ><label class=\"sk-toggleable__label\" for=\"28549591-a0e4-4ea6-a00c-522b099583d8\">LGBMClassifier</label><div class=\"sk-toggleable__content\"><pre>LGBMClassifier(random_state=0)</pre></div></div></div></div></div></div></div>"
      ],
      "text/plain": [
       "Pipeline(steps=[('preprocessor',\n",
       "                 ColumnTransformer(n_jobs=-1, remainder='passthrough',\n",
       "                                   transformers=[('drop-convert',\n",
       "                                                  FunctionTransformer(func=<function drop_and_convert at 0x000001DB721E0D30>),\n",
       "                                                  ['CustomerID', 'Count',\n",
       "                                                   'Country', 'State', 'City',\n",
       "                                                   'Lat Long', 'Churn Label',\n",
       "                                                   'Churn Reason',\n",
       "                                                   'Total Charges']),\n",
       "                                                 ('1hot',\n",
       "                                                  OneHotEncoder(sparse=False),\n",
       "                                                  ['Gender', 'Senior Citizen',\n",
       "                                                   'Partner', 'Dependents',\n",
       "                                                   'Phone Service',\n",
       "                                                   'Multiple Lines',\n",
       "                                                   'Internet Service',\n",
       "                                                   'Online Security',\n",
       "                                                   'Online Backup',\n",
       "                                                   'Device Protection',\n",
       "                                                   'Tech Support',\n",
       "                                                   'Streaming TV',\n",
       "                                                   'Streaming Movies',\n",
       "                                                   'Contract',\n",
       "                                                   'Paperless Billing',\n",
       "                                                   'Payment Method'])])),\n",
       "                ('over-sampling', SMOTE()),\n",
       "                ('under-sampling', RandomUnderSampler()),\n",
       "                ('lgbm', LGBMClassifier(random_state=0))])"
      ]
     },
     "execution_count": 32,
     "metadata": {},
     "output_type": "execute_result"
    }
   ],
   "source": [
    "lgbm_clf = LGBMClassifier(random_state=0)\n",
    "\n",
    "lgbm_pipeline = Pipeline([\n",
    "    ('preprocessor', preprocessor),\n",
    "    ('over-sampling', SMOTE()),\n",
    "    ('under-sampling', RandomUnderSampler()),\n",
    "    ('lgbm', lgbm_clf)\n",
    "])\n",
    "lgbm_pipeline"
   ]
  },
  {
   "cell_type": "code",
   "execution_count": 33,
   "id": "04f886fa",
   "metadata": {},
   "outputs": [
    {
     "data": {
      "text/html": [
       "<style>#sk-752ac369-7305-48e4-bcb5-d917ffd02f94 {color: black;background-color: white;}#sk-752ac369-7305-48e4-bcb5-d917ffd02f94 pre{padding: 0;}#sk-752ac369-7305-48e4-bcb5-d917ffd02f94 div.sk-toggleable {background-color: white;}#sk-752ac369-7305-48e4-bcb5-d917ffd02f94 label.sk-toggleable__label {cursor: pointer;display: block;width: 100%;margin-bottom: 0;padding: 0.2em 0.3em;box-sizing: border-box;text-align: center;}#sk-752ac369-7305-48e4-bcb5-d917ffd02f94 div.sk-toggleable__content {max-height: 0;max-width: 0;overflow: hidden;text-align: left;background-color: #f0f8ff;}#sk-752ac369-7305-48e4-bcb5-d917ffd02f94 div.sk-toggleable__content pre {margin: 0.2em;color: black;border-radius: 0.25em;background-color: #f0f8ff;}#sk-752ac369-7305-48e4-bcb5-d917ffd02f94 input.sk-toggleable__control:checked~div.sk-toggleable__content {max-height: 200px;max-width: 100%;overflow: auto;}#sk-752ac369-7305-48e4-bcb5-d917ffd02f94 div.sk-estimator input.sk-toggleable__control:checked~label.sk-toggleable__label {background-color: #d4ebff;}#sk-752ac369-7305-48e4-bcb5-d917ffd02f94 div.sk-label input.sk-toggleable__control:checked~label.sk-toggleable__label {background-color: #d4ebff;}#sk-752ac369-7305-48e4-bcb5-d917ffd02f94 input.sk-hidden--visually {border: 0;clip: rect(1px 1px 1px 1px);clip: rect(1px, 1px, 1px, 1px);height: 1px;margin: -1px;overflow: hidden;padding: 0;position: absolute;width: 1px;}#sk-752ac369-7305-48e4-bcb5-d917ffd02f94 div.sk-estimator {font-family: monospace;background-color: #f0f8ff;margin: 0.25em 0.25em;border: 1px dotted black;border-radius: 0.25em;box-sizing: border-box;}#sk-752ac369-7305-48e4-bcb5-d917ffd02f94 div.sk-estimator:hover {background-color: #d4ebff;}#sk-752ac369-7305-48e4-bcb5-d917ffd02f94 div.sk-parallel-item::after {content: \"\";width: 100%;border-bottom: 1px solid gray;flex-grow: 1;}#sk-752ac369-7305-48e4-bcb5-d917ffd02f94 div.sk-label:hover label.sk-toggleable__label {background-color: #d4ebff;}#sk-752ac369-7305-48e4-bcb5-d917ffd02f94 div.sk-serial::before {content: \"\";position: absolute;border-left: 1px solid gray;box-sizing: border-box;top: 2em;bottom: 0;left: 50%;}#sk-752ac369-7305-48e4-bcb5-d917ffd02f94 div.sk-serial {display: flex;flex-direction: column;align-items: center;background-color: white;}#sk-752ac369-7305-48e4-bcb5-d917ffd02f94 div.sk-item {z-index: 1;}#sk-752ac369-7305-48e4-bcb5-d917ffd02f94 div.sk-parallel {display: flex;align-items: stretch;justify-content: center;background-color: white;}#sk-752ac369-7305-48e4-bcb5-d917ffd02f94 div.sk-parallel-item {display: flex;flex-direction: column;position: relative;background-color: white;}#sk-752ac369-7305-48e4-bcb5-d917ffd02f94 div.sk-parallel-item:first-child::after {align-self: flex-end;width: 50%;}#sk-752ac369-7305-48e4-bcb5-d917ffd02f94 div.sk-parallel-item:last-child::after {align-self: flex-start;width: 50%;}#sk-752ac369-7305-48e4-bcb5-d917ffd02f94 div.sk-parallel-item:only-child::after {width: 0;}#sk-752ac369-7305-48e4-bcb5-d917ffd02f94 div.sk-dashed-wrapped {border: 1px dashed gray;margin: 0.2em;box-sizing: border-box;padding-bottom: 0.1em;background-color: white;position: relative;}#sk-752ac369-7305-48e4-bcb5-d917ffd02f94 div.sk-label label {font-family: monospace;font-weight: bold;background-color: white;display: inline-block;line-height: 1.2em;}#sk-752ac369-7305-48e4-bcb5-d917ffd02f94 div.sk-label-container {position: relative;z-index: 2;text-align: center;}#sk-752ac369-7305-48e4-bcb5-d917ffd02f94 div.sk-container {display: inline-block;position: relative;}</style><div id=\"sk-752ac369-7305-48e4-bcb5-d917ffd02f94\" class\"sk-top-container\"><div class=\"sk-container\"><div class=\"sk-item sk-dashed-wrapped\"><div class=\"sk-label-container\"><div class=\"sk-label sk-toggleable\"><input class=\"sk-toggleable__control sk-hidden--visually\" id=\"b95c5418-a06f-467b-bde8-81a44bc8a366\" type=\"checkbox\" ><label class=\"sk-toggleable__label\" for=\"b95c5418-a06f-467b-bde8-81a44bc8a366\">Pipeline</label><div class=\"sk-toggleable__content\"><pre>Pipeline(steps=[('preprocessor',\n",
       "                 ColumnTransformer(n_jobs=-1, remainder='passthrough',\n",
       "                                   transformers=[('drop-convert',\n",
       "                                                  FunctionTransformer(func=<function drop_and_convert at 0x000001DB721E0D30>),\n",
       "                                                  ['CustomerID', 'Count',\n",
       "                                                   'Country', 'State', 'City',\n",
       "                                                   'Lat Long', 'Churn Label',\n",
       "                                                   'Churn Reason',\n",
       "                                                   'Total Charges']),\n",
       "                                                 ('1hot',\n",
       "                                                  OneHotEncoder(sparse=False),\n",
       "                                                  ['Gender', 'Senior Citizen',\n",
       "                                                   'Partner', 'Dependents',\n",
       "                                                   'Phone Service',\n",
       "                                                   'Multiple Lines',\n",
       "                                                   'Internet Service',\n",
       "                                                   'Online Security',\n",
       "                                                   'Online Backup',\n",
       "                                                   'Device Protection',\n",
       "                                                   'Tech Support',\n",
       "                                                   'Streaming TV',\n",
       "                                                   'Streaming Movies',\n",
       "                                                   'Contract',\n",
       "                                                   'Paperless Billing',\n",
       "                                                   'Payment Method'])])),\n",
       "                ('over-sampling', SMOTE()),\n",
       "                ('under-sampling', RandomUnderSampler()),\n",
       "                ('lgbm', LGBMClassifier(random_state=0))])</pre></div></div></div><div class=\"sk-serial\"><div class=\"sk-item sk-dashed-wrapped\"><div class=\"sk-label-container\"><div class=\"sk-label sk-toggleable\"><input class=\"sk-toggleable__control sk-hidden--visually\" id=\"c50e4af2-246a-47d0-8bb4-9dd2ff7ece8f\" type=\"checkbox\" ><label class=\"sk-toggleable__label\" for=\"c50e4af2-246a-47d0-8bb4-9dd2ff7ece8f\">preprocessor: ColumnTransformer</label><div class=\"sk-toggleable__content\"><pre>ColumnTransformer(n_jobs=-1, remainder='passthrough',\n",
       "                  transformers=[('drop-convert',\n",
       "                                 FunctionTransformer(func=<function drop_and_convert at 0x000001DB721E0D30>),\n",
       "                                 ['CustomerID', 'Count', 'Country', 'State',\n",
       "                                  'City', 'Lat Long', 'Churn Label',\n",
       "                                  'Churn Reason', 'Total Charges']),\n",
       "                                ('1hot', OneHotEncoder(sparse=False),\n",
       "                                 ['Gender', 'Senior Citizen', 'Partner',\n",
       "                                  'Dependents', 'Phone Service',\n",
       "                                  'Multiple Lines', 'Internet Service',\n",
       "                                  'Online Security', 'Online Backup',\n",
       "                                  'Device Protection', 'Tech Support',\n",
       "                                  'Streaming TV', 'Streaming Movies',\n",
       "                                  'Contract', 'Paperless Billing',\n",
       "                                  'Payment Method'])])</pre></div></div></div><div class=\"sk-parallel\"><div class=\"sk-parallel-item\"><div class=\"sk-item\"><div class=\"sk-label-container\"><div class=\"sk-label sk-toggleable\"><input class=\"sk-toggleable__control sk-hidden--visually\" id=\"570b2d49-f26a-4135-81ce-2ff256648613\" type=\"checkbox\" ><label class=\"sk-toggleable__label\" for=\"570b2d49-f26a-4135-81ce-2ff256648613\">drop-convert</label><div class=\"sk-toggleable__content\"><pre>['CustomerID', 'Count', 'Country', 'State', 'City', 'Lat Long', 'Churn Label', 'Churn Reason', 'Total Charges']</pre></div></div></div><div class=\"sk-serial\"><div class=\"sk-item\"><div class=\"sk-estimator sk-toggleable\"><input class=\"sk-toggleable__control sk-hidden--visually\" id=\"9949ef59-e858-4276-9178-808f3418be8a\" type=\"checkbox\" ><label class=\"sk-toggleable__label\" for=\"9949ef59-e858-4276-9178-808f3418be8a\">FunctionTransformer</label><div class=\"sk-toggleable__content\"><pre>FunctionTransformer(func=<function drop_and_convert at 0x000001DB721E0D30>)</pre></div></div></div></div></div></div><div class=\"sk-parallel-item\"><div class=\"sk-item\"><div class=\"sk-label-container\"><div class=\"sk-label sk-toggleable\"><input class=\"sk-toggleable__control sk-hidden--visually\" id=\"13fbc5e6-52b6-49a1-bde0-77933adee60a\" type=\"checkbox\" ><label class=\"sk-toggleable__label\" for=\"13fbc5e6-52b6-49a1-bde0-77933adee60a\">1hot</label><div class=\"sk-toggleable__content\"><pre>['Gender', 'Senior Citizen', 'Partner', 'Dependents', 'Phone Service', 'Multiple Lines', 'Internet Service', 'Online Security', 'Online Backup', 'Device Protection', 'Tech Support', 'Streaming TV', 'Streaming Movies', 'Contract', 'Paperless Billing', 'Payment Method']</pre></div></div></div><div class=\"sk-serial\"><div class=\"sk-item\"><div class=\"sk-estimator sk-toggleable\"><input class=\"sk-toggleable__control sk-hidden--visually\" id=\"70fece9f-f29f-4d91-ad8e-1a2fb5e00951\" type=\"checkbox\" ><label class=\"sk-toggleable__label\" for=\"70fece9f-f29f-4d91-ad8e-1a2fb5e00951\">OneHotEncoder</label><div class=\"sk-toggleable__content\"><pre>OneHotEncoder(sparse=False)</pre></div></div></div></div></div></div><div class=\"sk-parallel-item\"><div class=\"sk-item\"><div class=\"sk-label-container\"><div class=\"sk-label sk-toggleable\"><input class=\"sk-toggleable__control sk-hidden--visually\" id=\"2a37c1fd-621b-41d4-b670-2f028172d7cc\" type=\"checkbox\" ><label class=\"sk-toggleable__label\" for=\"2a37c1fd-621b-41d4-b670-2f028172d7cc\">remainder</label><div class=\"sk-toggleable__content\"><pre>['Zip Code', 'Latitude', 'Longitude', 'Tenure Months', 'Monthly Charges', 'Churn Score', 'CLTV']</pre></div></div></div><div class=\"sk-serial\"><div class=\"sk-item\"><div class=\"sk-estimator sk-toggleable\"><input class=\"sk-toggleable__control sk-hidden--visually\" id=\"6feb11d0-06fd-4a2e-a02a-5f40e6769a7a\" type=\"checkbox\" ><label class=\"sk-toggleable__label\" for=\"6feb11d0-06fd-4a2e-a02a-5f40e6769a7a\">passthrough</label><div class=\"sk-toggleable__content\"><pre>passthrough</pre></div></div></div></div></div></div></div></div><div class=\"sk-item\"><div class=\"sk-estimator sk-toggleable\"><input class=\"sk-toggleable__control sk-hidden--visually\" id=\"b0af1a1f-407f-4200-9a10-233b39a84a6e\" type=\"checkbox\" ><label class=\"sk-toggleable__label\" for=\"b0af1a1f-407f-4200-9a10-233b39a84a6e\">SMOTE</label><div class=\"sk-toggleable__content\"><pre>SMOTE()</pre></div></div></div><div class=\"sk-item\"><div class=\"sk-estimator sk-toggleable\"><input class=\"sk-toggleable__control sk-hidden--visually\" id=\"bcbef550-4794-45aa-9405-1374af785f22\" type=\"checkbox\" ><label class=\"sk-toggleable__label\" for=\"bcbef550-4794-45aa-9405-1374af785f22\">RandomUnderSampler</label><div class=\"sk-toggleable__content\"><pre>RandomUnderSampler()</pre></div></div></div><div class=\"sk-item\"><div class=\"sk-estimator sk-toggleable\"><input class=\"sk-toggleable__control sk-hidden--visually\" id=\"0b3050eb-a328-4b7e-a1e9-663a6b1f78bc\" type=\"checkbox\" ><label class=\"sk-toggleable__label\" for=\"0b3050eb-a328-4b7e-a1e9-663a6b1f78bc\">LGBMClassifier</label><div class=\"sk-toggleable__content\"><pre>LGBMClassifier(random_state=0)</pre></div></div></div></div></div></div></div>"
      ],
      "text/plain": [
       "Pipeline(steps=[('preprocessor',\n",
       "                 ColumnTransformer(n_jobs=-1, remainder='passthrough',\n",
       "                                   transformers=[('drop-convert',\n",
       "                                                  FunctionTransformer(func=<function drop_and_convert at 0x000001DB721E0D30>),\n",
       "                                                  ['CustomerID', 'Count',\n",
       "                                                   'Country', 'State', 'City',\n",
       "                                                   'Lat Long', 'Churn Label',\n",
       "                                                   'Churn Reason',\n",
       "                                                   'Total Charges']),\n",
       "                                                 ('1hot',\n",
       "                                                  OneHotEncoder(sparse=False),\n",
       "                                                  ['Gender', 'Senior Citizen',\n",
       "                                                   'Partner', 'Dependents',\n",
       "                                                   'Phone Service',\n",
       "                                                   'Multiple Lines',\n",
       "                                                   'Internet Service',\n",
       "                                                   'Online Security',\n",
       "                                                   'Online Backup',\n",
       "                                                   'Device Protection',\n",
       "                                                   'Tech Support',\n",
       "                                                   'Streaming TV',\n",
       "                                                   'Streaming Movies',\n",
       "                                                   'Contract',\n",
       "                                                   'Paperless Billing',\n",
       "                                                   'Payment Method'])])),\n",
       "                ('over-sampling', SMOTE()),\n",
       "                ('under-sampling', RandomUnderSampler()),\n",
       "                ('lgbm', LGBMClassifier(random_state=0))])"
      ]
     },
     "execution_count": 33,
     "metadata": {},
     "output_type": "execute_result"
    }
   ],
   "source": [
    "lgbm_pipeline.fit(X_train, y_train)"
   ]
  },
  {
   "cell_type": "code",
   "execution_count": 34,
   "id": "bbe6e654",
   "metadata": {
    "scrolled": true
   },
   "outputs": [
    {
     "name": "stdout",
     "output_type": "stream",
     "text": [
      "F1=0.8576 (+/- 0.0189)\n",
      "AUC=0.9812 (+/- 0.0028)\n"
     ]
    }
   ],
   "source": [
    "lgbm_scores = cross_validate_model(clf=lgbm_pipeline, X_train=X_train, y_train=y_train)"
   ]
  },
  {
   "cell_type": "code",
   "execution_count": 35,
   "id": "996526e4",
   "metadata": {},
   "outputs": [
    {
     "data": {
      "image/png": "[encoded data removed]",
      "text/plain": [
       "<Figure size 432x288 with 2 Axes>"
      ]
     },
     "metadata": {
      "needs_background": "light"
     },
     "output_type": "display_data"
    }
   ],
   "source": [
    "plot_confusion_matrix(clf=lgbm_pipeline, X_train=X_train, y_train=y_train)"
   ]
  },
  {
   "cell_type": "markdown",
   "id": "3893eb1e",
   "metadata": {},
   "source": [
    "## Optimization of LightGBM model"
   ]
  },
  {
   "cell_type": "code",
   "execution_count": 36,
   "id": "7deffbf1",
   "metadata": {
    "scrolled": false
   },
   "outputs": [
    {
     "name": "stdout",
     "output_type": "stream",
     "text": [
      "[LightGBM] [Warning] min_data_in_leaf is set=700, min_child_samples=20 will be ignored. Current value: min_data_in_leaf=700\n",
      "Grid searching time: 50.1165 s\n",
      "0.8741\n",
      "Pipeline(steps=[('preprocessor',\n",
      "                 ColumnTransformer(n_jobs=-1, remainder='passthrough',\n",
      "                                   transformers=[('drop-convert',\n",
      "                                                  FunctionTransformer(func=<function drop_and_convert at 0x000001DB721E0D30>),\n",
      "                                                  ['CustomerID', 'Count',\n",
      "                                                   'Country', 'State', 'City',\n",
      "                                                   'Lat Long', 'Churn Label',\n",
      "                                                   'Churn Reason',\n",
      "                                                   'Total Charges']),\n",
      "                                                 ('1hot',\n",
      "                                                  OneHotEncoder(sparse=False),\n",
      "                                                  ['Gender', 'Senior Citizen',...\n",
      "                                                   'Phone Service',\n",
      "                                                   'Multiple Lines',\n",
      "                                                   'Internet Service',\n",
      "                                                   'Online Security',\n",
      "                                                   'Online Backup',\n",
      "                                                   'Device Protection',\n",
      "                                                   'Tech Support',\n",
      "                                                   'Streaming TV',\n",
      "                                                   'Streaming Movies',\n",
      "                                                   'Contract',\n",
      "                                                   'Paperless Billing',\n",
      "                                                   'Payment Method'])])),\n",
      "                ('over-sampling', SMOTE()),\n",
      "                ('under-sampling', RandomUnderSampler()),\n",
      "                ('lgbm',\n",
      "                 LGBMClassifier(max_depth=15, min_data_in_leaf=700,\n",
      "                                num_leaves=70, random_state=0))])\n"
     ]
    }
   ],
   "source": [
    "param_grid_lgbm = {\n",
    "    'lgbm__num_leaves': [50, 60, 70, 80, 90, 100],\n",
    "    'lgbm__min_data_in_leaf': [500, 600, 700, 800, 900, 1000],\n",
    "    'lgbm__max_depth': [3, 5, 7, 9, 12, 15, 17, 20]\n",
    "}\n",
    "\n",
    "t0 = time()\n",
    "lgbm_opt = RandomizedSearchCV(\n",
    "    estimator=lgbm_pipeline,\n",
    "    param_distributions=param_grid_lgbm,\n",
    "    n_iter=20,\n",
    "    scoring='f1',\n",
    "    n_jobs=-1,\n",
    "    cv=10\n",
    ").fit(X_train, y_train)\n",
    "grid_searching_time_lgbm = time() - t0\n",
    "\n",
    "print(f'Grid searching time: {grid_searching_time_lgbm:.4f} s')\n",
    "print(f'{lgbm_opt.best_score_:.4f}')\n",
    "print(f'{lgbm_opt.best_estimator_}')"
   ]
  },
  {
   "cell_type": "markdown",
   "id": "48426b22",
   "metadata": {},
   "source": [
    "## Build CatBoost model"
   ]
  },
  {
   "cell_type": "code",
   "execution_count": 37,
   "id": "684717c9",
   "metadata": {},
   "outputs": [],
   "source": [
    "temp = X_train.drop(drop_convert_features, axis=1)\n",
    "cat_features = list(temp.select_dtypes('object').columns)\n",
    "cat_index = [temp.columns.get_loc(c) for c in temp.select_dtypes('object').columns]"
   ]
  },
  {
   "cell_type": "code",
   "execution_count": 38,
   "id": "0a40d657",
   "metadata": {},
   "outputs": [
    {
     "data": {
      "text/html": [
       "<style>#sk-1d7f05c0-4c18-462f-9514-fa4c062e42e6 {color: black;background-color: white;}#sk-1d7f05c0-4c18-462f-9514-fa4c062e42e6 pre{padding: 0;}#sk-1d7f05c0-4c18-462f-9514-fa4c062e42e6 div.sk-toggleable {background-color: white;}#sk-1d7f05c0-4c18-462f-9514-fa4c062e42e6 label.sk-toggleable__label {cursor: pointer;display: block;width: 100%;margin-bottom: 0;padding: 0.2em 0.3em;box-sizing: border-box;text-align: center;}#sk-1d7f05c0-4c18-462f-9514-fa4c062e42e6 div.sk-toggleable__content {max-height: 0;max-width: 0;overflow: hidden;text-align: left;background-color: #f0f8ff;}#sk-1d7f05c0-4c18-462f-9514-fa4c062e42e6 div.sk-toggleable__content pre {margin: 0.2em;color: black;border-radius: 0.25em;background-color: #f0f8ff;}#sk-1d7f05c0-4c18-462f-9514-fa4c062e42e6 input.sk-toggleable__control:checked~div.sk-toggleable__content {max-height: 200px;max-width: 100%;overflow: auto;}#sk-1d7f05c0-4c18-462f-9514-fa4c062e42e6 div.sk-estimator input.sk-toggleable__control:checked~label.sk-toggleable__label {background-color: #d4ebff;}#sk-1d7f05c0-4c18-462f-9514-fa4c062e42e6 div.sk-label input.sk-toggleable__control:checked~label.sk-toggleable__label {background-color: #d4ebff;}#sk-1d7f05c0-4c18-462f-9514-fa4c062e42e6 input.sk-hidden--visually {border: 0;clip: rect(1px 1px 1px 1px);clip: rect(1px, 1px, 1px, 1px);height: 1px;margin: -1px;overflow: hidden;padding: 0;position: absolute;width: 1px;}#sk-1d7f05c0-4c18-462f-9514-fa4c062e42e6 div.sk-estimator {font-family: monospace;background-color: #f0f8ff;margin: 0.25em 0.25em;border: 1px dotted black;border-radius: 0.25em;box-sizing: border-box;}#sk-1d7f05c0-4c18-462f-9514-fa4c062e42e6 div.sk-estimator:hover {background-color: #d4ebff;}#sk-1d7f05c0-4c18-462f-9514-fa4c062e42e6 div.sk-parallel-item::after {content: \"\";width: 100%;border-bottom: 1px solid gray;flex-grow: 1;}#sk-1d7f05c0-4c18-462f-9514-fa4c062e42e6 div.sk-label:hover label.sk-toggleable__label {background-color: #d4ebff;}#sk-1d7f05c0-4c18-462f-9514-fa4c062e42e6 div.sk-serial::before {content: \"\";position: absolute;border-left: 1px solid gray;box-sizing: border-box;top: 2em;bottom: 0;left: 50%;}#sk-1d7f05c0-4c18-462f-9514-fa4c062e42e6 div.sk-serial {display: flex;flex-direction: column;align-items: center;background-color: white;}#sk-1d7f05c0-4c18-462f-9514-fa4c062e42e6 div.sk-item {z-index: 1;}#sk-1d7f05c0-4c18-462f-9514-fa4c062e42e6 div.sk-parallel {display: flex;align-items: stretch;justify-content: center;background-color: white;}#sk-1d7f05c0-4c18-462f-9514-fa4c062e42e6 div.sk-parallel-item {display: flex;flex-direction: column;position: relative;background-color: white;}#sk-1d7f05c0-4c18-462f-9514-fa4c062e42e6 div.sk-parallel-item:first-child::after {align-self: flex-end;width: 50%;}#sk-1d7f05c0-4c18-462f-9514-fa4c062e42e6 div.sk-parallel-item:last-child::after {align-self: flex-start;width: 50%;}#sk-1d7f05c0-4c18-462f-9514-fa4c062e42e6 div.sk-parallel-item:only-child::after {width: 0;}#sk-1d7f05c0-4c18-462f-9514-fa4c062e42e6 div.sk-dashed-wrapped {border: 1px dashed gray;margin: 0.2em;box-sizing: border-box;padding-bottom: 0.1em;background-color: white;position: relative;}#sk-1d7f05c0-4c18-462f-9514-fa4c062e42e6 div.sk-label label {font-family: monospace;font-weight: bold;background-color: white;display: inline-block;line-height: 1.2em;}#sk-1d7f05c0-4c18-462f-9514-fa4c062e42e6 div.sk-label-container {position: relative;z-index: 2;text-align: center;}#sk-1d7f05c0-4c18-462f-9514-fa4c062e42e6 div.sk-container {display: inline-block;position: relative;}</style><div id=\"sk-1d7f05c0-4c18-462f-9514-fa4c062e42e6\" class\"sk-top-container\"><div class=\"sk-container\"><div class=\"sk-item sk-dashed-wrapped\"><div class=\"sk-label-container\"><div class=\"sk-label sk-toggleable\"><input class=\"sk-toggleable__control sk-hidden--visually\" id=\"0895a0b9-05d4-4f3c-9e71-61a5a375e7d8\" type=\"checkbox\" ><label class=\"sk-toggleable__label\" for=\"0895a0b9-05d4-4f3c-9e71-61a5a375e7d8\">Pipeline</label><div class=\"sk-toggleable__content\"><pre>Pipeline(steps=[('drop-convert',\n",
       "                 FunctionSampler(func=<function drop_and_convert at 0x000001DB721E0D30>)),\n",
       "                ('over-sampling',\n",
       "                 SMOTENC(categorical_features=[3, 4, 5, 6, 8, 9, 10, 11, 12, 13,\n",
       "                                               14, 15, 16, 17, 18, 19])),\n",
       "                ('under-sampling', RandomUnderSampler()),\n",
       "                ('catboost',\n",
       "                 <catboost.core.CatBoostClassifier object at 0x000001DB72307F40>)])</pre></div></div></div><div class=\"sk-serial\"><div class=\"sk-item\"><div class=\"sk-estimator sk-toggleable\"><input class=\"sk-toggleable__control sk-hidden--visually\" id=\"96da3487-81e4-4589-85ac-81e3edf86390\" type=\"checkbox\" ><label class=\"sk-toggleable__label\" for=\"96da3487-81e4-4589-85ac-81e3edf86390\">FunctionSampler</label><div class=\"sk-toggleable__content\"><pre>FunctionSampler(func=<function drop_and_convert at 0x000001DB721E0D30>)</pre></div></div></div><div class=\"sk-item\"><div class=\"sk-estimator sk-toggleable\"><input class=\"sk-toggleable__control sk-hidden--visually\" id=\"fb2d858b-9b07-4fcc-8b63-5145bcbca8bb\" type=\"checkbox\" ><label class=\"sk-toggleable__label\" for=\"fb2d858b-9b07-4fcc-8b63-5145bcbca8bb\">SMOTENC</label><div class=\"sk-toggleable__content\"><pre>SMOTENC(categorical_features=[3, 4, 5, 6, 8, 9, 10, 11, 12, 13, 14, 15, 16, 17,\n",
       "                              18, 19])</pre></div></div></div><div class=\"sk-item\"><div class=\"sk-estimator sk-toggleable\"><input class=\"sk-toggleable__control sk-hidden--visually\" id=\"6ca41e98-8bf0-434c-beb5-4e537d63a885\" type=\"checkbox\" ><label class=\"sk-toggleable__label\" for=\"6ca41e98-8bf0-434c-beb5-4e537d63a885\">RandomUnderSampler</label><div class=\"sk-toggleable__content\"><pre>RandomUnderSampler()</pre></div></div></div><div class=\"sk-item\"><div class=\"sk-estimator sk-toggleable\"><input class=\"sk-toggleable__control sk-hidden--visually\" id=\"4e7eb134-2036-4b18-a663-9bc23fafb147\" type=\"checkbox\" ><label class=\"sk-toggleable__label\" for=\"4e7eb134-2036-4b18-a663-9bc23fafb147\">CatBoostClassifier</label><div class=\"sk-toggleable__content\"><pre><catboost.core.CatBoostClassifier object at 0x000001DB72307F40></pre></div></div></div></div></div></div></div>"
      ],
      "text/plain": [
       "Pipeline(steps=[('drop-convert',\n",
       "                 FunctionSampler(func=<function drop_and_convert at 0x000001DB721E0D30>)),\n",
       "                ('over-sampling',\n",
       "                 SMOTENC(categorical_features=[3, 4, 5, 6, 8, 9, 10, 11, 12, 13,\n",
       "                                               14, 15, 16, 17, 18, 19])),\n",
       "                ('under-sampling', RandomUnderSampler()),\n",
       "                ('catboost',\n",
       "                 <catboost.core.CatBoostClassifier object at 0x000001DB72307F40>)])"
      ]
     },
     "execution_count": 38,
     "metadata": {},
     "output_type": "execute_result"
    }
   ],
   "source": [
    "catb_clf = CatBoostClassifier(eval_metric='F1', random_state=0, cat_features=cat_features, verbose=False)\n",
    "\n",
    "catb_pipeline = Pipeline([\n",
    "    ('drop-convert', FunctionSampler(drop_and_convert)),\n",
    "    ('over-sampling', SMOTENC(categorical_features=cat_index)),\n",
    "    ('under-sampling', RandomUnderSampler()),\n",
    "    ('catboost', catb_clf)\n",
    "])\n",
    "catb_pipeline"
   ]
  },
  {
   "cell_type": "code",
   "execution_count": 39,
   "id": "3a3d2052",
   "metadata": {},
   "outputs": [],
   "source": [
    "#catb_pipeline.fit(X_train, y_train, catboost__cat_features=cat_features)"
   ]
  },
  {
   "cell_type": "code",
   "execution_count": 40,
   "id": "1f788a32",
   "metadata": {},
   "outputs": [],
   "source": [
    "def catb_preprocessor(X, y):\n",
    "    X = drop_and_convert(X)\n",
    "    cat_features = list(X.select_dtypes('object').columns)\n",
    "    cat_index = [X.columns.get_loc(c) for c in temp.select_dtypes('object').columns]\n",
    "    \n",
    "    X_res, y_res = SMOTENC(categorical_features=cat_index).fit_resample(X, y)\n",
    "    X_res_up, y_res_up = RandomUnderSampler().fit_resample(X_res, y_res)\n",
    "    \n",
    "    return X_res_up, y_res_up"
   ]
  },
  {
   "cell_type": "code",
   "execution_count": 41,
   "id": "806d3754",
   "metadata": {},
   "outputs": [],
   "source": [
    "X_train_cat, y_train_cat = catb_preprocessor(X_train, y_train)"
   ]
  },
  {
   "cell_type": "code",
   "execution_count": 42,
   "id": "e679f6cd",
   "metadata": {},
   "outputs": [
    {
     "data": {
      "text/plain": [
       "<catboost.core.CatBoostClassifier at 0x1db72307f40>"
      ]
     },
     "execution_count": 42,
     "metadata": {},
     "output_type": "execute_result"
    }
   ],
   "source": [
    "catb_clf.fit(X_train_cat, y_train_cat, cat_features=cat_features)"
   ]
  },
  {
   "cell_type": "code",
   "execution_count": 43,
   "id": "0b0fef47",
   "metadata": {},
   "outputs": [
    {
     "name": "stdout",
     "output_type": "stream",
     "text": [
      "F1=0.9522 (+/- 0.0049)\n",
      "AUC=0.9914 (+/- 0.0013)\n"
     ]
    }
   ],
   "source": [
    "catb_scores = cross_validate_model(clf=catb_clf, X_train=X_train_cat, y_train=y_train_cat)"
   ]
  },
  {
   "cell_type": "code",
   "execution_count": 44,
   "id": "6b70d9f0",
   "metadata": {
    "scrolled": false
   },
   "outputs": [
    {
     "data": {
      "image/png": "[encoded data removed]",
      "text/plain": [
       "<Figure size 432x288 with 2 Axes>"
      ]
     },
     "metadata": {
      "needs_background": "light"
     },
     "output_type": "display_data"
    }
   ],
   "source": [
    "plot_confusion_matrix(clf=catb_clf, X_train=X_train_cat, y_train=y_train_cat)"
   ]
  },
  {
   "cell_type": "markdown",
   "id": "d2df81c8",
   "metadata": {},
   "source": [
    "## Optimization of CatBoost model"
   ]
  },
  {
   "cell_type": "code",
   "execution_count": 45,
   "id": "4b64df28",
   "metadata": {},
   "outputs": [
    {
     "name": "stdout",
     "output_type": "stream",
     "text": [
      "Grid searching time: 2946.4131 s\n",
      "0.9459\n",
      "<catboost.core.CatBoostClassifier object at 0x000001DB72670BE0>\n"
     ]
    }
   ],
   "source": [
    "param_grid_catb = {\n",
    "    'iterations': [100, 250, 500, 1000],\n",
    "    'learning_rate': np.arange(0.001, 10, 30),\n",
    "    'depth': [6, 7, 8, 9, 10],\n",
    "    'l2_leaf_reg': np.arange(1, 100, 30)\n",
    "}\n",
    "\n",
    "t0 = time()\n",
    "catb_opt = RandomizedSearchCV(\n",
    "    estimator=catb_clf,\n",
    "    param_distributions=param_grid_catb,\n",
    "    n_iter=20,\n",
    "    scoring='f1',\n",
    "    n_jobs=-1,\n",
    "    cv=10\n",
    ").fit(X_train_cat, y_train_cat)\n",
    "grid_searching_time_catb = time() - t0\n",
    "\n",
    "print(f'Grid searching time: {grid_searching_time_catb:.4f} s')\n",
    "print(f'{catb_opt.best_score_:.4f}')\n",
    "print(f'{catb_opt.best_estimator_}')"
   ]
  },
  {
   "cell_type": "markdown",
   "id": "0f6e78c0",
   "metadata": {},
   "source": [
    "## Evaluating models"
   ]
  },
  {
   "cell_type": "markdown",
   "id": "e0347bee",
   "metadata": {},
   "source": [
    "### Evaluation of models with default hyperparameters"
   ]
  },
  {
   "cell_type": "code",
   "execution_count": 46,
   "id": "8dc309b2",
   "metadata": {
    "scrolled": false
   },
   "outputs": [
    {
     "name": "stdout",
     "output_type": "stream",
     "text": [
      "==================================================\n",
      "Evaluation of model: Gradient Boosting\n",
      "Accuracy score: 0.9290\n",
      "Precision score: 0.8498\n",
      "Recall score: 0.8893\n",
      "F1 score: 0.8691\n",
      "AUC score: 0.9843\n"
     ]
    },
    {
     "data": {
      "image/png": "[encoded data removed]",
      "text/plain": [
       "<Figure size 432x288 with 1 Axes>"
      ]
     },
     "metadata": {
      "needs_background": "light"
     },
     "output_type": "display_data"
    },
    {
     "name": "stdout",
     "output_type": "stream",
     "text": [
      "\n",
      "\n",
      "\n",
      "==================================================\n",
      "Evaluation of model: XGBoost\n",
      "Accuracy score: 0.9272\n",
      "Precision score: 0.8638\n",
      "Recall score: 0.8607\n",
      "F1 score: 0.8623\n",
      "AUC score: 0.9833\n"
     ]
    },
    {
     "data": {
      "image/png": "[encoded data removed]",
      "text/plain": [
       "<Figure size 432x288 with 1 Axes>"
      ]
     },
     "metadata": {
      "needs_background": "light"
     },
     "output_type": "display_data"
    },
    {
     "name": "stdout",
     "output_type": "stream",
     "text": [
      "\n",
      "\n",
      "\n",
      "==================================================\n",
      "Evaluation of model: LightGBM\n",
      "Accuracy score: 0.9338\n",
      "Precision score: 0.8777\n",
      "Recall score: 0.8714\n",
      "F1 score: 0.8746\n",
      "AUC score: 0.9852\n"
     ]
    },
    {
     "data": {
      "image/png": "[encoded data removed]",
      "text/plain": [
       "<Figure size 432x288 with 1 Axes>"
      ]
     },
     "metadata": {
      "needs_background": "light"
     },
     "output_type": "display_data"
    },
    {
     "name": "stdout",
     "output_type": "stream",
     "text": [
      "\n",
      "\n",
      "\n",
      "==================================================\n",
      "Evaluation of model: CatBoost\n",
      "Accuracy score: 0.9300\n",
      "Precision score: 0.8366\n",
      "Recall score: 0.9143\n",
      "F1 score: 0.8737\n",
      "AUC score: 0.9846\n"
     ]
    },
    {
     "data": {
      "image/png": "[encoded data removed]",
      "text/plain": [
       "<Figure size 432x288 with 1 Axes>"
      ]
     },
     "metadata": {
      "needs_background": "light"
     },
     "output_type": "display_data"
    },
    {
     "name": "stdout",
     "output_type": "stream",
     "text": [
      "\n",
      "\n",
      "\n"
     ]
    }
   ],
   "source": [
    "default_models = [\n",
    "    gb_pipeline,\n",
    "    xgb_pipeline,\n",
    "    lgbm_pipeline,\n",
    "    catb_clf\n",
    "]\n",
    "\n",
    "default_names = [\n",
    "    'Gradient Boosting',\n",
    "    'XGBoost',\n",
    "    'LightGBM',\n",
    "    'CatBoost'\n",
    "]\n",
    "\n",
    "X_test_cat = drop_and_convert(X_test)\n",
    "\n",
    "Models = []\n",
    "Accuracy_scores = []\n",
    "Precision_scores = []\n",
    "Recall_scores = []\n",
    "F1_scores = []\n",
    "AUC_scores = []\n",
    "\n",
    "for model, name in zip(default_models, default_names):\n",
    "    print('='*50)\n",
    "    if name == 'CatBoost':\n",
    "        y_pred = model.predict(X_test_cat)\n",
    "    else:\n",
    "        y_pred = model.predict(X_test)\n",
    "    \n",
    "    Accuracy_score = accuracy_score(y_test, y_pred)\n",
    "    Precision_score = precision_score(y_test, y_pred)\n",
    "    Recall_score = recall_score(y_test, y_pred)\n",
    "    F1_score = f1_score(y_test, y_pred)\n",
    "    if name == 'CatBoost':\n",
    "        Roc_auc_score = roc_auc_score(y_test, model.predict_proba(X_test_cat)[:, 1])\n",
    "    else:\n",
    "        Roc_auc_score = roc_auc_score(y_test, model.predict_proba(X_test)[:, 1])\n",
    "    \n",
    "    print(f'Evaluation of model: {name}')\n",
    "    print(f'Accuracy score: {Accuracy_score:.4f}')\n",
    "    print(f'Precision score: {Precision_score:.4f}')\n",
    "    print(f'Recall score: {Recall_score:.4f}')\n",
    "    print(f'F1 score: {F1_score:.4f}')\n",
    "    print(f'AUC score: {Roc_auc_score:.4f}')\n",
    "    \n",
    "    if name == 'CatBoost':\n",
    "        fpr, tpr, thresholds = roc_curve(y_test, model.predict_proba(X_test_cat)[:, 1])\n",
    "    else:\n",
    "        fpr, tpr, thresholds = roc_curve(y_test, model.predict_proba(X_test)[:, 1])\n",
    "    \n",
    "    plt.plot(fpr, tpr, label=f'{name}')\n",
    "    plt.xlabel('False Positive Rate')\n",
    "    plt.ylabel('True Positive Rate')\n",
    "    plt.title('ROC')\n",
    "    plt.show()\n",
    "    \n",
    "    Models.append(name)\n",
    "    Accuracy_scores.append(Accuracy_score)\n",
    "    Precision_scores.append(Precision_score)\n",
    "    Recall_scores.append(Recall_score)\n",
    "    F1_scores.append(F1_score)\n",
    "    AUC_scores.append(Roc_auc_score)\n",
    "    print('\\n\\n')"
   ]
  },
  {
   "cell_type": "code",
   "execution_count": 47,
   "id": "f118a2e3",
   "metadata": {
    "scrolled": true
   },
   "outputs": [
    {
     "data": {
      "text/html": [
       "<div>\n",
       "<style scoped>\n",
       "    .dataframe tbody tr th:only-of-type {\n",
       "        vertical-align: middle;\n",
       "    }\n",
       "\n",
       "    .dataframe tbody tr th {\n",
       "        vertical-align: top;\n",
       "    }\n",
       "\n",
       "    .dataframe thead th {\n",
       "        text-align: right;\n",
       "    }\n",
       "</style>\n",
       "<table border=\"1\" class=\"dataframe\">\n",
       "  <thead>\n",
       "    <tr style=\"text-align: right;\">\n",
       "      <th></th>\n",
       "      <th>Model</th>\n",
       "      <th>Accuracy Score</th>\n",
       "      <th>Precision Score</th>\n",
       "      <th>Recall Score</th>\n",
       "      <th>F1 Score</th>\n",
       "      <th>AUC Score</th>\n",
       "    </tr>\n",
       "  </thead>\n",
       "  <tbody>\n",
       "    <tr>\n",
       "      <th>2</th>\n",
       "      <td>LightGBM</td>\n",
       "      <td>0.933775</td>\n",
       "      <td>0.877698</td>\n",
       "      <td>0.871429</td>\n",
       "      <td>0.874552</td>\n",
       "      <td>0.985158</td>\n",
       "    </tr>\n",
       "    <tr>\n",
       "      <th>3</th>\n",
       "      <td>CatBoost</td>\n",
       "      <td>0.929991</td>\n",
       "      <td>0.836601</td>\n",
       "      <td>0.914286</td>\n",
       "      <td>0.873720</td>\n",
       "      <td>0.984574</td>\n",
       "    </tr>\n",
       "    <tr>\n",
       "      <th>0</th>\n",
       "      <td>Gradient Boosting</td>\n",
       "      <td>0.929044</td>\n",
       "      <td>0.849829</td>\n",
       "      <td>0.889286</td>\n",
       "      <td>0.869110</td>\n",
       "      <td>0.984303</td>\n",
       "    </tr>\n",
       "    <tr>\n",
       "      <th>1</th>\n",
       "      <td>XGBoost</td>\n",
       "      <td>0.927152</td>\n",
       "      <td>0.863799</td>\n",
       "      <td>0.860714</td>\n",
       "      <td>0.862254</td>\n",
       "      <td>0.983338</td>\n",
       "    </tr>\n",
       "  </tbody>\n",
       "</table>\n",
       "</div>"
      ],
      "text/plain": [
       "               Model  Accuracy Score  Precision Score  Recall Score  F1 Score  \\\n",
       "2           LightGBM        0.933775         0.877698      0.871429  0.874552   \n",
       "3           CatBoost        0.929991         0.836601      0.914286  0.873720   \n",
       "0  Gradient Boosting        0.929044         0.849829      0.889286  0.869110   \n",
       "1            XGBoost        0.927152         0.863799      0.860714  0.862254   \n",
       "\n",
       "   AUC Score  \n",
       "2   0.985158  \n",
       "3   0.984574  \n",
       "0   0.984303  \n",
       "1   0.983338  "
      ]
     },
     "execution_count": 47,
     "metadata": {},
     "output_type": "execute_result"
    }
   ],
   "source": [
    "summary_default = pd.DataFrame({\n",
    "    'Model': Models,\n",
    "    'Accuracy Score': Accuracy_scores,\n",
    "    'Precision Score': Precision_scores,\n",
    "    'Recall Score': Recall_scores,\n",
    "    'F1 Score': F1_scores,\n",
    "    'AUC Score': AUC_scores\n",
    "})\n",
    "summary_default.sort_values('F1 Score', ascending=False)"
   ]
  },
  {
   "cell_type": "markdown",
   "id": "269fa47d",
   "metadata": {},
   "source": [
    "### Evaluation of models with optimized hyperparameters"
   ]
  },
  {
   "cell_type": "code",
   "execution_count": 48,
   "id": "9faa5502",
   "metadata": {
    "scrolled": false
   },
   "outputs": [
    {
     "name": "stdout",
     "output_type": "stream",
     "text": [
      "==================================================\n",
      "Evaluation of model: Gradient Boosting\n",
      "Accuracy score: 0.9290\n",
      "Precision score: 0.8451\n",
      "Recall score: 0.8964\n",
      "F1 score: 0.8700\n",
      "AUC score: 0.9802\n"
     ]
    },
    {
     "data": {
      "image/png": "[encoded data removed]",
      "text/plain": [
       "<Figure size 432x288 with 1 Axes>"
      ]
     },
     "metadata": {
      "needs_background": "light"
     },
     "output_type": "display_data"
    },
    {
     "name": "stdout",
     "output_type": "stream",
     "text": [
      "\n",
      "\n",
      "\n",
      "==================================================\n",
      "Evaluation of model: XGBoost\n",
      "Accuracy score: 0.9319\n",
      "Precision score: 0.8662\n",
      "Recall score: 0.8786\n",
      "F1 score: 0.8723\n",
      "AUC score: 0.9816\n"
     ]
    },
    {
     "data": {
      "image/png": "[encoded data removed]",
      "text/plain": [
       "<Figure size 432x288 with 1 Axes>"
      ]
     },
     "metadata": {
      "needs_background": "light"
     },
     "output_type": "display_data"
    },
    {
     "name": "stdout",
     "output_type": "stream",
     "text": [
      "\n",
      "\n",
      "\n",
      "==================================================\n",
      "Evaluation of model: LightGBM\n",
      "Accuracy score: 0.9272\n",
      "Precision score: 0.8418\n",
      "Recall score: 0.8929\n",
      "F1 score: 0.8666\n",
      "AUC score: 0.9849\n"
     ]
    },
    {
     "data": {
      "image/png": "[encoded data removed]",
      "text/plain": [
       "<Figure size 432x288 with 1 Axes>"
      ]
     },
     "metadata": {
      "needs_background": "light"
     },
     "output_type": "display_data"
    },
    {
     "name": "stdout",
     "output_type": "stream",
     "text": [
      "\n",
      "\n",
      "\n",
      "==================================================\n",
      "Evaluation of model: CatBoost\n",
      "Accuracy score: 0.9272\n",
      "Precision score: 0.8243\n",
      "Recall score: 0.9214\n",
      "F1 score: 0.8702\n",
      "AUC score: 0.9832\n"
     ]
    },
    {
     "data": {
      "image/png": "[encoded data removed]",
      "text/plain": [
       "<Figure size 432x288 with 1 Axes>"
      ]
     },
     "metadata": {
      "needs_background": "light"
     },
     "output_type": "display_data"
    },
    {
     "name": "stdout",
     "output_type": "stream",
     "text": [
      "\n",
      "\n",
      "\n"
     ]
    }
   ],
   "source": [
    "optimized_models = [\n",
    "    gb_opt,\n",
    "    xgbc_opt,\n",
    "    lgbm_opt,\n",
    "    catb_opt\n",
    "]\n",
    "\n",
    "optimized_names = [\n",
    "    'Gradient Boosting - opt',\n",
    "    'XGBoost - opt',\n",
    "    'LightGBM - opt',\n",
    "    'CatBoost - opt'\n",
    "]\n",
    "\n",
    "Models = []\n",
    "Accuracy_scores = []\n",
    "Precision_scores = []\n",
    "Recall_scores = []\n",
    "F1_scores = []\n",
    "AUC_scores = []\n",
    "\n",
    "for model, name in zip(optimized_models, default_names):\n",
    "    print('='*50)\n",
    "    if name == 'CatBoost':\n",
    "        y_pred = model.predict(X_test_cat)\n",
    "    else:\n",
    "        y_pred = model.predict(X_test)\n",
    "    \n",
    "    Accuracy_score = accuracy_score(y_test, y_pred)\n",
    "    Precision_score = precision_score(y_test, y_pred)\n",
    "    Recall_score = recall_score(y_test, y_pred)\n",
    "    F1_score = f1_score(y_test, y_pred)\n",
    "    if name == 'CatBoost':\n",
    "        Roc_auc_score = roc_auc_score(y_test, model.predict_proba(X_test_cat)[:, 1])\n",
    "    else:\n",
    "        Roc_auc_score = roc_auc_score(y_test, model.predict_proba(X_test)[:, 1])\n",
    "    \n",
    "    print(f'Evaluation of model: {name}')\n",
    "    print(f'Accuracy score: {Accuracy_score:.4f}')\n",
    "    print(f'Precision score: {Precision_score:.4f}')\n",
    "    print(f'Recall score: {Recall_score:.4f}')\n",
    "    print(f'F1 score: {F1_score:.4f}')\n",
    "    print(f'AUC score: {Roc_auc_score:.4f}')\n",
    "    \n",
    "    if name == 'CatBoost':\n",
    "        fpr, tpr, thresholds = roc_curve(y_test, model.predict_proba(X_test_cat)[:, 1])\n",
    "    else:\n",
    "        fpr, tpr, thresholds = roc_curve(y_test, model.predict_proba(X_test)[:, 1])\n",
    "    \n",
    "    plt.plot(fpr, tpr, label=f'{name}')\n",
    "    plt.xlabel('False Positive Rate')\n",
    "    plt.ylabel('True Positive Rate')\n",
    "    plt.title('ROC')\n",
    "    plt.show()\n",
    "    \n",
    "    Models.append(name)\n",
    "    Accuracy_scores.append(Accuracy_score)\n",
    "    Precision_scores.append(Precision_score)\n",
    "    Recall_scores.append(Recall_score)\n",
    "    F1_scores.append(F1_score)\n",
    "    AUC_scores.append(Roc_auc_score)\n",
    "    print('\\n\\n')"
   ]
  },
  {
   "cell_type": "code",
   "execution_count": 49,
   "id": "da79b9ae",
   "metadata": {},
   "outputs": [
    {
     "data": {
      "text/html": [
       "<div>\n",
       "<style scoped>\n",
       "    .dataframe tbody tr th:only-of-type {\n",
       "        vertical-align: middle;\n",
       "    }\n",
       "\n",
       "    .dataframe tbody tr th {\n",
       "        vertical-align: top;\n",
       "    }\n",
       "\n",
       "    .dataframe thead th {\n",
       "        text-align: right;\n",
       "    }\n",
       "</style>\n",
       "<table border=\"1\" class=\"dataframe\">\n",
       "  <thead>\n",
       "    <tr style=\"text-align: right;\">\n",
       "      <th></th>\n",
       "      <th>Model</th>\n",
       "      <th>Accuracy Score</th>\n",
       "      <th>Precision Score</th>\n",
       "      <th>Recall Score</th>\n",
       "      <th>F1 Score</th>\n",
       "      <th>AUC Score</th>\n",
       "    </tr>\n",
       "  </thead>\n",
       "  <tbody>\n",
       "    <tr>\n",
       "      <th>1</th>\n",
       "      <td>XGBoost</td>\n",
       "      <td>0.931883</td>\n",
       "      <td>0.866197</td>\n",
       "      <td>0.878571</td>\n",
       "      <td>0.872340</td>\n",
       "      <td>0.981596</td>\n",
       "    </tr>\n",
       "    <tr>\n",
       "      <th>3</th>\n",
       "      <td>CatBoost</td>\n",
       "      <td>0.927152</td>\n",
       "      <td>0.824281</td>\n",
       "      <td>0.921429</td>\n",
       "      <td>0.870152</td>\n",
       "      <td>0.983209</td>\n",
       "    </tr>\n",
       "    <tr>\n",
       "      <th>0</th>\n",
       "      <td>Gradient Boosting</td>\n",
       "      <td>0.929044</td>\n",
       "      <td>0.845118</td>\n",
       "      <td>0.896429</td>\n",
       "      <td>0.870017</td>\n",
       "      <td>0.980242</td>\n",
       "    </tr>\n",
       "    <tr>\n",
       "      <th>2</th>\n",
       "      <td>LightGBM</td>\n",
       "      <td>0.927152</td>\n",
       "      <td>0.841751</td>\n",
       "      <td>0.892857</td>\n",
       "      <td>0.866551</td>\n",
       "      <td>0.984924</td>\n",
       "    </tr>\n",
       "  </tbody>\n",
       "</table>\n",
       "</div>"
      ],
      "text/plain": [
       "               Model  Accuracy Score  Precision Score  Recall Score  F1 Score  \\\n",
       "1            XGBoost        0.931883         0.866197      0.878571  0.872340   \n",
       "3           CatBoost        0.927152         0.824281      0.921429  0.870152   \n",
       "0  Gradient Boosting        0.929044         0.845118      0.896429  0.870017   \n",
       "2           LightGBM        0.927152         0.841751      0.892857  0.866551   \n",
       "\n",
       "   AUC Score  \n",
       "1   0.981596  \n",
       "3   0.983209  \n",
       "0   0.980242  \n",
       "2   0.984924  "
      ]
     },
     "execution_count": 49,
     "metadata": {},
     "output_type": "execute_result"
    }
   ],
   "source": [
    "summary_opt = pd.DataFrame({\n",
    "    'Model': Models,\n",
    "    'Accuracy Score': Accuracy_scores,\n",
    "    'Precision Score': Precision_scores,\n",
    "    'Recall Score': Recall_scores,\n",
    "    'F1 Score': F1_scores,\n",
    "    'AUC Score': AUC_scores\n",
    "})\n",
    "summary_opt.sort_values('F1 Score', ascending=False)"
   ]
  },
  {
   "cell_type": "markdown",
   "id": "c2482566",
   "metadata": {},
   "source": [
    "The data set was downloaded from [here](https://community.ibm.com/accelerators/catalog/content/Telco-customer-churn) on 27 September 2021.\n",
    "\n",
    "Descriptions of the features is [here](https://community.ibm.com/community/user/businessanalytics/blogs/steven-macko/2019/07/11/telco-customer-churn-1113) on 27 September 2021.\n",
    "\n",
    "Project inspired by [video](https://www.youtube.com/watch?v=GrJP9FLV3FE&list=PLblh5JKOoLULU0irPgs1SnKO6wqVjKUsQ&index=5&ab_channel=StatQuestwithJoshStarmer) from StatQuest.\n",
    "\n",
    "References:\n",
    "- https://imbalanced-learn.org/stable/auto_examples/pipeline/plot_pipeline_classification.html#sphx-glr-auto-examples-pipeline-plot-pipeline-classification-py"
   ]
  },
  {
   "cell_type": "code",
   "execution_count": null,
   "id": "834288df",
   "metadata": {},
   "outputs": [],
   "source": []
  }
 ],
 "metadata": {
  "kernelspec": {
   "display_name": "Python 3 (ipykernel)",
   "language": "python",
   "name": "python3"
  },
  "language_info": {
   "codemirror_mode": {
    "name": "ipython",
    "version": 3
   },
   "file_extension": ".py",
   "mimetype": "text/x-python",
   "name": "python",
   "nbconvert_exporter": "python",
   "pygments_lexer": "ipython3",
   "version": "3.9.7"
  }
 },
 "nbformat": 4,
 "nbformat_minor": 5
}
